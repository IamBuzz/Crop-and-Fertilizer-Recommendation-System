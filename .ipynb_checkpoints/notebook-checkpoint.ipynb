{
 "cells": [
  {
   "cell_type": "code",
   "execution_count": 1,
   "id": "8c5c1141",
   "metadata": {},
   "outputs": [],
   "source": [
    "from __future__ import print_function\n",
    "import pandas as pd\n",
    "import numpy as np\n",
    "import matplotlib.pyplot as plt\n",
    "import seaborn as sns\n",
    "from sklearn.metrics import classification_report\n",
    "from sklearn import metrics\n",
    "from sklearn import tree"
   ]
  },
  {
   "cell_type": "markdown",
   "id": "4336467f",
   "metadata": {},
   "source": [
    "<h3>Understanding the Dataset 💽</h3>\n"
   ]
  },
  {
   "cell_type": "code",
   "execution_count": 2,
   "id": "4a27720a",
   "metadata": {},
   "outputs": [],
   "source": [
    "data_path = 'Crop and fertilizer dataset.csv'\n",
    "df = pd.read_csv(data_path)"
   ]
  },
  {
   "cell_type": "code",
   "execution_count": 3,
   "id": "5f5ac724-238e-490f-8f34-61d848ba0776",
   "metadata": {},
   "outputs": [
    {
     "data": {
      "text/html": [
       "<div>\n",
       "<style scoped>\n",
       "    .dataframe tbody tr th:only-of-type {\n",
       "        vertical-align: middle;\n",
       "    }\n",
       "\n",
       "    .dataframe tbody tr th {\n",
       "        vertical-align: top;\n",
       "    }\n",
       "\n",
       "    .dataframe thead th {\n",
       "        text-align: right;\n",
       "    }\n",
       "</style>\n",
       "<table border=\"1\" class=\"dataframe\">\n",
       "  <thead>\n",
       "    <tr style=\"text-align: right;\">\n",
       "      <th></th>\n",
       "      <th>District_Name</th>\n",
       "      <th>Soil_color</th>\n",
       "      <th>Nitrogen</th>\n",
       "      <th>Phosphorus</th>\n",
       "      <th>Potassium</th>\n",
       "      <th>pH</th>\n",
       "      <th>Rainfall</th>\n",
       "      <th>Temperature</th>\n",
       "      <th>Crop</th>\n",
       "      <th>Fertilizer</th>\n",
       "      <th>Link</th>\n",
       "    </tr>\n",
       "  </thead>\n",
       "  <tbody>\n",
       "    <tr>\n",
       "      <th>0</th>\n",
       "      <td>Kolhapur</td>\n",
       "      <td>Black</td>\n",
       "      <td>75</td>\n",
       "      <td>50</td>\n",
       "      <td>100</td>\n",
       "      <td>6.5</td>\n",
       "      <td>1000</td>\n",
       "      <td>20</td>\n",
       "      <td>Sugarcane</td>\n",
       "      <td>Urea</td>\n",
       "      <td>https://youtu.be/2t5Am0xLTOo</td>\n",
       "    </tr>\n",
       "    <tr>\n",
       "      <th>1</th>\n",
       "      <td>Kolhapur</td>\n",
       "      <td>Black</td>\n",
       "      <td>80</td>\n",
       "      <td>50</td>\n",
       "      <td>100</td>\n",
       "      <td>6.5</td>\n",
       "      <td>1000</td>\n",
       "      <td>20</td>\n",
       "      <td>Sugarcane</td>\n",
       "      <td>Urea</td>\n",
       "      <td>https://youtu.be/2t5Am0xLTOo</td>\n",
       "    </tr>\n",
       "    <tr>\n",
       "      <th>2</th>\n",
       "      <td>Kolhapur</td>\n",
       "      <td>Black</td>\n",
       "      <td>85</td>\n",
       "      <td>50</td>\n",
       "      <td>100</td>\n",
       "      <td>6.5</td>\n",
       "      <td>1000</td>\n",
       "      <td>20</td>\n",
       "      <td>Sugarcane</td>\n",
       "      <td>Urea</td>\n",
       "      <td>https://youtu.be/2t5Am0xLTOo</td>\n",
       "    </tr>\n",
       "    <tr>\n",
       "      <th>3</th>\n",
       "      <td>Kolhapur</td>\n",
       "      <td>Black</td>\n",
       "      <td>90</td>\n",
       "      <td>50</td>\n",
       "      <td>100</td>\n",
       "      <td>6.5</td>\n",
       "      <td>1000</td>\n",
       "      <td>20</td>\n",
       "      <td>Sugarcane</td>\n",
       "      <td>Urea</td>\n",
       "      <td>https://youtu.be/2t5Am0xLTOo</td>\n",
       "    </tr>\n",
       "    <tr>\n",
       "      <th>4</th>\n",
       "      <td>Kolhapur</td>\n",
       "      <td>Black</td>\n",
       "      <td>95</td>\n",
       "      <td>50</td>\n",
       "      <td>100</td>\n",
       "      <td>6.5</td>\n",
       "      <td>1000</td>\n",
       "      <td>20</td>\n",
       "      <td>Sugarcane</td>\n",
       "      <td>Urea</td>\n",
       "      <td>https://youtu.be/2t5Am0xLTOo</td>\n",
       "    </tr>\n",
       "  </tbody>\n",
       "</table>\n",
       "</div>"
      ],
      "text/plain": [
       "  District_Name Soil_color  Nitrogen  Phosphorus  Potassium   pH  Rainfall  \\\n",
       "0      Kolhapur      Black        75          50        100  6.5      1000   \n",
       "1      Kolhapur      Black        80          50        100  6.5      1000   \n",
       "2      Kolhapur      Black        85          50        100  6.5      1000   \n",
       "3      Kolhapur      Black        90          50        100  6.5      1000   \n",
       "4      Kolhapur      Black        95          50        100  6.5      1000   \n",
       "\n",
       "   Temperature       Crop Fertilizer                          Link  \n",
       "0           20  Sugarcane       Urea  https://youtu.be/2t5Am0xLTOo  \n",
       "1           20  Sugarcane       Urea  https://youtu.be/2t5Am0xLTOo  \n",
       "2           20  Sugarcane       Urea  https://youtu.be/2t5Am0xLTOo  \n",
       "3           20  Sugarcane       Urea  https://youtu.be/2t5Am0xLTOo  \n",
       "4           20  Sugarcane       Urea  https://youtu.be/2t5Am0xLTOo  "
      ]
     },
     "execution_count": 3,
     "metadata": {},
     "output_type": "execute_result"
    }
   ],
   "source": [
    "df.head()"
   ]
  },
  {
   "cell_type": "code",
   "execution_count": 4,
   "id": "2c95717e",
   "metadata": {},
   "outputs": [
    {
     "name": "stdout",
     "output_type": "stream",
     "text": [
      "<class 'pandas.core.frame.DataFrame'>\n",
      "RangeIndex: 4513 entries, 0 to 4512\n",
      "Data columns (total 11 columns):\n",
      " #   Column         Non-Null Count  Dtype  \n",
      "---  ------         --------------  -----  \n",
      " 0   District_Name  4513 non-null   object \n",
      " 1   Soil_color     4513 non-null   object \n",
      " 2   Nitrogen       4513 non-null   int64  \n",
      " 3   Phosphorus     4513 non-null   int64  \n",
      " 4   Potassium      4513 non-null   int64  \n",
      " 5   pH             4513 non-null   float64\n",
      " 6   Rainfall       4513 non-null   int64  \n",
      " 7   Temperature    4513 non-null   int64  \n",
      " 8   Crop           4513 non-null   object \n",
      " 9   Fertilizer     4513 non-null   object \n",
      " 10  Link           4513 non-null   object \n",
      "dtypes: float64(1), int64(5), object(5)\n",
      "memory usage: 388.0+ KB\n"
     ]
    }
   ],
   "source": [
    "df.info()"
   ]
  },
  {
   "cell_type": "code",
   "execution_count": 5,
   "id": "518591a3",
   "metadata": {},
   "outputs": [
    {
     "data": {
      "text/plain": [
       "Sugarcane    1010\n",
       "Wheat         859\n",
       "Cotton        650\n",
       "Jowar         394\n",
       "Maize         350\n",
       "Rice          309\n",
       "Groundnut     177\n",
       "Tur           126\n",
       "Ginger        125\n",
       "Grapes        125\n",
       "Urad           99\n",
       "Moong          99\n",
       "Gram           78\n",
       "Turmeric       55\n",
       "Soybean        45\n",
       "Masoor         12\n",
       "Name: Crop, dtype: int64"
      ]
     },
     "execution_count": 5,
     "metadata": {},
     "output_type": "execute_result"
    }
   ],
   "source": [
    "df['Crop'].value_counts()"
   ]
  },
  {
   "cell_type": "code",
   "execution_count": 6,
   "id": "1ca1fb18",
   "metadata": {},
   "outputs": [],
   "source": [
    "df = df.drop(['Link'], axis=1)"
   ]
  },
  {
   "cell_type": "code",
   "execution_count": 7,
   "id": "a53c9afb",
   "metadata": {
    "execution": {
     "iopub.execute_input": "2023-06-20T11:09:17.512213Z",
     "iopub.status.busy": "2023-06-20T11:09:17.511741Z",
     "iopub.status.idle": "2023-06-20T11:09:17.527884Z",
     "shell.execute_reply": "2023-06-20T11:09:17.526761Z",
     "shell.execute_reply.started": "2023-06-20T11:09:17.512172Z"
    }
   },
   "outputs": [
    {
     "data": {
      "text/html": [
       "<div>\n",
       "<style scoped>\n",
       "    .dataframe tbody tr th:only-of-type {\n",
       "        vertical-align: middle;\n",
       "    }\n",
       "\n",
       "    .dataframe tbody tr th {\n",
       "        vertical-align: top;\n",
       "    }\n",
       "\n",
       "    .dataframe thead th {\n",
       "        text-align: right;\n",
       "    }\n",
       "</style>\n",
       "<table border=\"1\" class=\"dataframe\">\n",
       "  <thead>\n",
       "    <tr style=\"text-align: right;\">\n",
       "      <th></th>\n",
       "      <th>District_Name</th>\n",
       "      <th>Soil_color</th>\n",
       "      <th>Nitrogen</th>\n",
       "      <th>Phosphorus</th>\n",
       "      <th>Potassium</th>\n",
       "      <th>pH</th>\n",
       "      <th>Rainfall</th>\n",
       "      <th>Temperature</th>\n",
       "      <th>Crop</th>\n",
       "      <th>Fertilizer</th>\n",
       "    </tr>\n",
       "  </thead>\n",
       "  <tbody>\n",
       "    <tr>\n",
       "      <th>0</th>\n",
       "      <td>Kolhapur</td>\n",
       "      <td>Black</td>\n",
       "      <td>75</td>\n",
       "      <td>50</td>\n",
       "      <td>100</td>\n",
       "      <td>6.5</td>\n",
       "      <td>1000</td>\n",
       "      <td>20</td>\n",
       "      <td>Sugarcane</td>\n",
       "      <td>Urea</td>\n",
       "    </tr>\n",
       "    <tr>\n",
       "      <th>1</th>\n",
       "      <td>Kolhapur</td>\n",
       "      <td>Black</td>\n",
       "      <td>80</td>\n",
       "      <td>50</td>\n",
       "      <td>100</td>\n",
       "      <td>6.5</td>\n",
       "      <td>1000</td>\n",
       "      <td>20</td>\n",
       "      <td>Sugarcane</td>\n",
       "      <td>Urea</td>\n",
       "    </tr>\n",
       "    <tr>\n",
       "      <th>2</th>\n",
       "      <td>Kolhapur</td>\n",
       "      <td>Black</td>\n",
       "      <td>85</td>\n",
       "      <td>50</td>\n",
       "      <td>100</td>\n",
       "      <td>6.5</td>\n",
       "      <td>1000</td>\n",
       "      <td>20</td>\n",
       "      <td>Sugarcane</td>\n",
       "      <td>Urea</td>\n",
       "    </tr>\n",
       "    <tr>\n",
       "      <th>3</th>\n",
       "      <td>Kolhapur</td>\n",
       "      <td>Black</td>\n",
       "      <td>90</td>\n",
       "      <td>50</td>\n",
       "      <td>100</td>\n",
       "      <td>6.5</td>\n",
       "      <td>1000</td>\n",
       "      <td>20</td>\n",
       "      <td>Sugarcane</td>\n",
       "      <td>Urea</td>\n",
       "    </tr>\n",
       "    <tr>\n",
       "      <th>4</th>\n",
       "      <td>Kolhapur</td>\n",
       "      <td>Black</td>\n",
       "      <td>95</td>\n",
       "      <td>50</td>\n",
       "      <td>100</td>\n",
       "      <td>6.5</td>\n",
       "      <td>1000</td>\n",
       "      <td>20</td>\n",
       "      <td>Sugarcane</td>\n",
       "      <td>Urea</td>\n",
       "    </tr>\n",
       "  </tbody>\n",
       "</table>\n",
       "</div>"
      ],
      "text/plain": [
       "  District_Name Soil_color  Nitrogen  Phosphorus  Potassium   pH  Rainfall  \\\n",
       "0      Kolhapur      Black        75          50        100  6.5      1000   \n",
       "1      Kolhapur      Black        80          50        100  6.5      1000   \n",
       "2      Kolhapur      Black        85          50        100  6.5      1000   \n",
       "3      Kolhapur      Black        90          50        100  6.5      1000   \n",
       "4      Kolhapur      Black        95          50        100  6.5      1000   \n",
       "\n",
       "   Temperature       Crop Fertilizer  \n",
       "0           20  Sugarcane       Urea  \n",
       "1           20  Sugarcane       Urea  \n",
       "2           20  Sugarcane       Urea  \n",
       "3           20  Sugarcane       Urea  \n",
       "4           20  Sugarcane       Urea  "
      ]
     },
     "execution_count": 7,
     "metadata": {},
     "output_type": "execute_result"
    }
   ],
   "source": [
    "df.head()"
   ]
  },
  {
   "cell_type": "code",
   "execution_count": 8,
   "id": "a1eac6f7",
   "metadata": {
    "execution": {
     "iopub.execute_input": "2023-06-20T11:09:17.530006Z",
     "iopub.status.busy": "2023-06-20T11:09:17.529646Z",
     "iopub.status.idle": "2023-06-20T11:09:17.550363Z",
     "shell.execute_reply": "2023-06-20T11:09:17.549412Z",
     "shell.execute_reply.started": "2023-06-20T11:09:17.529977Z"
    }
   },
   "outputs": [
    {
     "data": {
      "text/html": [
       "<div>\n",
       "<style scoped>\n",
       "    .dataframe tbody tr th:only-of-type {\n",
       "        vertical-align: middle;\n",
       "    }\n",
       "\n",
       "    .dataframe tbody tr th {\n",
       "        vertical-align: top;\n",
       "    }\n",
       "\n",
       "    .dataframe thead th {\n",
       "        text-align: right;\n",
       "    }\n",
       "</style>\n",
       "<table border=\"1\" class=\"dataframe\">\n",
       "  <thead>\n",
       "    <tr style=\"text-align: right;\">\n",
       "      <th></th>\n",
       "      <th>District_Name</th>\n",
       "      <th>Soil_color</th>\n",
       "      <th>Nitrogen</th>\n",
       "      <th>Phosphorus</th>\n",
       "      <th>Potassium</th>\n",
       "      <th>pH</th>\n",
       "      <th>Rainfall</th>\n",
       "      <th>Temperature</th>\n",
       "      <th>Crop</th>\n",
       "      <th>Fertilizer</th>\n",
       "    </tr>\n",
       "  </thead>\n",
       "  <tbody>\n",
       "    <tr>\n",
       "      <th>4508</th>\n",
       "      <td>Pune</td>\n",
       "      <td>Black</td>\n",
       "      <td>130</td>\n",
       "      <td>80</td>\n",
       "      <td>150</td>\n",
       "      <td>7.0</td>\n",
       "      <td>1400</td>\n",
       "      <td>30</td>\n",
       "      <td>Sugarcane</td>\n",
       "      <td>MOP</td>\n",
       "    </tr>\n",
       "    <tr>\n",
       "      <th>4509</th>\n",
       "      <td>Pune</td>\n",
       "      <td>Black</td>\n",
       "      <td>135</td>\n",
       "      <td>80</td>\n",
       "      <td>150</td>\n",
       "      <td>7.0</td>\n",
       "      <td>1400</td>\n",
       "      <td>30</td>\n",
       "      <td>Sugarcane</td>\n",
       "      <td>MOP</td>\n",
       "    </tr>\n",
       "    <tr>\n",
       "      <th>4510</th>\n",
       "      <td>Pune</td>\n",
       "      <td>Black</td>\n",
       "      <td>140</td>\n",
       "      <td>80</td>\n",
       "      <td>150</td>\n",
       "      <td>7.0</td>\n",
       "      <td>1400</td>\n",
       "      <td>30</td>\n",
       "      <td>Sugarcane</td>\n",
       "      <td>MOP</td>\n",
       "    </tr>\n",
       "    <tr>\n",
       "      <th>4511</th>\n",
       "      <td>Pune</td>\n",
       "      <td>Black</td>\n",
       "      <td>145</td>\n",
       "      <td>80</td>\n",
       "      <td>150</td>\n",
       "      <td>7.0</td>\n",
       "      <td>1400</td>\n",
       "      <td>30</td>\n",
       "      <td>Sugarcane</td>\n",
       "      <td>MOP</td>\n",
       "    </tr>\n",
       "    <tr>\n",
       "      <th>4512</th>\n",
       "      <td>Pune</td>\n",
       "      <td>Black</td>\n",
       "      <td>150</td>\n",
       "      <td>80</td>\n",
       "      <td>150</td>\n",
       "      <td>7.0</td>\n",
       "      <td>1400</td>\n",
       "      <td>30</td>\n",
       "      <td>Sugarcane</td>\n",
       "      <td>MOP</td>\n",
       "    </tr>\n",
       "  </tbody>\n",
       "</table>\n",
       "</div>"
      ],
      "text/plain": [
       "     District_Name Soil_color  Nitrogen  Phosphorus  Potassium   pH  Rainfall  \\\n",
       "4508          Pune      Black       130          80        150  7.0      1400   \n",
       "4509          Pune      Black       135          80        150  7.0      1400   \n",
       "4510          Pune      Black       140          80        150  7.0      1400   \n",
       "4511          Pune      Black       145          80        150  7.0      1400   \n",
       "4512          Pune      Black       150          80        150  7.0      1400   \n",
       "\n",
       "      Temperature       Crop Fertilizer  \n",
       "4508           30  Sugarcane        MOP  \n",
       "4509           30  Sugarcane        MOP  \n",
       "4510           30  Sugarcane        MOP  \n",
       "4511           30  Sugarcane        MOP  \n",
       "4512           30  Sugarcane        MOP  "
      ]
     },
     "execution_count": 8,
     "metadata": {},
     "output_type": "execute_result"
    }
   ],
   "source": [
    "df.tail()"
   ]
  },
  {
   "cell_type": "code",
   "execution_count": 9,
   "id": "bdff222a",
   "metadata": {
    "execution": {
     "iopub.execute_input": "2023-06-20T11:09:17.553631Z",
     "iopub.status.busy": "2023-06-20T11:09:17.553007Z",
     "iopub.status.idle": "2023-06-20T11:09:17.564693Z",
     "shell.execute_reply": "2023-06-20T11:09:17.563428Z",
     "shell.execute_reply.started": "2023-06-20T11:09:17.553589Z"
    }
   },
   "outputs": [
    {
     "name": "stdout",
     "output_type": "stream",
     "text": [
      "Rows, Cols = (4513, 10)\n",
      "Rows * Cols = 45130\n"
     ]
    }
   ],
   "source": [
    "print(f\"Rows, Cols = {df.shape}\")\n",
    "print(f\"Rows * Cols = {df.size}\")"
   ]
  },
  {
   "cell_type": "code",
   "execution_count": 10,
   "id": "b9caf969",
   "metadata": {
    "execution": {
     "iopub.execute_input": "2023-06-20T11:09:17.56731Z",
     "iopub.status.busy": "2023-06-20T11:09:17.566291Z",
     "iopub.status.idle": "2023-06-20T11:09:17.582118Z",
     "shell.execute_reply": "2023-06-20T11:09:17.581195Z",
     "shell.execute_reply.started": "2023-06-20T11:09:17.567275Z"
    }
   },
   "outputs": [
    {
     "data": {
      "text/plain": [
       "Index(['District_Name', 'Soil_color', 'Nitrogen', 'Phosphorus', 'Potassium',\n",
       "       'pH', 'Rainfall', 'Temperature', 'Crop', 'Fertilizer'],\n",
       "      dtype='object')"
      ]
     },
     "execution_count": 10,
     "metadata": {},
     "output_type": "execute_result"
    }
   ],
   "source": [
    "# The features of our dataset\n",
    "df.columns"
   ]
  },
  {
   "cell_type": "code",
   "execution_count": 11,
   "id": "d44237a1",
   "metadata": {
    "execution": {
     "iopub.execute_input": "2023-06-20T11:09:17.584271Z",
     "iopub.status.busy": "2023-06-20T11:09:17.583569Z",
     "iopub.status.idle": "2023-06-20T11:09:17.597442Z",
     "shell.execute_reply": "2023-06-20T11:09:17.595852Z",
     "shell.execute_reply.started": "2023-06-20T11:09:17.584238Z"
    }
   },
   "outputs": [
    {
     "data": {
      "text/plain": [
       "array(['Urea', 'DAP', 'MOP', '10:26:26 NPK', 'SSP', 'Magnesium Sulphate',\n",
       "       '13:32:26 NPK', '12:32:16 NPK', '50:26:26 NPK', '19:19:19 NPK',\n",
       "       'Chilated Micronutrient', '18:46:00 NPK', 'Sulphur',\n",
       "       '20:20:20 NPK', 'Ammonium Sulphate', 'Ferrous Sulphate',\n",
       "       'White Potash', '10:10:10 NPK', 'Hydrated Lime'], dtype=object)"
      ]
     },
     "execution_count": 11,
     "metadata": {},
     "output_type": "execute_result"
    }
   ],
   "source": [
    "# The labels on which recommendation will be performed\n",
    "df['Fertilizer'].unique()\n"
   ]
  },
  {
   "cell_type": "code",
   "execution_count": 12,
   "id": "8f0d524b",
   "metadata": {},
   "outputs": [
    {
     "data": {
      "text/plain": [
       "array(['Sugarcane', 'Jowar', 'Cotton', 'Rice', 'Wheat', 'Groundnut',\n",
       "       'Maize', 'Tur', 'Urad', 'Moong', 'Gram', 'Masoor', 'Soybean',\n",
       "       'Ginger', 'Turmeric', 'Grapes'], dtype=object)"
      ]
     },
     "execution_count": 12,
     "metadata": {},
     "output_type": "execute_result"
    }
   ],
   "source": [
    "df['Crop'].unique()"
   ]
  },
  {
   "cell_type": "code",
   "execution_count": 13,
   "id": "9a14506c",
   "metadata": {
    "execution": {
     "iopub.execute_input": "2023-06-20T11:09:17.599497Z",
     "iopub.status.busy": "2023-06-20T11:09:17.599108Z",
     "iopub.status.idle": "2023-06-20T11:09:18.162492Z",
     "shell.execute_reply": "2023-06-20T11:09:18.16119Z",
     "shell.execute_reply.started": "2023-06-20T11:09:17.599466Z"
    }
   },
   "outputs": [
    {
     "data": {
      "text/plain": [
       "<Axes: >"
      ]
     },
     "execution_count": 13,
     "metadata": {},
     "output_type": "execute_result"
    },
    {
     "data": {
      "image/png": "[encoded data removed]",
      "text/plain": [
       "<Figure size 640x480 with 2 Axes>"
      ]
     },
     "metadata": {},
     "output_type": "display_data"
    }
   ],
   "source": [
    "# Making a heatmap of the dataset correlation : including only numerical data\n",
    "linewidth = 2\n",
    "linecolor = \"black\"\n",
    "\n",
    "sns.heatmap(data=df.select_dtypes(include='number').corr(),\n",
    "            annot=True, \n",
    "            linewidth = linewidth, \n",
    "            linecolor = linecolor)"
   ]
  },
  {
   "cell_type": "code",
   "execution_count": 14,
   "id": "d7437275",
   "metadata": {
    "execution": {
     "iopub.execute_input": "2023-06-20T11:09:18.164583Z",
     "iopub.status.busy": "2023-06-20T11:09:18.164115Z",
     "iopub.status.idle": "2023-06-20T11:09:18.176354Z",
     "shell.execute_reply": "2023-06-20T11:09:18.175123Z",
     "shell.execute_reply.started": "2023-06-20T11:09:18.164544Z"
    }
   },
   "outputs": [],
   "source": [
    "from sklearn.model_selection import train_test_split\n",
    "features = df[['Nitrogen', 'Phosphorus', 'Potassium', 'pH', 'Rainfall', 'Temperature']]\n",
    "target = df['Fertilizer']\n",
    "\n",
    "xtrain, xtest, ytrain, ytest = train_test_split(features,\n",
    "                                                target,\n",
    "                                                test_size = 0.2,\n",
    "                                                random_state = None)"
   ]
  },
  {
   "cell_type": "code",
   "execution_count": 15,
   "id": "f03c6f52",
   "metadata": {
    "execution": {
     "iopub.execute_input": "2023-06-20T11:09:18.178881Z",
     "iopub.status.busy": "2023-06-20T11:09:18.178098Z",
     "iopub.status.idle": "2023-06-20T11:09:18.187154Z",
     "shell.execute_reply": "2023-06-20T11:09:18.185838Z",
     "shell.execute_reply.started": "2023-06-20T11:09:18.178832Z"
    }
   },
   "outputs": [],
   "source": [
    "# Defining a dictionary such that key = modelname and value = accuracy of the model\n",
    "best_model = {}"
   ]
  },
  {
   "cell_type": "markdown",
   "id": "32b46a67",
   "metadata": {},
   "source": [
    "<h3>Cross Validation Accuracy</h3>"
   ]
  },
  {
   "cell_type": "code",
   "execution_count": 16,
   "id": "1e2abc6f",
   "metadata": {
    "execution": {
     "iopub.execute_input": "2023-06-20T11:09:18.191827Z",
     "iopub.status.busy": "2023-06-20T11:09:18.191466Z",
     "iopub.status.idle": "2023-06-20T11:09:18.198894Z",
     "shell.execute_reply": "2023-06-20T11:09:18.197294Z",
     "shell.execute_reply.started": "2023-06-20T11:09:18.1918Z"
    }
   },
   "outputs": [],
   "source": [
    "from sklearn.model_selection import cross_val_score\n",
    "\n",
    "def cross_val_accuracy(model):\n",
    "    # This function calculates the mean cross validation accuracy\n",
    "    score = cross_val_score(model, features, target,cv=5)\n",
    "    #get the mean of each fold \n",
    "    return score.mean() * 100"
   ]
  },
  {
   "cell_type": "markdown",
   "id": "8395a959",
   "metadata": {},
   "source": [
    "<h3>Saving the models 📦</h3>"
   ]
  },
  {
   "cell_type": "code",
   "execution_count": 17,
   "id": "b52db7cd",
   "metadata": {
    "execution": {
     "iopub.execute_input": "2023-06-20T11:09:18.201172Z",
     "iopub.status.busy": "2023-06-20T11:09:18.200812Z",
     "iopub.status.idle": "2023-06-20T11:09:18.214051Z",
     "shell.execute_reply": "2023-06-20T11:09:18.21296Z",
     "shell.execute_reply.started": "2023-06-20T11:09:18.201137Z"
    }
   },
   "outputs": [],
   "source": [
    "import pickle\n",
    "\n",
    "def save_model(model, modelname):\n",
    "    #This function expects a model and a modelname(with .pkl extension)\n",
    "    # Setting model path\n",
    "    pkl_filename = 'D:\\PBL\\\\models\\\\'+modelname\n",
    "    # Open the file to save as pkl file\n",
    "    model_pkl = open(pkl_filename, 'wb')\n",
    "    #dump model\n",
    "    pickle.dump(model, model_pkl)\n",
    "    # Close the pickle instances\n",
    "    model_pkl.close()"
   ]
  },
  {
   "cell_type": "markdown",
   "id": "d989ef5c",
   "metadata": {},
   "source": [
    "<h3>Logistic Regression</h3>"
   ]
  },
  {
   "cell_type": "code",
   "execution_count": 18,
   "id": "5e557d5e",
   "metadata": {
    "execution": {
     "iopub.execute_input": "2023-06-20T11:09:18.216026Z",
     "iopub.status.busy": "2023-06-20T11:09:18.215268Z",
     "iopub.status.idle": "2023-06-20T11:09:18.518336Z",
     "shell.execute_reply": "2023-06-20T11:09:18.516726Z",
     "shell.execute_reply.started": "2023-06-20T11:09:18.215992Z"
    }
   },
   "outputs": [
    {
     "name": "stdout",
     "output_type": "stream",
     "text": [
      "Accuracy: 0.3300110741971207\n",
      "\n",
      "{'Logistic Regression': 33.00110741971207}\n"
     ]
    }
   ],
   "source": [
    "from sklearn.linear_model import LogisticRegression\n",
    "from sklearn.preprocessing import StandardScaler\n",
    "\n",
    "# Scale the data using StandardScaler\n",
    "scaler = StandardScaler()\n",
    "xtrain_scaled = scaler.fit_transform(xtrain)\n",
    "xtest_scaled = scaler.transform(xtest)\n",
    "\n",
    "# Create an instance of LogisticRegression\n",
    "logreg = LogisticRegression(max_iter=1000)\n",
    "\n",
    "# Fit the model to the scaled training data\n",
    "logreg.fit(xtrain_scaled, ytrain)\n",
    "\n",
    "# Use the model to make predictions on the test data\n",
    "ypred = logreg.predict(xtest_scaled)\n",
    "\n",
    "accuracy = metrics.accuracy_score(ytest, ypred)\n",
    "print(f\"Accuracy: {accuracy}\",end='\\n\\n')\n",
    "\n",
    "# Adding the model to our dictionary\n",
    "best_model[\"Logistic Regression\"] = accuracy*100\n",
    "print(best_model)"
   ]
  },
  {
   "cell_type": "code",
   "execution_count": 19,
   "id": "44976fb1",
   "metadata": {
    "execution": {
     "iopub.execute_input": "2023-06-20T11:09:20.196057Z",
     "iopub.status.busy": "2023-06-20T11:09:20.194679Z",
     "iopub.status.idle": "2023-06-20T11:09:20.207448Z",
     "shell.execute_reply": "2023-06-20T11:09:20.205461Z",
     "shell.execute_reply.started": "2023-06-20T11:09:20.195994Z"
    }
   },
   "outputs": [],
   "source": [
    "save_model(logreg,'logreg.pkl')"
   ]
  },
  {
   "cell_type": "markdown",
   "id": "efcb4f11",
   "metadata": {},
   "source": [
    "<h3>Random Forest</h3>"
   ]
  },
  {
   "cell_type": "code",
   "execution_count": 20,
   "id": "5e9778de",
   "metadata": {
    "execution": {
     "iopub.execute_input": "2023-06-20T11:09:20.434949Z",
     "iopub.status.busy": "2023-06-20T11:09:20.434634Z",
     "iopub.status.idle": "2023-06-20T11:09:20.564902Z",
     "shell.execute_reply": "2023-06-20T11:09:20.563712Z",
     "shell.execute_reply.started": "2023-06-20T11:09:20.434923Z"
    }
   },
   "outputs": [
    {
     "name": "stdout",
     "output_type": "stream",
     "text": [
      "Accuracy: 0.9269102990033222\n",
      "\n",
      "{'Logistic Regression': 33.00110741971207, 'Random Forest': 92.69102990033223}\n"
     ]
    }
   ],
   "source": [
    "from sklearn.ensemble import RandomForestClassifier\n",
    "\n",
    "RandomForest = RandomForestClassifier(n_estimators=20, random_state=None)\n",
    "\n",
    "# Fitting the training set to create a model\n",
    "RandomForest.fit(xtrain,ytrain)\n",
    "# Using test(x) to find y\n",
    "ypred = RandomForest.predict(xtest)\n",
    "\n",
    "accuracy = metrics.accuracy_score(ypred, ytest)\n",
    "print(f\"Accuracy: {accuracy}\",end='\\n\\n')\n",
    "\n",
    "# Adding the model to our dictionary\n",
    "best_model[\"Random Forest\"] = accuracy*100\n",
    "print(best_model)"
   ]
  },
  {
   "cell_type": "code",
   "execution_count": 21,
   "id": "51b2ba82",
   "metadata": {
    "execution": {
     "iopub.execute_input": "2023-06-20T11:09:21.118819Z",
     "iopub.status.busy": "2023-06-20T11:09:21.118445Z",
     "iopub.status.idle": "2023-06-20T11:09:21.126922Z",
     "shell.execute_reply": "2023-06-20T11:09:21.125671Z",
     "shell.execute_reply.started": "2023-06-20T11:09:21.118789Z"
    }
   },
   "outputs": [],
   "source": [
    "save_model(RandomForest,'RandomForest.pkl')"
   ]
  },
  {
   "cell_type": "markdown",
   "id": "0a3c9511",
   "metadata": {},
   "source": [
    "<h3> Gaussian Naive Bayes ⚾️🥎</h3>\n"
   ]
  },
  {
   "cell_type": "code",
   "execution_count": 22,
   "id": "84aac4e5",
   "metadata": {
    "execution": {
     "iopub.execute_input": "2023-06-20T11:09:21.130293Z",
     "iopub.status.busy": "2023-06-20T11:09:21.129271Z",
     "iopub.status.idle": "2023-06-20T11:09:21.154377Z",
     "shell.execute_reply": "2023-06-20T11:09:21.15322Z",
     "shell.execute_reply.started": "2023-06-20T11:09:21.130259Z"
    }
   },
   "outputs": [
    {
     "name": "stdout",
     "output_type": "stream",
     "text": [
      "Accuracy: 0.29346622369878184\n",
      "\n",
      "{'Logistic Regression': 33.00110741971207, 'Random Forest': 92.69102990033223, 'Naive Bayes': 29.346622369878183}\n"
     ]
    }
   ],
   "source": [
    "from sklearn.naive_bayes import GaussianNB\n",
    "\n",
    "NaiveBayes = GaussianNB()\n",
    "\n",
    "# Fitting the training set to create a model\n",
    "NaiveBayes.fit(xtrain,ytrain)\n",
    "# Using test(x) to find y\n",
    "ypred = NaiveBayes.predict(xtest)\n",
    "\n",
    "accuracy = metrics.accuracy_score(ypred,ytest)\n",
    "print(f\"Accuracy: {accuracy}\",end='\\n\\n')\n",
    "\n",
    "# Adding the model to our dictionary\n",
    "best_model[\"Naive Bayes\"] = accuracy*100\n",
    "print(best_model)"
   ]
  },
  {
   "cell_type": "code",
   "execution_count": 23,
   "id": "1e61c995",
   "metadata": {
    "execution": {
     "iopub.execute_input": "2023-06-20T11:09:21.247692Z",
     "iopub.status.busy": "2023-06-20T11:09:21.247325Z",
     "iopub.status.idle": "2023-06-20T11:09:21.254096Z",
     "shell.execute_reply": "2023-06-20T11:09:21.252735Z",
     "shell.execute_reply.started": "2023-06-20T11:09:21.247663Z"
    }
   },
   "outputs": [],
   "source": [
    "save_model(NaiveBayes,'NaiveBayes.pkl')"
   ]
  },
  {
   "cell_type": "markdown",
   "id": "e8bde691",
   "metadata": {},
   "source": [
    "<h3>Support Vector Machine</h3>"
   ]
  },
  {
   "cell_type": "code",
   "execution_count": 24,
   "id": "f18a17d8",
   "metadata": {
    "execution": {
     "iopub.execute_input": "2023-06-20T11:09:21.260649Z",
     "iopub.status.busy": "2023-06-20T11:09:21.260067Z",
     "iopub.status.idle": "2023-06-20T11:09:21.311389Z",
     "shell.execute_reply": "2023-06-20T11:09:21.310111Z",
     "shell.execute_reply.started": "2023-06-20T11:09:21.260616Z"
    }
   },
   "outputs": [
    {
     "name": "stdout",
     "output_type": "stream",
     "text": [
      "Accuracy: 0.42414174972314506\n",
      "\n",
      "{'Logistic Regression': 33.00110741971207, 'Random Forest': 92.69102990033223, 'Naive Bayes': 29.346622369878183, 'SVM': 42.414174972314505}\n"
     ]
    }
   ],
   "source": [
    "from sklearn.svm import SVC\n",
    "from sklearn.preprocessing import MinMaxScaler\n",
    "\n",
    "# fit scaler on training data\n",
    "norm = MinMaxScaler().fit(xtrain)\n",
    "x_train_norm = norm.transform(xtrain)\n",
    "# transform testing dataabs\n",
    "x_test_norm = norm.transform(xtest)\n",
    "SVM = SVC(kernel='poly', degree=3, C=1)\n",
    "SVM.fit(x_train_norm,ytrain)\n",
    "ypred = SVM.predict(x_test_norm)\n",
    "\n",
    "accuracy = metrics.accuracy_score(ytest, ypred)\n",
    "print(f\"Accuracy: {accuracy}\",end='\\n\\n')\n",
    "\n",
    "# Adding the model to our dictionary\n",
    "best_model[\"SVM\"] = accuracy*100\n",
    "print(best_model)"
   ]
  },
  {
   "cell_type": "code",
   "execution_count": 25,
   "id": "2e9fd36d",
   "metadata": {
    "execution": {
     "iopub.execute_input": "2023-06-20T11:09:21.544145Z",
     "iopub.status.busy": "2023-06-20T11:09:21.543803Z",
     "iopub.status.idle": "2023-06-20T11:09:21.549973Z",
     "shell.execute_reply": "2023-06-20T11:09:21.548908Z",
     "shell.execute_reply.started": "2023-06-20T11:09:21.544117Z"
    }
   },
   "outputs": [],
   "source": [
    "save_model(SVM,'SVM.pkl')"
   ]
  },
  {
   "cell_type": "markdown",
   "id": "dbe76503",
   "metadata": {},
   "source": [
    "<h3> Comparing all models 📊 </h3>"
   ]
  },
  {
   "cell_type": "code",
   "execution_count": 26,
   "id": "cd6427c8",
   "metadata": {
    "execution": {
     "iopub.execute_input": "2023-06-20T11:14:51.005741Z",
     "iopub.status.busy": "2023-06-20T11:14:51.005292Z",
     "iopub.status.idle": "2023-06-20T11:14:51.314914Z",
     "shell.execute_reply": "2023-06-20T11:14:51.313573Z",
     "shell.execute_reply.started": "2023-06-20T11:14:51.005709Z"
    }
   },
   "outputs": [
    {
     "data": {
      "image/png": "[encoded data removed]",
      "text/plain": [
       "<Figure size 640x480 with 1 Axes>"
      ]
     },
     "metadata": {},
     "output_type": "display_data"
    }
   ],
   "source": [
    "# Extract model names and accuracies from the best_model dictionary\n",
    "accuracies = list(best_model.values())\n",
    "model_names = list(best_model.keys())\n",
    "\n",
    "# Create a bar plot using seaborn\n",
    "sns.barplot(x=accuracies, y=model_names)\n",
    "plt.xlabel('Model')\n",
    "plt.ylabel('Accuracy')\n",
    "plt.title('Model Accuracies')\n",
    "plt.show()\n"
   ]
  },
  {
   "cell_type": "code",
   "execution_count": 27,
   "id": "f8c7a267",
   "metadata": {
    "execution": {
     "iopub.execute_input": "2023-06-20T11:14:57.471305Z",
     "iopub.status.busy": "2023-06-20T11:14:57.470874Z",
     "iopub.status.idle": "2023-06-20T11:14:57.480007Z",
     "shell.execute_reply": "2023-06-20T11:14:57.47847Z",
     "shell.execute_reply.started": "2023-06-20T11:14:57.471275Z"
    }
   },
   "outputs": [
    {
     "name": "stdout",
     "output_type": "stream",
     "text": [
      "Random Forest: 92.69102990033223\n",
      "SVM: 42.414174972314505\n",
      "Logistic Regression: 33.00110741971207\n",
      "Naive Bayes: 29.346622369878183\n"
     ]
    }
   ],
   "source": [
    "# Sort the dictionary items by values in descending order\n",
    "sorted_items = sorted(best_model.items(), key=lambda x: x[1], reverse=True)\n",
    "\n",
    "# Print the keys and values in descending order\n",
    "for key, value in sorted_items:\n",
    "    print(f\"{key}: {value}\")"
   ]
  },
  {
   "cell_type": "code",
   "execution_count": 28,
   "id": "57e02dab",
   "metadata": {
    "execution": {
     "iopub.execute_input": "2023-06-20T11:15:02.866022Z",
     "iopub.status.busy": "2023-06-20T11:15:02.865577Z",
     "iopub.status.idle": "2023-06-20T11:15:02.873886Z",
     "shell.execute_reply": "2023-06-20T11:15:02.872033Z",
     "shell.execute_reply.started": "2023-06-20T11:15:02.865988Z"
    }
   },
   "outputs": [
    {
     "name": "stdout",
     "output_type": "stream",
     "text": [
      "Key: Random Forest, Value: 92.69102990033223\n"
     ]
    }
   ],
   "source": [
    "max_key = max(best_model, key=best_model.get)\n",
    "max_value = best_model[max_key]\n",
    "\n",
    "print(f\"Key: {max_key}, Value: {max_value}\")"
   ]
  },
  {
   "cell_type": "code",
   "execution_count": 31,
   "id": "3ce25724",
   "metadata": {},
   "outputs": [],
   "source": [
    "import pickle\n",
    "pickle.dump(RandomForest, open('model.pkl','wb'))"
   ]
  },
  {
   "cell_type": "markdown",
   "id": "88a8e324",
   "metadata": {},
   "source": [
    "<h3> Using the model 🦾 </h3>"
   ]
  },
  {
   "cell_type": "code",
   "execution_count": 42,
   "id": "854a08a8",
   "metadata": {
    "execution": {
     "iopub.execute_input": "2023-06-20T11:10:10.584579Z",
     "iopub.status.busy": "2023-06-20T11:10:10.583999Z",
     "iopub.status.idle": "2023-06-20T11:10:10.604964Z",
     "shell.execute_reply": "2023-06-20T11:10:10.603213Z",
     "shell.execute_reply.started": "2023-06-20T11:10:10.58454Z"
    }
   },
   "outputs": [],
   "source": [
    "def recommendation(N, P, K, pH, Rainfall,Temperature):\n",
    "    features = np.array([[N, P, K, pH, Rainfall,Temperature]])\n",
    "    prediction = RandomForest.predict(features).reshape(1, -1)\n",
    "    return prediction"
   ]
  },
  {
   "cell_type": "code",
   "execution_count": 43,
   "id": "c178889f",
   "metadata": {
    "execution": {
     "iopub.execute_input": "2023-06-20T11:10:10.607896Z",
     "iopub.status.busy": "2023-06-20T11:10:10.607469Z",
     "iopub.status.idle": "2023-06-20T11:10:10.627689Z",
     "shell.execute_reply": "2023-06-20T11:10:10.625173Z",
     "shell.execute_reply.started": "2023-06-20T11:10:10.60786Z"
    }
   },
   "outputs": [
    {
     "name": "stderr",
     "output_type": "stream",
     "text": [
      "C:\\Users\\TUF\\anaconda3\\lib\\site-packages\\sklearn\\base.py:420: UserWarning: X does not have valid feature names, but RandomForestClassifier was fitted with feature names\n",
      "  warnings.warn(\n"
     ]
    }
   ],
   "source": [
    "N=20\n",
    "P=30\n",
    "K=40\n",
    "pH=7.0\n",
    "Rainfall=1000\n",
    "Temperature=30\n",
    "\n",
    "prediction = recommendation(N, P, K, pH, Rainfall,Temperature)"
   ]
  }
 ],
 "metadata": {
  "kernelspec": {
   "display_name": "Python 3 (ipykernel)",
   "language": "python",
   "name": "python3"
  },
  "language_info": {
   "codemirror_mode": {
    "name": "ipython",
    "version": 3
   },
   "file_extension": ".py",
   "mimetype": "text/x-python",
   "name": "python",
   "nbconvert_exporter": "python",
   "pygments_lexer": "ipython3",
   "version": "3.10.9"
  }
 },
 "nbformat": 4,
 "nbformat_minor": 5
}
