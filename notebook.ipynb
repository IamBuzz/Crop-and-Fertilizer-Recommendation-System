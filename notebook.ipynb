{
 "cells": [
  {
   "cell_type": "code",
   "execution_count": 13,
   "id": "8c5c1141",
   "metadata": {},
   "outputs": [],
   "source": [
    "from __future__ import print_function\n",
    "import pandas as pd\n",
    "import numpy as np\n",
    "import matplotlib.pyplot as plt\n",
    "import seaborn as sns\n",
    "from sklearn.metrics import classification_report\n",
    "from sklearn import metrics\n",
    "from sklearn import tree\n",
    "import plotly.graph_objects as go\n",
    "import plotly.express as px\n",
    "from plotly.subplots import make_subplots\n",
    "colorarr = ['#0592D0','#Cd7f32', '#E97451', '#Bdb76b', '#954535', '#C2b280', '#808000','#C2b280', '#E4d008', '#9acd32', '#Eedc82', '#E4d96f',\n",
    "           '#32cd32','#39ff14','#00ff7f', '#008080', '#36454f', '#F88379', '#Ff4500', '#Ffb347', '#A94064', '#E75480', '#Ffb6c1', '#E5e4e2',\n",
    "           '#Faf0e6', '#8c92ac', '#Dbd7d2','#A7a6ba', '#B38b6d']"
   ]
  },
  {
   "cell_type": "markdown",
   "id": "4336467f",
   "metadata": {},
   "source": [
    "<h3>Understanding the Dataset 💽</h3>\n"
   ]
  },
  {
   "cell_type": "code",
   "execution_count": 14,
   "id": "4a27720a",
   "metadata": {},
   "outputs": [],
   "source": [
    "data_path = 'Crop and fertilizer dataset.csv'\n",
    "df = pd.read_csv(data_path)"
   ]
  },
  {
   "cell_type": "code",
   "execution_count": 15,
   "id": "5f5ac724-238e-490f-8f34-61d848ba0776",
   "metadata": {},
   "outputs": [
    {
     "data": {
      "text/html": [
       "<div>\n",
       "<style scoped>\n",
       "    .dataframe tbody tr th:only-of-type {\n",
       "        vertical-align: middle;\n",
       "    }\n",
       "\n",
       "    .dataframe tbody tr th {\n",
       "        vertical-align: top;\n",
       "    }\n",
       "\n",
       "    .dataframe thead th {\n",
       "        text-align: right;\n",
       "    }\n",
       "</style>\n",
       "<table border=\"1\" class=\"dataframe\">\n",
       "  <thead>\n",
       "    <tr style=\"text-align: right;\">\n",
       "      <th></th>\n",
       "      <th>District_Name</th>\n",
       "      <th>Soil_color</th>\n",
       "      <th>Nitrogen</th>\n",
       "      <th>Phosphorus</th>\n",
       "      <th>Potassium</th>\n",
       "      <th>pH</th>\n",
       "      <th>Rainfall</th>\n",
       "      <th>Temperature</th>\n",
       "      <th>Crop</th>\n",
       "      <th>Fertilizer</th>\n",
       "      <th>Link</th>\n",
       "    </tr>\n",
       "  </thead>\n",
       "  <tbody>\n",
       "    <tr>\n",
       "      <th>0</th>\n",
       "      <td>Kolhapur</td>\n",
       "      <td>Black</td>\n",
       "      <td>75</td>\n",
       "      <td>50</td>\n",
       "      <td>100</td>\n",
       "      <td>6.5</td>\n",
       "      <td>1000</td>\n",
       "      <td>20</td>\n",
       "      <td>Sugarcane</td>\n",
       "      <td>Urea</td>\n",
       "      <td>https://youtu.be/2t5Am0xLTOo</td>\n",
       "    </tr>\n",
       "    <tr>\n",
       "      <th>1</th>\n",
       "      <td>Kolhapur</td>\n",
       "      <td>Black</td>\n",
       "      <td>80</td>\n",
       "      <td>50</td>\n",
       "      <td>100</td>\n",
       "      <td>6.5</td>\n",
       "      <td>1000</td>\n",
       "      <td>20</td>\n",
       "      <td>Sugarcane</td>\n",
       "      <td>Urea</td>\n",
       "      <td>https://youtu.be/2t5Am0xLTOo</td>\n",
       "    </tr>\n",
       "    <tr>\n",
       "      <th>2</th>\n",
       "      <td>Kolhapur</td>\n",
       "      <td>Black</td>\n",
       "      <td>85</td>\n",
       "      <td>50</td>\n",
       "      <td>100</td>\n",
       "      <td>6.5</td>\n",
       "      <td>1000</td>\n",
       "      <td>20</td>\n",
       "      <td>Sugarcane</td>\n",
       "      <td>Urea</td>\n",
       "      <td>https://youtu.be/2t5Am0xLTOo</td>\n",
       "    </tr>\n",
       "    <tr>\n",
       "      <th>3</th>\n",
       "      <td>Kolhapur</td>\n",
       "      <td>Black</td>\n",
       "      <td>90</td>\n",
       "      <td>50</td>\n",
       "      <td>100</td>\n",
       "      <td>6.5</td>\n",
       "      <td>1000</td>\n",
       "      <td>20</td>\n",
       "      <td>Sugarcane</td>\n",
       "      <td>Urea</td>\n",
       "      <td>https://youtu.be/2t5Am0xLTOo</td>\n",
       "    </tr>\n",
       "    <tr>\n",
       "      <th>4</th>\n",
       "      <td>Kolhapur</td>\n",
       "      <td>Black</td>\n",
       "      <td>95</td>\n",
       "      <td>50</td>\n",
       "      <td>100</td>\n",
       "      <td>6.5</td>\n",
       "      <td>1000</td>\n",
       "      <td>20</td>\n",
       "      <td>Sugarcane</td>\n",
       "      <td>Urea</td>\n",
       "      <td>https://youtu.be/2t5Am0xLTOo</td>\n",
       "    </tr>\n",
       "  </tbody>\n",
       "</table>\n",
       "</div>"
      ],
      "text/plain": [
       "  District_Name Soil_color  Nitrogen  Phosphorus  Potassium   pH  Rainfall  \\\n",
       "0      Kolhapur      Black        75          50        100  6.5      1000   \n",
       "1      Kolhapur      Black        80          50        100  6.5      1000   \n",
       "2      Kolhapur      Black        85          50        100  6.5      1000   \n",
       "3      Kolhapur      Black        90          50        100  6.5      1000   \n",
       "4      Kolhapur      Black        95          50        100  6.5      1000   \n",
       "\n",
       "   Temperature       Crop Fertilizer                          Link  \n",
       "0           20  Sugarcane       Urea  https://youtu.be/2t5Am0xLTOo  \n",
       "1           20  Sugarcane       Urea  https://youtu.be/2t5Am0xLTOo  \n",
       "2           20  Sugarcane       Urea  https://youtu.be/2t5Am0xLTOo  \n",
       "3           20  Sugarcane       Urea  https://youtu.be/2t5Am0xLTOo  \n",
       "4           20  Sugarcane       Urea  https://youtu.be/2t5Am0xLTOo  "
      ]
     },
     "execution_count": 15,
     "metadata": {},
     "output_type": "execute_result"
    }
   ],
   "source": [
    "df.head()"
   ]
  },
  {
   "cell_type": "code",
   "execution_count": 16,
   "id": "2c95717e",
   "metadata": {},
   "outputs": [
    {
     "name": "stdout",
     "output_type": "stream",
     "text": [
      "<class 'pandas.core.frame.DataFrame'>\n",
      "RangeIndex: 4513 entries, 0 to 4512\n",
      "Data columns (total 11 columns):\n",
      " #   Column         Non-Null Count  Dtype  \n",
      "---  ------         --------------  -----  \n",
      " 0   District_Name  4513 non-null   object \n",
      " 1   Soil_color     4513 non-null   object \n",
      " 2   Nitrogen       4513 non-null   int64  \n",
      " 3   Phosphorus     4513 non-null   int64  \n",
      " 4   Potassium      4513 non-null   int64  \n",
      " 5   pH             4513 non-null   float64\n",
      " 6   Rainfall       4513 non-null   int64  \n",
      " 7   Temperature    4513 non-null   int64  \n",
      " 8   Crop           4513 non-null   object \n",
      " 9   Fertilizer     4513 non-null   object \n",
      " 10  Link           4513 non-null   object \n",
      "dtypes: float64(1), int64(5), object(5)\n",
      "memory usage: 388.0+ KB\n"
     ]
    }
   ],
   "source": [
    "df.info()"
   ]
  },
  {
   "cell_type": "code",
   "execution_count": 17,
   "id": "518591a3",
   "metadata": {},
   "outputs": [
    {
     "data": {
      "text/plain": [
       "Sugarcane    1010\n",
       "Wheat         859\n",
       "Cotton        650\n",
       "Jowar         394\n",
       "Maize         350\n",
       "Rice          309\n",
       "Groundnut     177\n",
       "Tur           126\n",
       "Ginger        125\n",
       "Grapes        125\n",
       "Urad           99\n",
       "Moong          99\n",
       "Gram           78\n",
       "Turmeric       55\n",
       "Soybean        45\n",
       "Masoor         12\n",
       "Name: Crop, dtype: int64"
      ]
     },
     "execution_count": 17,
     "metadata": {},
     "output_type": "execute_result"
    }
   ],
   "source": [
    "df['Crop'].value_counts()"
   ]
  },
  {
   "cell_type": "code",
   "execution_count": 18,
   "id": "1ca1fb18",
   "metadata": {},
   "outputs": [],
   "source": [
    "df = df.drop(['Link'], axis=1)"
   ]
  },
  {
   "cell_type": "code",
   "execution_count": 19,
   "id": "a53c9afb",
   "metadata": {
    "execution": {
     "iopub.execute_input": "2023-06-20T11:09:17.512213Z",
     "iopub.status.busy": "2023-06-20T11:09:17.511741Z",
     "iopub.status.idle": "2023-06-20T11:09:17.527884Z",
     "shell.execute_reply": "2023-06-20T11:09:17.526761Z",
     "shell.execute_reply.started": "2023-06-20T11:09:17.512172Z"
    }
   },
   "outputs": [],
   "source": [
    "\n",
    "df = df.drop(['Soil_color'], axis=1)"
   ]
  },
  {
   "cell_type": "code",
   "execution_count": 20,
   "id": "a1eac6f7",
   "metadata": {
    "execution": {
     "iopub.execute_input": "2023-06-20T11:09:17.530006Z",
     "iopub.status.busy": "2023-06-20T11:09:17.529646Z",
     "iopub.status.idle": "2023-06-20T11:09:17.550363Z",
     "shell.execute_reply": "2023-06-20T11:09:17.549412Z",
     "shell.execute_reply.started": "2023-06-20T11:09:17.529977Z"
    }
   },
   "outputs": [
    {
     "data": {
      "text/html": [
       "<div>\n",
       "<style scoped>\n",
       "    .dataframe tbody tr th:only-of-type {\n",
       "        vertical-align: middle;\n",
       "    }\n",
       "\n",
       "    .dataframe tbody tr th {\n",
       "        vertical-align: top;\n",
       "    }\n",
       "\n",
       "    .dataframe thead th {\n",
       "        text-align: right;\n",
       "    }\n",
       "</style>\n",
       "<table border=\"1\" class=\"dataframe\">\n",
       "  <thead>\n",
       "    <tr style=\"text-align: right;\">\n",
       "      <th></th>\n",
       "      <th>District_Name</th>\n",
       "      <th>Nitrogen</th>\n",
       "      <th>Phosphorus</th>\n",
       "      <th>Potassium</th>\n",
       "      <th>pH</th>\n",
       "      <th>Rainfall</th>\n",
       "      <th>Temperature</th>\n",
       "      <th>Crop</th>\n",
       "      <th>Fertilizer</th>\n",
       "    </tr>\n",
       "  </thead>\n",
       "  <tbody>\n",
       "    <tr>\n",
       "      <th>4508</th>\n",
       "      <td>Pune</td>\n",
       "      <td>130</td>\n",
       "      <td>80</td>\n",
       "      <td>150</td>\n",
       "      <td>7.0</td>\n",
       "      <td>1400</td>\n",
       "      <td>30</td>\n",
       "      <td>Sugarcane</td>\n",
       "      <td>MOP</td>\n",
       "    </tr>\n",
       "    <tr>\n",
       "      <th>4509</th>\n",
       "      <td>Pune</td>\n",
       "      <td>135</td>\n",
       "      <td>80</td>\n",
       "      <td>150</td>\n",
       "      <td>7.0</td>\n",
       "      <td>1400</td>\n",
       "      <td>30</td>\n",
       "      <td>Sugarcane</td>\n",
       "      <td>MOP</td>\n",
       "    </tr>\n",
       "    <tr>\n",
       "      <th>4510</th>\n",
       "      <td>Pune</td>\n",
       "      <td>140</td>\n",
       "      <td>80</td>\n",
       "      <td>150</td>\n",
       "      <td>7.0</td>\n",
       "      <td>1400</td>\n",
       "      <td>30</td>\n",
       "      <td>Sugarcane</td>\n",
       "      <td>MOP</td>\n",
       "    </tr>\n",
       "    <tr>\n",
       "      <th>4511</th>\n",
       "      <td>Pune</td>\n",
       "      <td>145</td>\n",
       "      <td>80</td>\n",
       "      <td>150</td>\n",
       "      <td>7.0</td>\n",
       "      <td>1400</td>\n",
       "      <td>30</td>\n",
       "      <td>Sugarcane</td>\n",
       "      <td>MOP</td>\n",
       "    </tr>\n",
       "    <tr>\n",
       "      <th>4512</th>\n",
       "      <td>Pune</td>\n",
       "      <td>150</td>\n",
       "      <td>80</td>\n",
       "      <td>150</td>\n",
       "      <td>7.0</td>\n",
       "      <td>1400</td>\n",
       "      <td>30</td>\n",
       "      <td>Sugarcane</td>\n",
       "      <td>MOP</td>\n",
       "    </tr>\n",
       "  </tbody>\n",
       "</table>\n",
       "</div>"
      ],
      "text/plain": [
       "     District_Name  Nitrogen  Phosphorus  Potassium   pH  Rainfall  \\\n",
       "4508          Pune       130          80        150  7.0      1400   \n",
       "4509          Pune       135          80        150  7.0      1400   \n",
       "4510          Pune       140          80        150  7.0      1400   \n",
       "4511          Pune       145          80        150  7.0      1400   \n",
       "4512          Pune       150          80        150  7.0      1400   \n",
       "\n",
       "      Temperature       Crop Fertilizer  \n",
       "4508           30  Sugarcane        MOP  \n",
       "4509           30  Sugarcane        MOP  \n",
       "4510           30  Sugarcane        MOP  \n",
       "4511           30  Sugarcane        MOP  \n",
       "4512           30  Sugarcane        MOP  "
      ]
     },
     "execution_count": 20,
     "metadata": {},
     "output_type": "execute_result"
    }
   ],
   "source": [
    "df.head()\n",
    "df.tail()"
   ]
  },
  {
   "cell_type": "code",
   "execution_count": 21,
   "id": "bdff222a",
   "metadata": {
    "execution": {
     "iopub.execute_input": "2023-06-20T11:09:17.553631Z",
     "iopub.status.busy": "2023-06-20T11:09:17.553007Z",
     "iopub.status.idle": "2023-06-20T11:09:17.564693Z",
     "shell.execute_reply": "2023-06-20T11:09:17.563428Z",
     "shell.execute_reply.started": "2023-06-20T11:09:17.553589Z"
    }
   },
   "outputs": [
    {
     "name": "stdout",
     "output_type": "stream",
     "text": [
      "Rows, Cols = (4513, 9)\n",
      "Rows * Cols = 40617\n"
     ]
    }
   ],
   "source": [
    "print(f\"Rows, Cols = {df.shape}\")\n",
    "print(f\"Rows * Cols = {df.size}\")"
   ]
  },
  {
   "cell_type": "code",
   "execution_count": 22,
   "id": "b9caf969",
   "metadata": {
    "execution": {
     "iopub.execute_input": "2023-06-20T11:09:17.56731Z",
     "iopub.status.busy": "2023-06-20T11:09:17.566291Z",
     "iopub.status.idle": "2023-06-20T11:09:17.582118Z",
     "shell.execute_reply": "2023-06-20T11:09:17.581195Z",
     "shell.execute_reply.started": "2023-06-20T11:09:17.567275Z"
    }
   },
   "outputs": [
    {
     "data": {
      "text/plain": [
       "Index(['District_Name', 'Nitrogen', 'Phosphorus', 'Potassium', 'pH',\n",
       "       'Rainfall', 'Temperature', 'Crop', 'Fertilizer'],\n",
       "      dtype='object')"
      ]
     },
     "execution_count": 22,
     "metadata": {},
     "output_type": "execute_result"
    }
   ],
   "source": [
    "# The features of our dataset\n",
    "df.columns"
   ]
  },
  {
   "cell_type": "code",
   "execution_count": 23,
   "id": "d44237a1",
   "metadata": {
    "execution": {
     "iopub.execute_input": "2023-06-20T11:09:17.584271Z",
     "iopub.status.busy": "2023-06-20T11:09:17.583569Z",
     "iopub.status.idle": "2023-06-20T11:09:17.597442Z",
     "shell.execute_reply": "2023-06-20T11:09:17.595852Z",
     "shell.execute_reply.started": "2023-06-20T11:09:17.584238Z"
    }
   },
   "outputs": [
    {
     "data": {
      "text/plain": [
       "array(['Kolhapur', 'Solapur', 'Satara', 'Sangli', 'Pune'], dtype=object)"
      ]
     },
     "execution_count": 23,
     "metadata": {},
     "output_type": "execute_result"
    }
   ],
   "source": [
    "# The labels on which recommendation will be performed\n",
    "df['District_Name'].unique()\n"
   ]
  },
  {
   "cell_type": "code",
   "execution_count": 24,
   "id": "8f0d524b",
   "metadata": {},
   "outputs": [
    {
     "data": {
      "text/plain": [
       "array(['Sugarcane', 'Jowar', 'Cotton', 'Rice', 'Wheat', 'Groundnut',\n",
       "       'Maize', 'Tur', 'Urad', 'Moong', 'Gram', 'Masoor', 'Soybean',\n",
       "       'Ginger', 'Turmeric', 'Grapes'], dtype=object)"
      ]
     },
     "execution_count": 24,
     "metadata": {},
     "output_type": "execute_result"
    }
   ],
   "source": [
    "df['Crop'].unique()"
   ]
  },
  {
   "cell_type": "code",
   "execution_count": 25,
   "id": "837343dd",
   "metadata": {},
   "outputs": [
    {
     "name": "stderr",
     "output_type": "stream",
     "text": [
      "C:\\Users\\TUF\\AppData\\Local\\Temp\\ipykernel_18540\\3645134560.py:1: FutureWarning: pivot_table dropped a column because it failed to aggregate. This behavior is deprecated and will raise in a future version of pandas. Select only the columns that can be aggregated.\n",
      "  crop_summary = pd.pivot_table(df,index=['Crop'],aggfunc='mean')\n"
     ]
    },
    {
     "data": {
      "text/html": [
       "<div>\n",
       "<style scoped>\n",
       "    .dataframe tbody tr th:only-of-type {\n",
       "        vertical-align: middle;\n",
       "    }\n",
       "\n",
       "    .dataframe tbody tr th {\n",
       "        vertical-align: top;\n",
       "    }\n",
       "\n",
       "    .dataframe thead th {\n",
       "        text-align: right;\n",
       "    }\n",
       "</style>\n",
       "<table border=\"1\" class=\"dataframe\">\n",
       "  <thead>\n",
       "    <tr style=\"text-align: right;\">\n",
       "      <th></th>\n",
       "      <th>Nitrogen</th>\n",
       "      <th>Phosphorus</th>\n",
       "      <th>Potassium</th>\n",
       "      <th>Rainfall</th>\n",
       "      <th>Temperature</th>\n",
       "      <th>pH</th>\n",
       "    </tr>\n",
       "    <tr>\n",
       "      <th>Crop</th>\n",
       "      <th></th>\n",
       "      <th></th>\n",
       "      <th></th>\n",
       "      <th></th>\n",
       "      <th></th>\n",
       "      <th></th>\n",
       "    </tr>\n",
       "  </thead>\n",
       "  <tbody>\n",
       "    <tr>\n",
       "      <th>Cotton</th>\n",
       "      <td>117.615385</td>\n",
       "      <td>56.730769</td>\n",
       "      <td>60.769231</td>\n",
       "      <td>827.692308</td>\n",
       "      <td>28.076923</td>\n",
       "      <td>6.956154</td>\n",
       "    </tr>\n",
       "    <tr>\n",
       "      <th>Ginger</th>\n",
       "      <td>50.000000</td>\n",
       "      <td>50.000000</td>\n",
       "      <td>70.000000</td>\n",
       "      <td>948.000000</td>\n",
       "      <td>27.200000</td>\n",
       "      <td>5.980000</td>\n",
       "    </tr>\n",
       "    <tr>\n",
       "      <th>Gram</th>\n",
       "      <td>34.615385</td>\n",
       "      <td>39.615385</td>\n",
       "      <td>21.153846</td>\n",
       "      <td>719.230769</td>\n",
       "      <td>23.269231</td>\n",
       "      <td>6.480769</td>\n",
       "    </tr>\n",
       "    <tr>\n",
       "      <th>Grapes</th>\n",
       "      <td>90.000000</td>\n",
       "      <td>50.000000</td>\n",
       "      <td>130.000000</td>\n",
       "      <td>748.000000</td>\n",
       "      <td>24.800000</td>\n",
       "      <td>6.720000</td>\n",
       "    </tr>\n",
       "    <tr>\n",
       "      <th>Groundnut</th>\n",
       "      <td>29.406780</td>\n",
       "      <td>41.440678</td>\n",
       "      <td>27.881356</td>\n",
       "      <td>694.915254</td>\n",
       "      <td>27.711864</td>\n",
       "      <td>6.508475</td>\n",
       "    </tr>\n",
       "  </tbody>\n",
       "</table>\n",
       "</div>"
      ],
      "text/plain": [
       "             Nitrogen  Phosphorus   Potassium    Rainfall  Temperature  \\\n",
       "Crop                                                                     \n",
       "Cotton     117.615385   56.730769   60.769231  827.692308    28.076923   \n",
       "Ginger      50.000000   50.000000   70.000000  948.000000    27.200000   \n",
       "Gram        34.615385   39.615385   21.153846  719.230769    23.269231   \n",
       "Grapes      90.000000   50.000000  130.000000  748.000000    24.800000   \n",
       "Groundnut   29.406780   41.440678   27.881356  694.915254    27.711864   \n",
       "\n",
       "                 pH  \n",
       "Crop                 \n",
       "Cotton     6.956154  \n",
       "Ginger     5.980000  \n",
       "Gram       6.480769  \n",
       "Grapes     6.720000  \n",
       "Groundnut  6.508475  "
      ]
     },
     "execution_count": 25,
     "metadata": {},
     "output_type": "execute_result"
    }
   ],
   "source": [
    "crop_summary = pd.pivot_table(df,index=['Crop'],aggfunc='mean')\n",
    "crop_summary.head()"
   ]
  },
  {
   "cell_type": "code",
   "execution_count": 26,
   "id": "5f5c977f",
   "metadata": {},
   "outputs": [
    {
     "data": {
      "application/vnd.plotly.v1+json": {
       "config": {
        "plotlyServerURL": "https://plot.ly"
       },
       "data": [
        {
         "marker": {
          "color": "#0592D0"
         },
         "name": "Most nitrogen required",
         "orientation": "h",
         "text": [
          50,
          50,
          50.90909090909091,
          54.631979695431475,
          90,
          91.75785797438883,
          92.42718446601941,
          117.61538461538461,
          131.6138613861386,
          135
         ],
         "textposition": "inside",
         "texttemplate": "%{text}",
         "type": "bar",
         "x": [
          50,
          50,
          50.90909090909091,
          54.631979695431475,
          90,
          91.75785797438883,
          92.42718446601941,
          117.61538461538461,
          131.6138613861386,
          135
         ],
         "xaxis": "x",
         "y": [
          "Ginger",
          "Soybean",
          "Moong",
          "Jowar",
          "Grapes",
          "Wheat",
          "Rice",
          "Cotton",
          "Sugarcane",
          "Maize"
         ],
         "yaxis": "y"
        },
        {
         "marker": {
          "color": "#Cd7f32"
         },
         "name": "Least nitrogen required",
         "orientation": "h",
         "text": [
          54.631979695431475,
          50.90909090909091,
          50,
          50,
          48.18181818181818,
          45,
          39.72727272727273,
          38.57142857142857,
          34.61538461538461,
          29.406779661016948
         ],
         "textposition": "inside",
         "texttemplate": "%{text}",
         "type": "bar",
         "x": [
          54.631979695431475,
          50.90909090909091,
          50,
          50,
          48.18181818181818,
          45,
          39.72727272727273,
          38.57142857142857,
          34.61538461538461,
          29.406779661016948
         ],
         "xaxis": "x2",
         "y": [
          "Jowar",
          "Moong",
          "Ginger",
          "Soybean",
          "Urad",
          "Masoor",
          "Turmeric",
          "Tur",
          "Gram",
          "Groundnut"
         ],
         "yaxis": "y2"
        }
       ],
       "layout": {
        "font": {
         "color": "black",
         "size": 12
        },
        "height": 500,
        "plot_bgcolor": "white",
        "template": {
         "data": {
          "bar": [
           {
            "error_x": {
             "color": "#2a3f5f"
            },
            "error_y": {
             "color": "#2a3f5f"
            },
            "marker": {
             "line": {
              "color": "#E5ECF6",
              "width": 0.5
             },
             "pattern": {
              "fillmode": "overlay",
              "size": 10,
              "solidity": 0.2
             }
            },
            "type": "bar"
           }
          ],
          "barpolar": [
           {
            "marker": {
             "line": {
              "color": "#E5ECF6",
              "width": 0.5
             },
             "pattern": {
              "fillmode": "overlay",
              "size": 10,
              "solidity": 0.2
             }
            },
            "type": "barpolar"
           }
          ],
          "carpet": [
           {
            "aaxis": {
             "endlinecolor": "#2a3f5f",
             "gridcolor": "white",
             "linecolor": "white",
             "minorgridcolor": "white",
             "startlinecolor": "#2a3f5f"
            },
            "baxis": {
             "endlinecolor": "#2a3f5f",
             "gridcolor": "white",
             "linecolor": "white",
             "minorgridcolor": "white",
             "startlinecolor": "#2a3f5f"
            },
            "type": "carpet"
           }
          ],
          "choropleth": [
           {
            "colorbar": {
             "outlinewidth": 0,
             "ticks": ""
            },
            "type": "choropleth"
           }
          ],
          "contour": [
           {
            "colorbar": {
             "outlinewidth": 0,
             "ticks": ""
            },
            "colorscale": [
             [
              0,
              "#0d0887"
             ],
             [
              0.1111111111111111,
              "#46039f"
             ],
             [
              0.2222222222222222,
              "#7201a8"
             ],
             [
              0.3333333333333333,
              "#9c179e"
             ],
             [
              0.4444444444444444,
              "#bd3786"
             ],
             [
              0.5555555555555556,
              "#d8576b"
             ],
             [
              0.6666666666666666,
              "#ed7953"
             ],
             [
              0.7777777777777778,
              "#fb9f3a"
             ],
             [
              0.8888888888888888,
              "#fdca26"
             ],
             [
              1,
              "#f0f921"
             ]
            ],
            "type": "contour"
           }
          ],
          "contourcarpet": [
           {
            "colorbar": {
             "outlinewidth": 0,
             "ticks": ""
            },
            "type": "contourcarpet"
           }
          ],
          "heatmap": [
           {
            "colorbar": {
             "outlinewidth": 0,
             "ticks": ""
            },
            "colorscale": [
             [
              0,
              "#0d0887"
             ],
             [
              0.1111111111111111,
              "#46039f"
             ],
             [
              0.2222222222222222,
              "#7201a8"
             ],
             [
              0.3333333333333333,
              "#9c179e"
             ],
             [
              0.4444444444444444,
              "#bd3786"
             ],
             [
              0.5555555555555556,
              "#d8576b"
             ],
             [
              0.6666666666666666,
              "#ed7953"
             ],
             [
              0.7777777777777778,
              "#fb9f3a"
             ],
             [
              0.8888888888888888,
              "#fdca26"
             ],
             [
              1,
              "#f0f921"
             ]
            ],
            "type": "heatmap"
           }
          ],
          "heatmapgl": [
           {
            "colorbar": {
             "outlinewidth": 0,
             "ticks": ""
            },
            "colorscale": [
             [
              0,
              "#0d0887"
             ],
             [
              0.1111111111111111,
              "#46039f"
             ],
             [
              0.2222222222222222,
              "#7201a8"
             ],
             [
              0.3333333333333333,
              "#9c179e"
             ],
             [
              0.4444444444444444,
              "#bd3786"
             ],
             [
              0.5555555555555556,
              "#d8576b"
             ],
             [
              0.6666666666666666,
              "#ed7953"
             ],
             [
              0.7777777777777778,
              "#fb9f3a"
             ],
             [
              0.8888888888888888,
              "#fdca26"
             ],
             [
              1,
              "#f0f921"
             ]
            ],
            "type": "heatmapgl"
           }
          ],
          "histogram": [
           {
            "marker": {
             "pattern": {
              "fillmode": "overlay",
              "size": 10,
              "solidity": 0.2
             }
            },
            "type": "histogram"
           }
          ],
          "histogram2d": [
           {
            "colorbar": {
             "outlinewidth": 0,
             "ticks": ""
            },
            "colorscale": [
             [
              0,
              "#0d0887"
             ],
             [
              0.1111111111111111,
              "#46039f"
             ],
             [
              0.2222222222222222,
              "#7201a8"
             ],
             [
              0.3333333333333333,
              "#9c179e"
             ],
             [
              0.4444444444444444,
              "#bd3786"
             ],
             [
              0.5555555555555556,
              "#d8576b"
             ],
             [
              0.6666666666666666,
              "#ed7953"
             ],
             [
              0.7777777777777778,
              "#fb9f3a"
             ],
             [
              0.8888888888888888,
              "#fdca26"
             ],
             [
              1,
              "#f0f921"
             ]
            ],
            "type": "histogram2d"
           }
          ],
          "histogram2dcontour": [
           {
            "colorbar": {
             "outlinewidth": 0,
             "ticks": ""
            },
            "colorscale": [
             [
              0,
              "#0d0887"
             ],
             [
              0.1111111111111111,
              "#46039f"
             ],
             [
              0.2222222222222222,
              "#7201a8"
             ],
             [
              0.3333333333333333,
              "#9c179e"
             ],
             [
              0.4444444444444444,
              "#bd3786"
             ],
             [
              0.5555555555555556,
              "#d8576b"
             ],
             [
              0.6666666666666666,
              "#ed7953"
             ],
             [
              0.7777777777777778,
              "#fb9f3a"
             ],
             [
              0.8888888888888888,
              "#fdca26"
             ],
             [
              1,
              "#f0f921"
             ]
            ],
            "type": "histogram2dcontour"
           }
          ],
          "mesh3d": [
           {
            "colorbar": {
             "outlinewidth": 0,
             "ticks": ""
            },
            "type": "mesh3d"
           }
          ],
          "parcoords": [
           {
            "line": {
             "colorbar": {
              "outlinewidth": 0,
              "ticks": ""
             }
            },
            "type": "parcoords"
           }
          ],
          "pie": [
           {
            "automargin": true,
            "type": "pie"
           }
          ],
          "scatter": [
           {
            "fillpattern": {
             "fillmode": "overlay",
             "size": 10,
             "solidity": 0.2
            },
            "type": "scatter"
           }
          ],
          "scatter3d": [
           {
            "line": {
             "colorbar": {
              "outlinewidth": 0,
              "ticks": ""
             }
            },
            "marker": {
             "colorbar": {
              "outlinewidth": 0,
              "ticks": ""
             }
            },
            "type": "scatter3d"
           }
          ],
          "scattercarpet": [
           {
            "marker": {
             "colorbar": {
              "outlinewidth": 0,
              "ticks": ""
             }
            },
            "type": "scattercarpet"
           }
          ],
          "scattergeo": [
           {
            "marker": {
             "colorbar": {
              "outlinewidth": 0,
              "ticks": ""
             }
            },
            "type": "scattergeo"
           }
          ],
          "scattergl": [
           {
            "marker": {
             "colorbar": {
              "outlinewidth": 0,
              "ticks": ""
             }
            },
            "type": "scattergl"
           }
          ],
          "scattermapbox": [
           {
            "marker": {
             "colorbar": {
              "outlinewidth": 0,
              "ticks": ""
             }
            },
            "type": "scattermapbox"
           }
          ],
          "scatterpolar": [
           {
            "marker": {
             "colorbar": {
              "outlinewidth": 0,
              "ticks": ""
             }
            },
            "type": "scatterpolar"
           }
          ],
          "scatterpolargl": [
           {
            "marker": {
             "colorbar": {
              "outlinewidth": 0,
              "ticks": ""
             }
            },
            "type": "scatterpolargl"
           }
          ],
          "scatterternary": [
           {
            "marker": {
             "colorbar": {
              "outlinewidth": 0,
              "ticks": ""
             }
            },
            "type": "scatterternary"
           }
          ],
          "surface": [
           {
            "colorbar": {
             "outlinewidth": 0,
             "ticks": ""
            },
            "colorscale": [
             [
              0,
              "#0d0887"
             ],
             [
              0.1111111111111111,
              "#46039f"
             ],
             [
              0.2222222222222222,
              "#7201a8"
             ],
             [
              0.3333333333333333,
              "#9c179e"
             ],
             [
              0.4444444444444444,
              "#bd3786"
             ],
             [
              0.5555555555555556,
              "#d8576b"
             ],
             [
              0.6666666666666666,
              "#ed7953"
             ],
             [
              0.7777777777777778,
              "#fb9f3a"
             ],
             [
              0.8888888888888888,
              "#fdca26"
             ],
             [
              1,
              "#f0f921"
             ]
            ],
            "type": "surface"
           }
          ],
          "table": [
           {
            "cells": {
             "fill": {
              "color": "#EBF0F8"
             },
             "line": {
              "color": "white"
             }
            },
            "header": {
             "fill": {
              "color": "#C8D4E3"
             },
             "line": {
              "color": "white"
             }
            },
            "type": "table"
           }
          ]
         },
         "layout": {
          "annotationdefaults": {
           "arrowcolor": "#2a3f5f",
           "arrowhead": 0,
           "arrowwidth": 1
          },
          "autotypenumbers": "strict",
          "coloraxis": {
           "colorbar": {
            "outlinewidth": 0,
            "ticks": ""
           }
          },
          "colorscale": {
           "diverging": [
            [
             0,
             "#8e0152"
            ],
            [
             0.1,
             "#c51b7d"
            ],
            [
             0.2,
             "#de77ae"
            ],
            [
             0.3,
             "#f1b6da"
            ],
            [
             0.4,
             "#fde0ef"
            ],
            [
             0.5,
             "#f7f7f7"
            ],
            [
             0.6,
             "#e6f5d0"
            ],
            [
             0.7,
             "#b8e186"
            ],
            [
             0.8,
             "#7fbc41"
            ],
            [
             0.9,
             "#4d9221"
            ],
            [
             1,
             "#276419"
            ]
           ],
           "sequential": [
            [
             0,
             "#0d0887"
            ],
            [
             0.1111111111111111,
             "#46039f"
            ],
            [
             0.2222222222222222,
             "#7201a8"
            ],
            [
             0.3333333333333333,
             "#9c179e"
            ],
            [
             0.4444444444444444,
             "#bd3786"
            ],
            [
             0.5555555555555556,
             "#d8576b"
            ],
            [
             0.6666666666666666,
             "#ed7953"
            ],
            [
             0.7777777777777778,
             "#fb9f3a"
            ],
            [
             0.8888888888888888,
             "#fdca26"
            ],
            [
             1,
             "#f0f921"
            ]
           ],
           "sequentialminus": [
            [
             0,
             "#0d0887"
            ],
            [
             0.1111111111111111,
             "#46039f"
            ],
            [
             0.2222222222222222,
             "#7201a8"
            ],
            [
             0.3333333333333333,
             "#9c179e"
            ],
            [
             0.4444444444444444,
             "#bd3786"
            ],
            [
             0.5555555555555556,
             "#d8576b"
            ],
            [
             0.6666666666666666,
             "#ed7953"
            ],
            [
             0.7777777777777778,
             "#fb9f3a"
            ],
            [
             0.8888888888888888,
             "#fdca26"
            ],
            [
             1,
             "#f0f921"
            ]
           ]
          },
          "colorway": [
           "#636efa",
           "#EF553B",
           "#00cc96",
           "#ab63fa",
           "#FFA15A",
           "#19d3f3",
           "#FF6692",
           "#B6E880",
           "#FF97FF",
           "#FECB52"
          ],
          "font": {
           "color": "#2a3f5f"
          },
          "geo": {
           "bgcolor": "white",
           "lakecolor": "white",
           "landcolor": "#E5ECF6",
           "showlakes": true,
           "showland": true,
           "subunitcolor": "white"
          },
          "hoverlabel": {
           "align": "left"
          },
          "hovermode": "closest",
          "mapbox": {
           "style": "light"
          },
          "paper_bgcolor": "white",
          "plot_bgcolor": "#E5ECF6",
          "polar": {
           "angularaxis": {
            "gridcolor": "white",
            "linecolor": "white",
            "ticks": ""
           },
           "bgcolor": "#E5ECF6",
           "radialaxis": {
            "gridcolor": "white",
            "linecolor": "white",
            "ticks": ""
           }
          },
          "scene": {
           "xaxis": {
            "backgroundcolor": "#E5ECF6",
            "gridcolor": "white",
            "gridwidth": 2,
            "linecolor": "white",
            "showbackground": true,
            "ticks": "",
            "zerolinecolor": "white"
           },
           "yaxis": {
            "backgroundcolor": "#E5ECF6",
            "gridcolor": "white",
            "gridwidth": 2,
            "linecolor": "white",
            "showbackground": true,
            "ticks": "",
            "zerolinecolor": "white"
           },
           "zaxis": {
            "backgroundcolor": "#E5ECF6",
            "gridcolor": "white",
            "gridwidth": 2,
            "linecolor": "white",
            "showbackground": true,
            "ticks": "",
            "zerolinecolor": "white"
           }
          },
          "shapedefaults": {
           "line": {
            "color": "#2a3f5f"
           }
          },
          "ternary": {
           "aaxis": {
            "gridcolor": "white",
            "linecolor": "white",
            "ticks": ""
           },
           "baxis": {
            "gridcolor": "white",
            "linecolor": "white",
            "ticks": ""
           },
           "bgcolor": "#E5ECF6",
           "caxis": {
            "gridcolor": "white",
            "linecolor": "white",
            "ticks": ""
           }
          },
          "title": {
           "x": 0.05
          },
          "xaxis": {
           "automargin": true,
           "gridcolor": "white",
           "linecolor": "white",
           "ticks": "",
           "title": {
            "standoff": 15
           },
           "zerolinecolor": "white",
           "zerolinewidth": 2
          },
          "yaxis": {
           "automargin": true,
           "gridcolor": "white",
           "linecolor": "white",
           "ticks": "",
           "title": {
            "standoff": 15
           },
           "zerolinecolor": "white",
           "zerolinewidth": 2
          }
         }
        },
        "title": {
         "text": "Nitrogen (N)"
        },
        "xaxis": {
         "anchor": "y",
         "domain": [
          0,
          0.45
         ],
         "showgrid": false
        },
        "xaxis2": {
         "anchor": "y2",
         "domain": [
          0.55,
          1
         ],
         "showgrid": false
        },
        "yaxis": {
         "anchor": "x",
         "domain": [
          0,
          1
         ],
         "showgrid": false
        },
        "yaxis2": {
         "anchor": "x2",
         "domain": [
          0,
          1
         ],
         "showgrid": false
        }
       }
      }
     },
     "metadata": {},
     "output_type": "display_data"
    }
   ],
   "source": [
    "import random\n",
    "crop_summary_N = crop_summary.sort_values(by='Nitrogen', ascending=False)\n",
    "  \n",
    "fig = make_subplots(rows=1, cols=2)\n",
    "\n",
    "top = {\n",
    "    'y' : crop_summary_N['Nitrogen'][0:10].sort_values().index,\n",
    "    'x' : crop_summary_N['Nitrogen'][0:10].sort_values()\n",
    "}\n",
    "\n",
    "last = {\n",
    "    'y' : crop_summary_N['Nitrogen'][-10:].index,\n",
    "    'x' : crop_summary_N['Nitrogen'][-10:]\n",
    "}\n",
    "\n",
    "fig.add_trace(\n",
    "    go.Bar(top,\n",
    "           name=\"Most nitrogen required\",\n",
    "           marker_color=random.choice(colorarr),\n",
    "           orientation='h',\n",
    "          text=top['x']),\n",
    "    \n",
    "    row=1, col=1\n",
    ")\n",
    "\n",
    "fig.add_trace(\n",
    "    go.Bar(last,\n",
    "           name=\"Least nitrogen required\",\n",
    "           marker_color=random.choice(colorarr),\n",
    "           orientation='h',\n",
    "          text=last['x']),\n",
    "    row=1, col=2\n",
    ")\n",
    "fig.update_traces(texttemplate='%{text}', textposition='inside')\n",
    "fig.update_layout(title_text=\"Nitrogen (N)\",\n",
    "                  plot_bgcolor='white',\n",
    "                  font_size=12, \n",
    "                  font_color='black',\n",
    "                 height=500)\n",
    "\n",
    "fig.update_xaxes(showgrid=False)\n",
    "fig.update_yaxes(showgrid=False)\n",
    "fig.show()"
   ]
  },
  {
   "cell_type": "code",
   "execution_count": 27,
   "id": "7da54eba",
   "metadata": {},
   "outputs": [
    {
     "data": {
      "application/vnd.plotly.v1+json": {
       "config": {
        "plotlyServerURL": "https://plot.ly"
       },
       "data": [
        {
         "marker": {
          "color": "#32cd32"
         },
         "name": "Most phosphorus required",
         "orientation": "h",
         "text": [
          39.61538461538461,
          39.63636363636363,
          41.440677966101696,
          47.28155339805825,
          50,
          50,
          53.119906868451686,
          56.73076923076923,
          70,
          70.62871287128714
         ],
         "textposition": "inside",
         "texttemplate": "%{text}",
         "type": "bar",
         "x": [
          39.61538461538461,
          39.63636363636363,
          41.440677966101696,
          47.28155339805825,
          50,
          50,
          53.119906868451686,
          56.73076923076923,
          70,
          70.62871287128714
         ],
         "xaxis": "x",
         "y": [
          "Gram",
          "Turmeric",
          "Groundnut",
          "Rice",
          "Ginger",
          "Grapes",
          "Wheat",
          "Cotton",
          "Maize",
          "Sugarcane"
         ],
         "yaxis": "y"
        },
        {
         "marker": {
          "color": "#B38b6d"
         },
         "name": "Least phosphorus required",
         "orientation": "h",
         "text": [
          47.28155339805825,
          41.440677966101696,
          39.63636363636363,
          39.61538461538461,
          37.03045685279188,
          36.785714285714285,
          35,
          35,
          26.818181818181817,
          22.5
         ],
         "textposition": "inside",
         "texttemplate": "%{text}",
         "type": "bar",
         "x": [
          47.28155339805825,
          41.440677966101696,
          39.63636363636363,
          39.61538461538461,
          37.03045685279188,
          36.785714285714285,
          35,
          35,
          26.818181818181817,
          22.5
         ],
         "xaxis": "x2",
         "y": [
          "Rice",
          "Groundnut",
          "Turmeric",
          "Gram",
          "Jowar",
          "Tur",
          "Soybean",
          "Urad",
          "Moong",
          "Masoor"
         ],
         "yaxis": "y2"
        }
       ],
       "layout": {
        "font": {
         "color": "black",
         "size": 12
        },
        "height": 500,
        "plot_bgcolor": "white",
        "template": {
         "data": {
          "bar": [
           {
            "error_x": {
             "color": "#2a3f5f"
            },
            "error_y": {
             "color": "#2a3f5f"
            },
            "marker": {
             "line": {
              "color": "#E5ECF6",
              "width": 0.5
             },
             "pattern": {
              "fillmode": "overlay",
              "size": 10,
              "solidity": 0.2
             }
            },
            "type": "bar"
           }
          ],
          "barpolar": [
           {
            "marker": {
             "line": {
              "color": "#E5ECF6",
              "width": 0.5
             },
             "pattern": {
              "fillmode": "overlay",
              "size": 10,
              "solidity": 0.2
             }
            },
            "type": "barpolar"
           }
          ],
          "carpet": [
           {
            "aaxis": {
             "endlinecolor": "#2a3f5f",
             "gridcolor": "white",
             "linecolor": "white",
             "minorgridcolor": "white",
             "startlinecolor": "#2a3f5f"
            },
            "baxis": {
             "endlinecolor": "#2a3f5f",
             "gridcolor": "white",
             "linecolor": "white",
             "minorgridcolor": "white",
             "startlinecolor": "#2a3f5f"
            },
            "type": "carpet"
           }
          ],
          "choropleth": [
           {
            "colorbar": {
             "outlinewidth": 0,
             "ticks": ""
            },
            "type": "choropleth"
           }
          ],
          "contour": [
           {
            "colorbar": {
             "outlinewidth": 0,
             "ticks": ""
            },
            "colorscale": [
             [
              0,
              "#0d0887"
             ],
             [
              0.1111111111111111,
              "#46039f"
             ],
             [
              0.2222222222222222,
              "#7201a8"
             ],
             [
              0.3333333333333333,
              "#9c179e"
             ],
             [
              0.4444444444444444,
              "#bd3786"
             ],
             [
              0.5555555555555556,
              "#d8576b"
             ],
             [
              0.6666666666666666,
              "#ed7953"
             ],
             [
              0.7777777777777778,
              "#fb9f3a"
             ],
             [
              0.8888888888888888,
              "#fdca26"
             ],
             [
              1,
              "#f0f921"
             ]
            ],
            "type": "contour"
           }
          ],
          "contourcarpet": [
           {
            "colorbar": {
             "outlinewidth": 0,
             "ticks": ""
            },
            "type": "contourcarpet"
           }
          ],
          "heatmap": [
           {
            "colorbar": {
             "outlinewidth": 0,
             "ticks": ""
            },
            "colorscale": [
             [
              0,
              "#0d0887"
             ],
             [
              0.1111111111111111,
              "#46039f"
             ],
             [
              0.2222222222222222,
              "#7201a8"
             ],
             [
              0.3333333333333333,
              "#9c179e"
             ],
             [
              0.4444444444444444,
              "#bd3786"
             ],
             [
              0.5555555555555556,
              "#d8576b"
             ],
             [
              0.6666666666666666,
              "#ed7953"
             ],
             [
              0.7777777777777778,
              "#fb9f3a"
             ],
             [
              0.8888888888888888,
              "#fdca26"
             ],
             [
              1,
              "#f0f921"
             ]
            ],
            "type": "heatmap"
           }
          ],
          "heatmapgl": [
           {
            "colorbar": {
             "outlinewidth": 0,
             "ticks": ""
            },
            "colorscale": [
             [
              0,
              "#0d0887"
             ],
             [
              0.1111111111111111,
              "#46039f"
             ],
             [
              0.2222222222222222,
              "#7201a8"
             ],
             [
              0.3333333333333333,
              "#9c179e"
             ],
             [
              0.4444444444444444,
              "#bd3786"
             ],
             [
              0.5555555555555556,
              "#d8576b"
             ],
             [
              0.6666666666666666,
              "#ed7953"
             ],
             [
              0.7777777777777778,
              "#fb9f3a"
             ],
             [
              0.8888888888888888,
              "#fdca26"
             ],
             [
              1,
              "#f0f921"
             ]
            ],
            "type": "heatmapgl"
           }
          ],
          "histogram": [
           {
            "marker": {
             "pattern": {
              "fillmode": "overlay",
              "size": 10,
              "solidity": 0.2
             }
            },
            "type": "histogram"
           }
          ],
          "histogram2d": [
           {
            "colorbar": {
             "outlinewidth": 0,
             "ticks": ""
            },
            "colorscale": [
             [
              0,
              "#0d0887"
             ],
             [
              0.1111111111111111,
              "#46039f"
             ],
             [
              0.2222222222222222,
              "#7201a8"
             ],
             [
              0.3333333333333333,
              "#9c179e"
             ],
             [
              0.4444444444444444,
              "#bd3786"
             ],
             [
              0.5555555555555556,
              "#d8576b"
             ],
             [
              0.6666666666666666,
              "#ed7953"
             ],
             [
              0.7777777777777778,
              "#fb9f3a"
             ],
             [
              0.8888888888888888,
              "#fdca26"
             ],
             [
              1,
              "#f0f921"
             ]
            ],
            "type": "histogram2d"
           }
          ],
          "histogram2dcontour": [
           {
            "colorbar": {
             "outlinewidth": 0,
             "ticks": ""
            },
            "colorscale": [
             [
              0,
              "#0d0887"
             ],
             [
              0.1111111111111111,
              "#46039f"
             ],
             [
              0.2222222222222222,
              "#7201a8"
             ],
             [
              0.3333333333333333,
              "#9c179e"
             ],
             [
              0.4444444444444444,
              "#bd3786"
             ],
             [
              0.5555555555555556,
              "#d8576b"
             ],
             [
              0.6666666666666666,
              "#ed7953"
             ],
             [
              0.7777777777777778,
              "#fb9f3a"
             ],
             [
              0.8888888888888888,
              "#fdca26"
             ],
             [
              1,
              "#f0f921"
             ]
            ],
            "type": "histogram2dcontour"
           }
          ],
          "mesh3d": [
           {
            "colorbar": {
             "outlinewidth": 0,
             "ticks": ""
            },
            "type": "mesh3d"
           }
          ],
          "parcoords": [
           {
            "line": {
             "colorbar": {
              "outlinewidth": 0,
              "ticks": ""
             }
            },
            "type": "parcoords"
           }
          ],
          "pie": [
           {
            "automargin": true,
            "type": "pie"
           }
          ],
          "scatter": [
           {
            "fillpattern": {
             "fillmode": "overlay",
             "size": 10,
             "solidity": 0.2
            },
            "type": "scatter"
           }
          ],
          "scatter3d": [
           {
            "line": {
             "colorbar": {
              "outlinewidth": 0,
              "ticks": ""
             }
            },
            "marker": {
             "colorbar": {
              "outlinewidth": 0,
              "ticks": ""
             }
            },
            "type": "scatter3d"
           }
          ],
          "scattercarpet": [
           {
            "marker": {
             "colorbar": {
              "outlinewidth": 0,
              "ticks": ""
             }
            },
            "type": "scattercarpet"
           }
          ],
          "scattergeo": [
           {
            "marker": {
             "colorbar": {
              "outlinewidth": 0,
              "ticks": ""
             }
            },
            "type": "scattergeo"
           }
          ],
          "scattergl": [
           {
            "marker": {
             "colorbar": {
              "outlinewidth": 0,
              "ticks": ""
             }
            },
            "type": "scattergl"
           }
          ],
          "scattermapbox": [
           {
            "marker": {
             "colorbar": {
              "outlinewidth": 0,
              "ticks": ""
             }
            },
            "type": "scattermapbox"
           }
          ],
          "scatterpolar": [
           {
            "marker": {
             "colorbar": {
              "outlinewidth": 0,
              "ticks": ""
             }
            },
            "type": "scatterpolar"
           }
          ],
          "scatterpolargl": [
           {
            "marker": {
             "colorbar": {
              "outlinewidth": 0,
              "ticks": ""
             }
            },
            "type": "scatterpolargl"
           }
          ],
          "scatterternary": [
           {
            "marker": {
             "colorbar": {
              "outlinewidth": 0,
              "ticks": ""
             }
            },
            "type": "scatterternary"
           }
          ],
          "surface": [
           {
            "colorbar": {
             "outlinewidth": 0,
             "ticks": ""
            },
            "colorscale": [
             [
              0,
              "#0d0887"
             ],
             [
              0.1111111111111111,
              "#46039f"
             ],
             [
              0.2222222222222222,
              "#7201a8"
             ],
             [
              0.3333333333333333,
              "#9c179e"
             ],
             [
              0.4444444444444444,
              "#bd3786"
             ],
             [
              0.5555555555555556,
              "#d8576b"
             ],
             [
              0.6666666666666666,
              "#ed7953"
             ],
             [
              0.7777777777777778,
              "#fb9f3a"
             ],
             [
              0.8888888888888888,
              "#fdca26"
             ],
             [
              1,
              "#f0f921"
             ]
            ],
            "type": "surface"
           }
          ],
          "table": [
           {
            "cells": {
             "fill": {
              "color": "#EBF0F8"
             },
             "line": {
              "color": "white"
             }
            },
            "header": {
             "fill": {
              "color": "#C8D4E3"
             },
             "line": {
              "color": "white"
             }
            },
            "type": "table"
           }
          ]
         },
         "layout": {
          "annotationdefaults": {
           "arrowcolor": "#2a3f5f",
           "arrowhead": 0,
           "arrowwidth": 1
          },
          "autotypenumbers": "strict",
          "coloraxis": {
           "colorbar": {
            "outlinewidth": 0,
            "ticks": ""
           }
          },
          "colorscale": {
           "diverging": [
            [
             0,
             "#8e0152"
            ],
            [
             0.1,
             "#c51b7d"
            ],
            [
             0.2,
             "#de77ae"
            ],
            [
             0.3,
             "#f1b6da"
            ],
            [
             0.4,
             "#fde0ef"
            ],
            [
             0.5,
             "#f7f7f7"
            ],
            [
             0.6,
             "#e6f5d0"
            ],
            [
             0.7,
             "#b8e186"
            ],
            [
             0.8,
             "#7fbc41"
            ],
            [
             0.9,
             "#4d9221"
            ],
            [
             1,
             "#276419"
            ]
           ],
           "sequential": [
            [
             0,
             "#0d0887"
            ],
            [
             0.1111111111111111,
             "#46039f"
            ],
            [
             0.2222222222222222,
             "#7201a8"
            ],
            [
             0.3333333333333333,
             "#9c179e"
            ],
            [
             0.4444444444444444,
             "#bd3786"
            ],
            [
             0.5555555555555556,
             "#d8576b"
            ],
            [
             0.6666666666666666,
             "#ed7953"
            ],
            [
             0.7777777777777778,
             "#fb9f3a"
            ],
            [
             0.8888888888888888,
             "#fdca26"
            ],
            [
             1,
             "#f0f921"
            ]
           ],
           "sequentialminus": [
            [
             0,
             "#0d0887"
            ],
            [
             0.1111111111111111,
             "#46039f"
            ],
            [
             0.2222222222222222,
             "#7201a8"
            ],
            [
             0.3333333333333333,
             "#9c179e"
            ],
            [
             0.4444444444444444,
             "#bd3786"
            ],
            [
             0.5555555555555556,
             "#d8576b"
            ],
            [
             0.6666666666666666,
             "#ed7953"
            ],
            [
             0.7777777777777778,
             "#fb9f3a"
            ],
            [
             0.8888888888888888,
             "#fdca26"
            ],
            [
             1,
             "#f0f921"
            ]
           ]
          },
          "colorway": [
           "#636efa",
           "#EF553B",
           "#00cc96",
           "#ab63fa",
           "#FFA15A",
           "#19d3f3",
           "#FF6692",
           "#B6E880",
           "#FF97FF",
           "#FECB52"
          ],
          "font": {
           "color": "#2a3f5f"
          },
          "geo": {
           "bgcolor": "white",
           "lakecolor": "white",
           "landcolor": "#E5ECF6",
           "showlakes": true,
           "showland": true,
           "subunitcolor": "white"
          },
          "hoverlabel": {
           "align": "left"
          },
          "hovermode": "closest",
          "mapbox": {
           "style": "light"
          },
          "paper_bgcolor": "white",
          "plot_bgcolor": "#E5ECF6",
          "polar": {
           "angularaxis": {
            "gridcolor": "white",
            "linecolor": "white",
            "ticks": ""
           },
           "bgcolor": "#E5ECF6",
           "radialaxis": {
            "gridcolor": "white",
            "linecolor": "white",
            "ticks": ""
           }
          },
          "scene": {
           "xaxis": {
            "backgroundcolor": "#E5ECF6",
            "gridcolor": "white",
            "gridwidth": 2,
            "linecolor": "white",
            "showbackground": true,
            "ticks": "",
            "zerolinecolor": "white"
           },
           "yaxis": {
            "backgroundcolor": "#E5ECF6",
            "gridcolor": "white",
            "gridwidth": 2,
            "linecolor": "white",
            "showbackground": true,
            "ticks": "",
            "zerolinecolor": "white"
           },
           "zaxis": {
            "backgroundcolor": "#E5ECF6",
            "gridcolor": "white",
            "gridwidth": 2,
            "linecolor": "white",
            "showbackground": true,
            "ticks": "",
            "zerolinecolor": "white"
           }
          },
          "shapedefaults": {
           "line": {
            "color": "#2a3f5f"
           }
          },
          "ternary": {
           "aaxis": {
            "gridcolor": "white",
            "linecolor": "white",
            "ticks": ""
           },
           "baxis": {
            "gridcolor": "white",
            "linecolor": "white",
            "ticks": ""
           },
           "bgcolor": "#E5ECF6",
           "caxis": {
            "gridcolor": "white",
            "linecolor": "white",
            "ticks": ""
           }
          },
          "title": {
           "x": 0.05
          },
          "xaxis": {
           "automargin": true,
           "gridcolor": "white",
           "linecolor": "white",
           "ticks": "",
           "title": {
            "standoff": 15
           },
           "zerolinecolor": "white",
           "zerolinewidth": 2
          },
          "yaxis": {
           "automargin": true,
           "gridcolor": "white",
           "linecolor": "white",
           "ticks": "",
           "title": {
            "standoff": 15
           },
           "zerolinecolor": "white",
           "zerolinewidth": 2
          }
         }
        },
        "title": {
         "text": "Phosphorus (P)"
        },
        "xaxis": {
         "anchor": "y",
         "domain": [
          0,
          0.45
         ],
         "showgrid": false
        },
        "xaxis2": {
         "anchor": "y2",
         "domain": [
          0.55,
          1
         ],
         "showgrid": false
        },
        "yaxis": {
         "anchor": "x",
         "domain": [
          0,
          1
         ],
         "showgrid": false
        },
        "yaxis2": {
         "anchor": "x2",
         "domain": [
          0,
          1
         ],
         "showgrid": false
        }
       }
      }
     },
     "metadata": {},
     "output_type": "display_data"
    }
   ],
   "source": [
    "crop_summary_P = crop_summary.sort_values(by='Phosphorus', ascending=False)\n",
    "  \n",
    "fig = make_subplots(rows=1, cols=2)\n",
    "\n",
    "top = {\n",
    "    'y' : crop_summary_P['Phosphorus'][0:10].sort_values().index,\n",
    "    'x' : crop_summary_P['Phosphorus'][0:10].sort_values()\n",
    "}\n",
    "\n",
    "last = {\n",
    "    'y' : crop_summary_P['Phosphorus'][-10:].index,\n",
    "    'x' : crop_summary_P['Phosphorus'][-10:]\n",
    "}\n",
    "\n",
    "fig.add_trace(\n",
    "    go.Bar(top,\n",
    "           name=\"Most phosphorus required\",\n",
    "           marker_color=random.choice(colorarr),\n",
    "           orientation='h',\n",
    "          text=top['x']),\n",
    "    \n",
    "    row=1, col=1\n",
    ")\n",
    "\n",
    "fig.add_trace(\n",
    "    go.Bar(last,\n",
    "           name=\"Least phosphorus required\",\n",
    "           marker_color=random.choice(colorarr),\n",
    "           orientation='h',\n",
    "          text=last['x']),\n",
    "    row=1, col=2\n",
    ")\n",
    "fig.update_traces(texttemplate='%{text}', textposition='inside')\n",
    "fig.update_layout(title_text=\"Phosphorus (P)\",\n",
    "                  plot_bgcolor='white',\n",
    "                  font_size=12, \n",
    "                  font_color='black',\n",
    "                 height=500)\n",
    "\n",
    "fig.update_xaxes(showgrid=False)\n",
    "fig.update_yaxes(showgrid=False)\n",
    "fig.show()"
   ]
  },
  {
   "cell_type": "code",
   "execution_count": 28,
   "id": "9b3e96ad",
   "metadata": {},
   "outputs": [
    {
     "data": {
      "application/vnd.plotly.v1+json": {
       "config": {
        "plotlyServerURL": "https://plot.ly"
       },
       "data": [
        {
         "marker": {
          "color": "#E5e4e2"
         },
         "name": "Most potassium required",
         "orientation": "h",
         "text": [
          27.88135593220339,
          36.598984771573605,
          44.90909090909091,
          48.349514563106794,
          49.65714285714286,
          49.738067520372525,
          60.76923076923077,
          70,
          113.98019801980197,
          130
         ],
         "textposition": "inside",
         "texttemplate": "%{text}",
         "type": "bar",
         "x": [
          27.88135593220339,
          36.598984771573605,
          44.90909090909091,
          48.349514563106794,
          49.65714285714286,
          49.738067520372525,
          60.76923076923077,
          70,
          113.98019801980197,
          130
         ],
         "xaxis": "x",
         "y": [
          "Groundnut",
          "Jowar",
          "Turmeric",
          "Rice",
          "Maize",
          "Wheat",
          "Cotton",
          "Ginger",
          "Sugarcane",
          "Grapes"
         ],
         "yaxis": "y"
        },
        {
         "marker": {
          "color": "#Ffb347"
         },
         "name": "Least potassium required",
         "orientation": "h",
         "text": [
          48.349514563106794,
          44.90909090909091,
          36.598984771573605,
          27.88135593220339,
          25,
          25,
          23.214285714285715,
          22.5,
          21.153846153846153,
          20.90909090909091
         ],
         "textposition": "inside",
         "texttemplate": "%{text}",
         "type": "bar",
         "x": [
          48.349514563106794,
          44.90909090909091,
          36.598984771573605,
          27.88135593220339,
          25,
          25,
          23.214285714285715,
          22.5,
          21.153846153846153,
          20.90909090909091
         ],
         "xaxis": "x2",
         "y": [
          "Rice",
          "Turmeric",
          "Jowar",
          "Groundnut",
          "Soybean",
          "Urad",
          "Tur",
          "Masoor",
          "Gram",
          "Moong"
         ],
         "yaxis": "y2"
        }
       ],
       "layout": {
        "font": {
         "color": "black",
         "size": 12
        },
        "height": 500,
        "plot_bgcolor": "white",
        "template": {
         "data": {
          "bar": [
           {
            "error_x": {
             "color": "#2a3f5f"
            },
            "error_y": {
             "color": "#2a3f5f"
            },
            "marker": {
             "line": {
              "color": "#E5ECF6",
              "width": 0.5
             },
             "pattern": {
              "fillmode": "overlay",
              "size": 10,
              "solidity": 0.2
             }
            },
            "type": "bar"
           }
          ],
          "barpolar": [
           {
            "marker": {
             "line": {
              "color": "#E5ECF6",
              "width": 0.5
             },
             "pattern": {
              "fillmode": "overlay",
              "size": 10,
              "solidity": 0.2
             }
            },
            "type": "barpolar"
           }
          ],
          "carpet": [
           {
            "aaxis": {
             "endlinecolor": "#2a3f5f",
             "gridcolor": "white",
             "linecolor": "white",
             "minorgridcolor": "white",
             "startlinecolor": "#2a3f5f"
            },
            "baxis": {
             "endlinecolor": "#2a3f5f",
             "gridcolor": "white",
             "linecolor": "white",
             "minorgridcolor": "white",
             "startlinecolor": "#2a3f5f"
            },
            "type": "carpet"
           }
          ],
          "choropleth": [
           {
            "colorbar": {
             "outlinewidth": 0,
             "ticks": ""
            },
            "type": "choropleth"
           }
          ],
          "contour": [
           {
            "colorbar": {
             "outlinewidth": 0,
             "ticks": ""
            },
            "colorscale": [
             [
              0,
              "#0d0887"
             ],
             [
              0.1111111111111111,
              "#46039f"
             ],
             [
              0.2222222222222222,
              "#7201a8"
             ],
             [
              0.3333333333333333,
              "#9c179e"
             ],
             [
              0.4444444444444444,
              "#bd3786"
             ],
             [
              0.5555555555555556,
              "#d8576b"
             ],
             [
              0.6666666666666666,
              "#ed7953"
             ],
             [
              0.7777777777777778,
              "#fb9f3a"
             ],
             [
              0.8888888888888888,
              "#fdca26"
             ],
             [
              1,
              "#f0f921"
             ]
            ],
            "type": "contour"
           }
          ],
          "contourcarpet": [
           {
            "colorbar": {
             "outlinewidth": 0,
             "ticks": ""
            },
            "type": "contourcarpet"
           }
          ],
          "heatmap": [
           {
            "colorbar": {
             "outlinewidth": 0,
             "ticks": ""
            },
            "colorscale": [
             [
              0,
              "#0d0887"
             ],
             [
              0.1111111111111111,
              "#46039f"
             ],
             [
              0.2222222222222222,
              "#7201a8"
             ],
             [
              0.3333333333333333,
              "#9c179e"
             ],
             [
              0.4444444444444444,
              "#bd3786"
             ],
             [
              0.5555555555555556,
              "#d8576b"
             ],
             [
              0.6666666666666666,
              "#ed7953"
             ],
             [
              0.7777777777777778,
              "#fb9f3a"
             ],
             [
              0.8888888888888888,
              "#fdca26"
             ],
             [
              1,
              "#f0f921"
             ]
            ],
            "type": "heatmap"
           }
          ],
          "heatmapgl": [
           {
            "colorbar": {
             "outlinewidth": 0,
             "ticks": ""
            },
            "colorscale": [
             [
              0,
              "#0d0887"
             ],
             [
              0.1111111111111111,
              "#46039f"
             ],
             [
              0.2222222222222222,
              "#7201a8"
             ],
             [
              0.3333333333333333,
              "#9c179e"
             ],
             [
              0.4444444444444444,
              "#bd3786"
             ],
             [
              0.5555555555555556,
              "#d8576b"
             ],
             [
              0.6666666666666666,
              "#ed7953"
             ],
             [
              0.7777777777777778,
              "#fb9f3a"
             ],
             [
              0.8888888888888888,
              "#fdca26"
             ],
             [
              1,
              "#f0f921"
             ]
            ],
            "type": "heatmapgl"
           }
          ],
          "histogram": [
           {
            "marker": {
             "pattern": {
              "fillmode": "overlay",
              "size": 10,
              "solidity": 0.2
             }
            },
            "type": "histogram"
           }
          ],
          "histogram2d": [
           {
            "colorbar": {
             "outlinewidth": 0,
             "ticks": ""
            },
            "colorscale": [
             [
              0,
              "#0d0887"
             ],
             [
              0.1111111111111111,
              "#46039f"
             ],
             [
              0.2222222222222222,
              "#7201a8"
             ],
             [
              0.3333333333333333,
              "#9c179e"
             ],
             [
              0.4444444444444444,
              "#bd3786"
             ],
             [
              0.5555555555555556,
              "#d8576b"
             ],
             [
              0.6666666666666666,
              "#ed7953"
             ],
             [
              0.7777777777777778,
              "#fb9f3a"
             ],
             [
              0.8888888888888888,
              "#fdca26"
             ],
             [
              1,
              "#f0f921"
             ]
            ],
            "type": "histogram2d"
           }
          ],
          "histogram2dcontour": [
           {
            "colorbar": {
             "outlinewidth": 0,
             "ticks": ""
            },
            "colorscale": [
             [
              0,
              "#0d0887"
             ],
             [
              0.1111111111111111,
              "#46039f"
             ],
             [
              0.2222222222222222,
              "#7201a8"
             ],
             [
              0.3333333333333333,
              "#9c179e"
             ],
             [
              0.4444444444444444,
              "#bd3786"
             ],
             [
              0.5555555555555556,
              "#d8576b"
             ],
             [
              0.6666666666666666,
              "#ed7953"
             ],
             [
              0.7777777777777778,
              "#fb9f3a"
             ],
             [
              0.8888888888888888,
              "#fdca26"
             ],
             [
              1,
              "#f0f921"
             ]
            ],
            "type": "histogram2dcontour"
           }
          ],
          "mesh3d": [
           {
            "colorbar": {
             "outlinewidth": 0,
             "ticks": ""
            },
            "type": "mesh3d"
           }
          ],
          "parcoords": [
           {
            "line": {
             "colorbar": {
              "outlinewidth": 0,
              "ticks": ""
             }
            },
            "type": "parcoords"
           }
          ],
          "pie": [
           {
            "automargin": true,
            "type": "pie"
           }
          ],
          "scatter": [
           {
            "fillpattern": {
             "fillmode": "overlay",
             "size": 10,
             "solidity": 0.2
            },
            "type": "scatter"
           }
          ],
          "scatter3d": [
           {
            "line": {
             "colorbar": {
              "outlinewidth": 0,
              "ticks": ""
             }
            },
            "marker": {
             "colorbar": {
              "outlinewidth": 0,
              "ticks": ""
             }
            },
            "type": "scatter3d"
           }
          ],
          "scattercarpet": [
           {
            "marker": {
             "colorbar": {
              "outlinewidth": 0,
              "ticks": ""
             }
            },
            "type": "scattercarpet"
           }
          ],
          "scattergeo": [
           {
            "marker": {
             "colorbar": {
              "outlinewidth": 0,
              "ticks": ""
             }
            },
            "type": "scattergeo"
           }
          ],
          "scattergl": [
           {
            "marker": {
             "colorbar": {
              "outlinewidth": 0,
              "ticks": ""
             }
            },
            "type": "scattergl"
           }
          ],
          "scattermapbox": [
           {
            "marker": {
             "colorbar": {
              "outlinewidth": 0,
              "ticks": ""
             }
            },
            "type": "scattermapbox"
           }
          ],
          "scatterpolar": [
           {
            "marker": {
             "colorbar": {
              "outlinewidth": 0,
              "ticks": ""
             }
            },
            "type": "scatterpolar"
           }
          ],
          "scatterpolargl": [
           {
            "marker": {
             "colorbar": {
              "outlinewidth": 0,
              "ticks": ""
             }
            },
            "type": "scatterpolargl"
           }
          ],
          "scatterternary": [
           {
            "marker": {
             "colorbar": {
              "outlinewidth": 0,
              "ticks": ""
             }
            },
            "type": "scatterternary"
           }
          ],
          "surface": [
           {
            "colorbar": {
             "outlinewidth": 0,
             "ticks": ""
            },
            "colorscale": [
             [
              0,
              "#0d0887"
             ],
             [
              0.1111111111111111,
              "#46039f"
             ],
             [
              0.2222222222222222,
              "#7201a8"
             ],
             [
              0.3333333333333333,
              "#9c179e"
             ],
             [
              0.4444444444444444,
              "#bd3786"
             ],
             [
              0.5555555555555556,
              "#d8576b"
             ],
             [
              0.6666666666666666,
              "#ed7953"
             ],
             [
              0.7777777777777778,
              "#fb9f3a"
             ],
             [
              0.8888888888888888,
              "#fdca26"
             ],
             [
              1,
              "#f0f921"
             ]
            ],
            "type": "surface"
           }
          ],
          "table": [
           {
            "cells": {
             "fill": {
              "color": "#EBF0F8"
             },
             "line": {
              "color": "white"
             }
            },
            "header": {
             "fill": {
              "color": "#C8D4E3"
             },
             "line": {
              "color": "white"
             }
            },
            "type": "table"
           }
          ]
         },
         "layout": {
          "annotationdefaults": {
           "arrowcolor": "#2a3f5f",
           "arrowhead": 0,
           "arrowwidth": 1
          },
          "autotypenumbers": "strict",
          "coloraxis": {
           "colorbar": {
            "outlinewidth": 0,
            "ticks": ""
           }
          },
          "colorscale": {
           "diverging": [
            [
             0,
             "#8e0152"
            ],
            [
             0.1,
             "#c51b7d"
            ],
            [
             0.2,
             "#de77ae"
            ],
            [
             0.3,
             "#f1b6da"
            ],
            [
             0.4,
             "#fde0ef"
            ],
            [
             0.5,
             "#f7f7f7"
            ],
            [
             0.6,
             "#e6f5d0"
            ],
            [
             0.7,
             "#b8e186"
            ],
            [
             0.8,
             "#7fbc41"
            ],
            [
             0.9,
             "#4d9221"
            ],
            [
             1,
             "#276419"
            ]
           ],
           "sequential": [
            [
             0,
             "#0d0887"
            ],
            [
             0.1111111111111111,
             "#46039f"
            ],
            [
             0.2222222222222222,
             "#7201a8"
            ],
            [
             0.3333333333333333,
             "#9c179e"
            ],
            [
             0.4444444444444444,
             "#bd3786"
            ],
            [
             0.5555555555555556,
             "#d8576b"
            ],
            [
             0.6666666666666666,
             "#ed7953"
            ],
            [
             0.7777777777777778,
             "#fb9f3a"
            ],
            [
             0.8888888888888888,
             "#fdca26"
            ],
            [
             1,
             "#f0f921"
            ]
           ],
           "sequentialminus": [
            [
             0,
             "#0d0887"
            ],
            [
             0.1111111111111111,
             "#46039f"
            ],
            [
             0.2222222222222222,
             "#7201a8"
            ],
            [
             0.3333333333333333,
             "#9c179e"
            ],
            [
             0.4444444444444444,
             "#bd3786"
            ],
            [
             0.5555555555555556,
             "#d8576b"
            ],
            [
             0.6666666666666666,
             "#ed7953"
            ],
            [
             0.7777777777777778,
             "#fb9f3a"
            ],
            [
             0.8888888888888888,
             "#fdca26"
            ],
            [
             1,
             "#f0f921"
            ]
           ]
          },
          "colorway": [
           "#636efa",
           "#EF553B",
           "#00cc96",
           "#ab63fa",
           "#FFA15A",
           "#19d3f3",
           "#FF6692",
           "#B6E880",
           "#FF97FF",
           "#FECB52"
          ],
          "font": {
           "color": "#2a3f5f"
          },
          "geo": {
           "bgcolor": "white",
           "lakecolor": "white",
           "landcolor": "#E5ECF6",
           "showlakes": true,
           "showland": true,
           "subunitcolor": "white"
          },
          "hoverlabel": {
           "align": "left"
          },
          "hovermode": "closest",
          "mapbox": {
           "style": "light"
          },
          "paper_bgcolor": "white",
          "plot_bgcolor": "#E5ECF6",
          "polar": {
           "angularaxis": {
            "gridcolor": "white",
            "linecolor": "white",
            "ticks": ""
           },
           "bgcolor": "#E5ECF6",
           "radialaxis": {
            "gridcolor": "white",
            "linecolor": "white",
            "ticks": ""
           }
          },
          "scene": {
           "xaxis": {
            "backgroundcolor": "#E5ECF6",
            "gridcolor": "white",
            "gridwidth": 2,
            "linecolor": "white",
            "showbackground": true,
            "ticks": "",
            "zerolinecolor": "white"
           },
           "yaxis": {
            "backgroundcolor": "#E5ECF6",
            "gridcolor": "white",
            "gridwidth": 2,
            "linecolor": "white",
            "showbackground": true,
            "ticks": "",
            "zerolinecolor": "white"
           },
           "zaxis": {
            "backgroundcolor": "#E5ECF6",
            "gridcolor": "white",
            "gridwidth": 2,
            "linecolor": "white",
            "showbackground": true,
            "ticks": "",
            "zerolinecolor": "white"
           }
          },
          "shapedefaults": {
           "line": {
            "color": "#2a3f5f"
           }
          },
          "ternary": {
           "aaxis": {
            "gridcolor": "white",
            "linecolor": "white",
            "ticks": ""
           },
           "baxis": {
            "gridcolor": "white",
            "linecolor": "white",
            "ticks": ""
           },
           "bgcolor": "#E5ECF6",
           "caxis": {
            "gridcolor": "white",
            "linecolor": "white",
            "ticks": ""
           }
          },
          "title": {
           "x": 0.05
          },
          "xaxis": {
           "automargin": true,
           "gridcolor": "white",
           "linecolor": "white",
           "ticks": "",
           "title": {
            "standoff": 15
           },
           "zerolinecolor": "white",
           "zerolinewidth": 2
          },
          "yaxis": {
           "automargin": true,
           "gridcolor": "white",
           "linecolor": "white",
           "ticks": "",
           "title": {
            "standoff": 15
           },
           "zerolinecolor": "white",
           "zerolinewidth": 2
          }
         }
        },
        "title": {
         "text": "Potassium (K)"
        },
        "xaxis": {
         "anchor": "y",
         "domain": [
          0,
          0.45
         ],
         "showgrid": false
        },
        "xaxis2": {
         "anchor": "y2",
         "domain": [
          0.55,
          1
         ],
         "showgrid": false
        },
        "yaxis": {
         "anchor": "x",
         "domain": [
          0,
          1
         ],
         "showgrid": false
        },
        "yaxis2": {
         "anchor": "x2",
         "domain": [
          0,
          1
         ],
         "showgrid": false
        }
       }
      }
     },
     "metadata": {},
     "output_type": "display_data"
    }
   ],
   "source": [
    "crop_summary_K = crop_summary.sort_values(by='Potassium', ascending=False)\n",
    "  \n",
    "fig = make_subplots(rows=1, cols=2)\n",
    "\n",
    "top = {\n",
    "    'y' : crop_summary_K['Potassium'][0:10].sort_values().index,\n",
    "    'x' : crop_summary_K['Potassium'][0:10].sort_values()\n",
    "}\n",
    "\n",
    "last = {\n",
    "    'y' : crop_summary_K['Potassium'][-10:].index,\n",
    "    'x' : crop_summary_K['Potassium'][-10:]\n",
    "}\n",
    "\n",
    "fig.add_trace(\n",
    "    go.Bar(top,\n",
    "           name=\"Most potassium required\",\n",
    "           marker_color=random.choice(colorarr),\n",
    "           orientation='h',\n",
    "          text=top['x']),\n",
    "    \n",
    "    row=1, col=1\n",
    ")\n",
    "\n",
    "fig.add_trace(\n",
    "    go.Bar(last,\n",
    "           name=\"Least potassium required\",\n",
    "           marker_color=random.choice(colorarr),\n",
    "           orientation='h',\n",
    "          text=last['x']),\n",
    "    row=1, col=2\n",
    ")\n",
    "fig.update_traces(texttemplate='%{text}', textposition='inside')\n",
    "fig.update_layout(title_text=\"Potassium (K)\",\n",
    "                  plot_bgcolor='white',\n",
    "                  font_size=12, \n",
    "                  font_color='black',\n",
    "                 height=500)\n",
    "\n",
    "fig.update_xaxes(showgrid=False)\n",
    "fig.update_yaxes(showgrid=False)\n",
    "fig.show()"
   ]
  },
  {
   "cell_type": "code",
   "execution_count": 29,
   "id": "1a6efcc4",
   "metadata": {},
   "outputs": [
    {
     "data": {
      "application/vnd.plotly.v1+json": {
       "config": {
        "plotlyServerURL": "https://plot.ly"
       },
       "data": [
        {
         "marker": {
          "color": "#8c92ac"
         },
         "name": "Most pH required",
         "orientation": "h",
         "text": [
          5.98,
          6.181818181818182,
          6.480769230769231,
          6.508474576271187,
          6.519417475728155,
          6.61,
          6.72,
          6.733410942956927,
          6.864851485148515,
          6.956153846153846
         ],
         "textposition": "inside",
         "texttemplate": "%{text}",
         "type": "bar",
         "x": [
          5.98,
          6.181818181818182,
          6.480769230769231,
          6.508474576271187,
          6.519417475728155,
          6.61,
          6.72,
          6.733410942956927,
          6.864851485148515,
          6.956153846153846
         ],
         "xaxis": "x",
         "y": [
          "Ginger",
          "Turmeric",
          "Gram",
          "Groundnut",
          "Rice",
          "Maize",
          "Grapes",
          "Wheat",
          "Sugarcane",
          "Cotton"
         ],
         "yaxis": "y"
        },
        {
         "marker": {
          "color": "#008080"
         },
         "name": "Least pH required",
         "orientation": "h",
         "text": [
          6.519417475728155,
          6.508474576271187,
          6.181818181818182,
          6.480769230769231,
          6.75761421319797,
          6.357142857142857,
          6.5,
          6.7272727272727275,
          6.636363636363637,
          6.25
         ],
         "textposition": "inside",
         "texttemplate": "%{text}",
         "type": "bar",
         "x": [
          6.519417475728155,
          6.508474576271187,
          6.181818181818182,
          6.480769230769231,
          6.75761421319797,
          6.357142857142857,
          6.5,
          6.7272727272727275,
          6.636363636363637,
          6.25
         ],
         "xaxis": "x2",
         "y": [
          "Rice",
          "Groundnut",
          "Turmeric",
          "Gram",
          "Jowar",
          "Tur",
          "Soybean",
          "Urad",
          "Moong",
          "Masoor"
         ],
         "yaxis": "y2"
        }
       ],
       "layout": {
        "font": {
         "color": "black",
         "size": 12
        },
        "height": 500,
        "plot_bgcolor": "white",
        "template": {
         "data": {
          "bar": [
           {
            "error_x": {
             "color": "#2a3f5f"
            },
            "error_y": {
             "color": "#2a3f5f"
            },
            "marker": {
             "line": {
              "color": "#E5ECF6",
              "width": 0.5
             },
             "pattern": {
              "fillmode": "overlay",
              "size": 10,
              "solidity": 0.2
             }
            },
            "type": "bar"
           }
          ],
          "barpolar": [
           {
            "marker": {
             "line": {
              "color": "#E5ECF6",
              "width": 0.5
             },
             "pattern": {
              "fillmode": "overlay",
              "size": 10,
              "solidity": 0.2
             }
            },
            "type": "barpolar"
           }
          ],
          "carpet": [
           {
            "aaxis": {
             "endlinecolor": "#2a3f5f",
             "gridcolor": "white",
             "linecolor": "white",
             "minorgridcolor": "white",
             "startlinecolor": "#2a3f5f"
            },
            "baxis": {
             "endlinecolor": "#2a3f5f",
             "gridcolor": "white",
             "linecolor": "white",
             "minorgridcolor": "white",
             "startlinecolor": "#2a3f5f"
            },
            "type": "carpet"
           }
          ],
          "choropleth": [
           {
            "colorbar": {
             "outlinewidth": 0,
             "ticks": ""
            },
            "type": "choropleth"
           }
          ],
          "contour": [
           {
            "colorbar": {
             "outlinewidth": 0,
             "ticks": ""
            },
            "colorscale": [
             [
              0,
              "#0d0887"
             ],
             [
              0.1111111111111111,
              "#46039f"
             ],
             [
              0.2222222222222222,
              "#7201a8"
             ],
             [
              0.3333333333333333,
              "#9c179e"
             ],
             [
              0.4444444444444444,
              "#bd3786"
             ],
             [
              0.5555555555555556,
              "#d8576b"
             ],
             [
              0.6666666666666666,
              "#ed7953"
             ],
             [
              0.7777777777777778,
              "#fb9f3a"
             ],
             [
              0.8888888888888888,
              "#fdca26"
             ],
             [
              1,
              "#f0f921"
             ]
            ],
            "type": "contour"
           }
          ],
          "contourcarpet": [
           {
            "colorbar": {
             "outlinewidth": 0,
             "ticks": ""
            },
            "type": "contourcarpet"
           }
          ],
          "heatmap": [
           {
            "colorbar": {
             "outlinewidth": 0,
             "ticks": ""
            },
            "colorscale": [
             [
              0,
              "#0d0887"
             ],
             [
              0.1111111111111111,
              "#46039f"
             ],
             [
              0.2222222222222222,
              "#7201a8"
             ],
             [
              0.3333333333333333,
              "#9c179e"
             ],
             [
              0.4444444444444444,
              "#bd3786"
             ],
             [
              0.5555555555555556,
              "#d8576b"
             ],
             [
              0.6666666666666666,
              "#ed7953"
             ],
             [
              0.7777777777777778,
              "#fb9f3a"
             ],
             [
              0.8888888888888888,
              "#fdca26"
             ],
             [
              1,
              "#f0f921"
             ]
            ],
            "type": "heatmap"
           }
          ],
          "heatmapgl": [
           {
            "colorbar": {
             "outlinewidth": 0,
             "ticks": ""
            },
            "colorscale": [
             [
              0,
              "#0d0887"
             ],
             [
              0.1111111111111111,
              "#46039f"
             ],
             [
              0.2222222222222222,
              "#7201a8"
             ],
             [
              0.3333333333333333,
              "#9c179e"
             ],
             [
              0.4444444444444444,
              "#bd3786"
             ],
             [
              0.5555555555555556,
              "#d8576b"
             ],
             [
              0.6666666666666666,
              "#ed7953"
             ],
             [
              0.7777777777777778,
              "#fb9f3a"
             ],
             [
              0.8888888888888888,
              "#fdca26"
             ],
             [
              1,
              "#f0f921"
             ]
            ],
            "type": "heatmapgl"
           }
          ],
          "histogram": [
           {
            "marker": {
             "pattern": {
              "fillmode": "overlay",
              "size": 10,
              "solidity": 0.2
             }
            },
            "type": "histogram"
           }
          ],
          "histogram2d": [
           {
            "colorbar": {
             "outlinewidth": 0,
             "ticks": ""
            },
            "colorscale": [
             [
              0,
              "#0d0887"
             ],
             [
              0.1111111111111111,
              "#46039f"
             ],
             [
              0.2222222222222222,
              "#7201a8"
             ],
             [
              0.3333333333333333,
              "#9c179e"
             ],
             [
              0.4444444444444444,
              "#bd3786"
             ],
             [
              0.5555555555555556,
              "#d8576b"
             ],
             [
              0.6666666666666666,
              "#ed7953"
             ],
             [
              0.7777777777777778,
              "#fb9f3a"
             ],
             [
              0.8888888888888888,
              "#fdca26"
             ],
             [
              1,
              "#f0f921"
             ]
            ],
            "type": "histogram2d"
           }
          ],
          "histogram2dcontour": [
           {
            "colorbar": {
             "outlinewidth": 0,
             "ticks": ""
            },
            "colorscale": [
             [
              0,
              "#0d0887"
             ],
             [
              0.1111111111111111,
              "#46039f"
             ],
             [
              0.2222222222222222,
              "#7201a8"
             ],
             [
              0.3333333333333333,
              "#9c179e"
             ],
             [
              0.4444444444444444,
              "#bd3786"
             ],
             [
              0.5555555555555556,
              "#d8576b"
             ],
             [
              0.6666666666666666,
              "#ed7953"
             ],
             [
              0.7777777777777778,
              "#fb9f3a"
             ],
             [
              0.8888888888888888,
              "#fdca26"
             ],
             [
              1,
              "#f0f921"
             ]
            ],
            "type": "histogram2dcontour"
           }
          ],
          "mesh3d": [
           {
            "colorbar": {
             "outlinewidth": 0,
             "ticks": ""
            },
            "type": "mesh3d"
           }
          ],
          "parcoords": [
           {
            "line": {
             "colorbar": {
              "outlinewidth": 0,
              "ticks": ""
             }
            },
            "type": "parcoords"
           }
          ],
          "pie": [
           {
            "automargin": true,
            "type": "pie"
           }
          ],
          "scatter": [
           {
            "fillpattern": {
             "fillmode": "overlay",
             "size": 10,
             "solidity": 0.2
            },
            "type": "scatter"
           }
          ],
          "scatter3d": [
           {
            "line": {
             "colorbar": {
              "outlinewidth": 0,
              "ticks": ""
             }
            },
            "marker": {
             "colorbar": {
              "outlinewidth": 0,
              "ticks": ""
             }
            },
            "type": "scatter3d"
           }
          ],
          "scattercarpet": [
           {
            "marker": {
             "colorbar": {
              "outlinewidth": 0,
              "ticks": ""
             }
            },
            "type": "scattercarpet"
           }
          ],
          "scattergeo": [
           {
            "marker": {
             "colorbar": {
              "outlinewidth": 0,
              "ticks": ""
             }
            },
            "type": "scattergeo"
           }
          ],
          "scattergl": [
           {
            "marker": {
             "colorbar": {
              "outlinewidth": 0,
              "ticks": ""
             }
            },
            "type": "scattergl"
           }
          ],
          "scattermapbox": [
           {
            "marker": {
             "colorbar": {
              "outlinewidth": 0,
              "ticks": ""
             }
            },
            "type": "scattermapbox"
           }
          ],
          "scatterpolar": [
           {
            "marker": {
             "colorbar": {
              "outlinewidth": 0,
              "ticks": ""
             }
            },
            "type": "scatterpolar"
           }
          ],
          "scatterpolargl": [
           {
            "marker": {
             "colorbar": {
              "outlinewidth": 0,
              "ticks": ""
             }
            },
            "type": "scatterpolargl"
           }
          ],
          "scatterternary": [
           {
            "marker": {
             "colorbar": {
              "outlinewidth": 0,
              "ticks": ""
             }
            },
            "type": "scatterternary"
           }
          ],
          "surface": [
           {
            "colorbar": {
             "outlinewidth": 0,
             "ticks": ""
            },
            "colorscale": [
             [
              0,
              "#0d0887"
             ],
             [
              0.1111111111111111,
              "#46039f"
             ],
             [
              0.2222222222222222,
              "#7201a8"
             ],
             [
              0.3333333333333333,
              "#9c179e"
             ],
             [
              0.4444444444444444,
              "#bd3786"
             ],
             [
              0.5555555555555556,
              "#d8576b"
             ],
             [
              0.6666666666666666,
              "#ed7953"
             ],
             [
              0.7777777777777778,
              "#fb9f3a"
             ],
             [
              0.8888888888888888,
              "#fdca26"
             ],
             [
              1,
              "#f0f921"
             ]
            ],
            "type": "surface"
           }
          ],
          "table": [
           {
            "cells": {
             "fill": {
              "color": "#EBF0F8"
             },
             "line": {
              "color": "white"
             }
            },
            "header": {
             "fill": {
              "color": "#C8D4E3"
             },
             "line": {
              "color": "white"
             }
            },
            "type": "table"
           }
          ]
         },
         "layout": {
          "annotationdefaults": {
           "arrowcolor": "#2a3f5f",
           "arrowhead": 0,
           "arrowwidth": 1
          },
          "autotypenumbers": "strict",
          "coloraxis": {
           "colorbar": {
            "outlinewidth": 0,
            "ticks": ""
           }
          },
          "colorscale": {
           "diverging": [
            [
             0,
             "#8e0152"
            ],
            [
             0.1,
             "#c51b7d"
            ],
            [
             0.2,
             "#de77ae"
            ],
            [
             0.3,
             "#f1b6da"
            ],
            [
             0.4,
             "#fde0ef"
            ],
            [
             0.5,
             "#f7f7f7"
            ],
            [
             0.6,
             "#e6f5d0"
            ],
            [
             0.7,
             "#b8e186"
            ],
            [
             0.8,
             "#7fbc41"
            ],
            [
             0.9,
             "#4d9221"
            ],
            [
             1,
             "#276419"
            ]
           ],
           "sequential": [
            [
             0,
             "#0d0887"
            ],
            [
             0.1111111111111111,
             "#46039f"
            ],
            [
             0.2222222222222222,
             "#7201a8"
            ],
            [
             0.3333333333333333,
             "#9c179e"
            ],
            [
             0.4444444444444444,
             "#bd3786"
            ],
            [
             0.5555555555555556,
             "#d8576b"
            ],
            [
             0.6666666666666666,
             "#ed7953"
            ],
            [
             0.7777777777777778,
             "#fb9f3a"
            ],
            [
             0.8888888888888888,
             "#fdca26"
            ],
            [
             1,
             "#f0f921"
            ]
           ],
           "sequentialminus": [
            [
             0,
             "#0d0887"
            ],
            [
             0.1111111111111111,
             "#46039f"
            ],
            [
             0.2222222222222222,
             "#7201a8"
            ],
            [
             0.3333333333333333,
             "#9c179e"
            ],
            [
             0.4444444444444444,
             "#bd3786"
            ],
            [
             0.5555555555555556,
             "#d8576b"
            ],
            [
             0.6666666666666666,
             "#ed7953"
            ],
            [
             0.7777777777777778,
             "#fb9f3a"
            ],
            [
             0.8888888888888888,
             "#fdca26"
            ],
            [
             1,
             "#f0f921"
            ]
           ]
          },
          "colorway": [
           "#636efa",
           "#EF553B",
           "#00cc96",
           "#ab63fa",
           "#FFA15A",
           "#19d3f3",
           "#FF6692",
           "#B6E880",
           "#FF97FF",
           "#FECB52"
          ],
          "font": {
           "color": "#2a3f5f"
          },
          "geo": {
           "bgcolor": "white",
           "lakecolor": "white",
           "landcolor": "#E5ECF6",
           "showlakes": true,
           "showland": true,
           "subunitcolor": "white"
          },
          "hoverlabel": {
           "align": "left"
          },
          "hovermode": "closest",
          "mapbox": {
           "style": "light"
          },
          "paper_bgcolor": "white",
          "plot_bgcolor": "#E5ECF6",
          "polar": {
           "angularaxis": {
            "gridcolor": "white",
            "linecolor": "white",
            "ticks": ""
           },
           "bgcolor": "#E5ECF6",
           "radialaxis": {
            "gridcolor": "white",
            "linecolor": "white",
            "ticks": ""
           }
          },
          "scene": {
           "xaxis": {
            "backgroundcolor": "#E5ECF6",
            "gridcolor": "white",
            "gridwidth": 2,
            "linecolor": "white",
            "showbackground": true,
            "ticks": "",
            "zerolinecolor": "white"
           },
           "yaxis": {
            "backgroundcolor": "#E5ECF6",
            "gridcolor": "white",
            "gridwidth": 2,
            "linecolor": "white",
            "showbackground": true,
            "ticks": "",
            "zerolinecolor": "white"
           },
           "zaxis": {
            "backgroundcolor": "#E5ECF6",
            "gridcolor": "white",
            "gridwidth": 2,
            "linecolor": "white",
            "showbackground": true,
            "ticks": "",
            "zerolinecolor": "white"
           }
          },
          "shapedefaults": {
           "line": {
            "color": "#2a3f5f"
           }
          },
          "ternary": {
           "aaxis": {
            "gridcolor": "white",
            "linecolor": "white",
            "ticks": ""
           },
           "baxis": {
            "gridcolor": "white",
            "linecolor": "white",
            "ticks": ""
           },
           "bgcolor": "#E5ECF6",
           "caxis": {
            "gridcolor": "white",
            "linecolor": "white",
            "ticks": ""
           }
          },
          "title": {
           "x": 0.05
          },
          "xaxis": {
           "automargin": true,
           "gridcolor": "white",
           "linecolor": "white",
           "ticks": "",
           "title": {
            "standoff": 15
           },
           "zerolinecolor": "white",
           "zerolinewidth": 2
          },
          "yaxis": {
           "automargin": true,
           "gridcolor": "white",
           "linecolor": "white",
           "ticks": "",
           "title": {
            "standoff": 15
           },
           "zerolinecolor": "white",
           "zerolinewidth": 2
          }
         }
        },
        "title": {
         "text": "pH"
        },
        "xaxis": {
         "anchor": "y",
         "domain": [
          0,
          0.45
         ],
         "showgrid": false
        },
        "xaxis2": {
         "anchor": "y2",
         "domain": [
          0.55,
          1
         ],
         "showgrid": false
        },
        "yaxis": {
         "anchor": "x",
         "domain": [
          0,
          1
         ],
         "showgrid": false
        },
        "yaxis2": {
         "anchor": "x2",
         "domain": [
          0,
          1
         ],
         "showgrid": false
        }
       }
      }
     },
     "metadata": {},
     "output_type": "display_data"
    }
   ],
   "source": [
    "crop_summary_P = crop_summary.sort_values(by='Phosphorus', ascending=False)\n",
    "  \n",
    "fig = make_subplots(rows=1, cols=2)\n",
    "\n",
    "top = {\n",
    "    'y' : crop_summary_P['pH'][0:10].sort_values().index,\n",
    "    'x' : crop_summary_P['pH'][0:10].sort_values()\n",
    "}\n",
    "\n",
    "last = {\n",
    "    'y' : crop_summary_P['pH'][-10:].index,\n",
    "    'x' : crop_summary_P['pH'][-10:]\n",
    "}\n",
    "\n",
    "fig.add_trace(\n",
    "    go.Bar(top,\n",
    "           name=\"Most pH required\",\n",
    "           marker_color=random.choice(colorarr),\n",
    "           orientation='h',\n",
    "          text=top['x']),\n",
    "    \n",
    "    row=1, col=1\n",
    ")\n",
    "\n",
    "fig.add_trace(\n",
    "    go.Bar(last,\n",
    "           name=\"Least pH required\",\n",
    "           marker_color=random.choice(colorarr),\n",
    "           orientation='h',\n",
    "          text=last['x']),\n",
    "    row=1, col=2\n",
    ")\n",
    "fig.update_traces(texttemplate='%{text}', textposition='inside')\n",
    "fig.update_layout(title_text=\"pH\",\n",
    "                  plot_bgcolor='white',\n",
    "                  font_size=12, \n",
    "                  font_color='black',\n",
    "                 height=500)\n",
    "\n",
    "fig.update_xaxes(showgrid=False)\n",
    "fig.update_yaxes(showgrid=False)\n",
    "fig.show()"
   ]
  },
  {
   "cell_type": "code",
   "execution_count": 30,
   "id": "c0aa6907",
   "metadata": {},
   "outputs": [
    {
     "data": {
      "application/vnd.plotly.v1+json": {
       "config": {
        "plotlyServerURL": "https://plot.ly"
       },
       "data": [
        {
         "marker": {
          "color": "indianred"
         },
         "name": "Nitrogen",
         "type": "bar",
         "x": [
          "Cotton",
          "Ginger",
          "Gram",
          "Grapes",
          "Groundnut",
          "Jowar",
          "Maize",
          "Masoor",
          "Moong",
          "Rice",
          "Soybean",
          "Sugarcane",
          "Tur",
          "Turmeric",
          "Urad",
          "Wheat"
         ],
         "y": [
          117.61538461538461,
          50,
          34.61538461538461,
          90,
          29.406779661016948,
          54.631979695431475,
          135,
          45,
          50.90909090909091,
          92.42718446601941,
          50,
          131.6138613861386,
          38.57142857142857,
          39.72727272727273,
          48.18181818181818,
          91.75785797438883
         ]
        },
        {
         "marker": {
          "color": "lightsalmon"
         },
         "name": "Phosphorous",
         "type": "bar",
         "x": [
          "Cotton",
          "Ginger",
          "Gram",
          "Grapes",
          "Groundnut",
          "Jowar",
          "Maize",
          "Masoor",
          "Moong",
          "Rice",
          "Soybean",
          "Sugarcane",
          "Tur",
          "Turmeric",
          "Urad",
          "Wheat"
         ],
         "y": [
          56.73076923076923,
          50,
          39.61538461538461,
          50,
          41.440677966101696,
          37.03045685279188,
          70,
          22.5,
          26.818181818181817,
          47.28155339805825,
          35,
          70.62871287128714,
          36.785714285714285,
          39.63636363636363,
          35,
          53.119906868451686
         ]
        },
        {
         "marker": {
          "color": "crimson"
         },
         "name": "Potassium",
         "type": "bar",
         "x": [
          "Cotton",
          "Ginger",
          "Gram",
          "Grapes",
          "Groundnut",
          "Jowar",
          "Maize",
          "Masoor",
          "Moong",
          "Rice",
          "Soybean",
          "Sugarcane",
          "Tur",
          "Turmeric",
          "Urad",
          "Wheat"
         ],
         "y": [
          60.76923076923077,
          70,
          21.153846153846153,
          130,
          27.88135593220339,
          36.598984771573605,
          49.65714285714286,
          22.5,
          20.90909090909091,
          48.349514563106794,
          25,
          113.98019801980197,
          23.214285714285715,
          44.90909090909091,
          25,
          49.738067520372525
         ]
        }
       ],
       "layout": {
        "barmode": "group",
        "plot_bgcolor": "white",
        "template": {
         "data": {
          "bar": [
           {
            "error_x": {
             "color": "#2a3f5f"
            },
            "error_y": {
             "color": "#2a3f5f"
            },
            "marker": {
             "line": {
              "color": "#E5ECF6",
              "width": 0.5
             },
             "pattern": {
              "fillmode": "overlay",
              "size": 10,
              "solidity": 0.2
             }
            },
            "type": "bar"
           }
          ],
          "barpolar": [
           {
            "marker": {
             "line": {
              "color": "#E5ECF6",
              "width": 0.5
             },
             "pattern": {
              "fillmode": "overlay",
              "size": 10,
              "solidity": 0.2
             }
            },
            "type": "barpolar"
           }
          ],
          "carpet": [
           {
            "aaxis": {
             "endlinecolor": "#2a3f5f",
             "gridcolor": "white",
             "linecolor": "white",
             "minorgridcolor": "white",
             "startlinecolor": "#2a3f5f"
            },
            "baxis": {
             "endlinecolor": "#2a3f5f",
             "gridcolor": "white",
             "linecolor": "white",
             "minorgridcolor": "white",
             "startlinecolor": "#2a3f5f"
            },
            "type": "carpet"
           }
          ],
          "choropleth": [
           {
            "colorbar": {
             "outlinewidth": 0,
             "ticks": ""
            },
            "type": "choropleth"
           }
          ],
          "contour": [
           {
            "colorbar": {
             "outlinewidth": 0,
             "ticks": ""
            },
            "colorscale": [
             [
              0,
              "#0d0887"
             ],
             [
              0.1111111111111111,
              "#46039f"
             ],
             [
              0.2222222222222222,
              "#7201a8"
             ],
             [
              0.3333333333333333,
              "#9c179e"
             ],
             [
              0.4444444444444444,
              "#bd3786"
             ],
             [
              0.5555555555555556,
              "#d8576b"
             ],
             [
              0.6666666666666666,
              "#ed7953"
             ],
             [
              0.7777777777777778,
              "#fb9f3a"
             ],
             [
              0.8888888888888888,
              "#fdca26"
             ],
             [
              1,
              "#f0f921"
             ]
            ],
            "type": "contour"
           }
          ],
          "contourcarpet": [
           {
            "colorbar": {
             "outlinewidth": 0,
             "ticks": ""
            },
            "type": "contourcarpet"
           }
          ],
          "heatmap": [
           {
            "colorbar": {
             "outlinewidth": 0,
             "ticks": ""
            },
            "colorscale": [
             [
              0,
              "#0d0887"
             ],
             [
              0.1111111111111111,
              "#46039f"
             ],
             [
              0.2222222222222222,
              "#7201a8"
             ],
             [
              0.3333333333333333,
              "#9c179e"
             ],
             [
              0.4444444444444444,
              "#bd3786"
             ],
             [
              0.5555555555555556,
              "#d8576b"
             ],
             [
              0.6666666666666666,
              "#ed7953"
             ],
             [
              0.7777777777777778,
              "#fb9f3a"
             ],
             [
              0.8888888888888888,
              "#fdca26"
             ],
             [
              1,
              "#f0f921"
             ]
            ],
            "type": "heatmap"
           }
          ],
          "heatmapgl": [
           {
            "colorbar": {
             "outlinewidth": 0,
             "ticks": ""
            },
            "colorscale": [
             [
              0,
              "#0d0887"
             ],
             [
              0.1111111111111111,
              "#46039f"
             ],
             [
              0.2222222222222222,
              "#7201a8"
             ],
             [
              0.3333333333333333,
              "#9c179e"
             ],
             [
              0.4444444444444444,
              "#bd3786"
             ],
             [
              0.5555555555555556,
              "#d8576b"
             ],
             [
              0.6666666666666666,
              "#ed7953"
             ],
             [
              0.7777777777777778,
              "#fb9f3a"
             ],
             [
              0.8888888888888888,
              "#fdca26"
             ],
             [
              1,
              "#f0f921"
             ]
            ],
            "type": "heatmapgl"
           }
          ],
          "histogram": [
           {
            "marker": {
             "pattern": {
              "fillmode": "overlay",
              "size": 10,
              "solidity": 0.2
             }
            },
            "type": "histogram"
           }
          ],
          "histogram2d": [
           {
            "colorbar": {
             "outlinewidth": 0,
             "ticks": ""
            },
            "colorscale": [
             [
              0,
              "#0d0887"
             ],
             [
              0.1111111111111111,
              "#46039f"
             ],
             [
              0.2222222222222222,
              "#7201a8"
             ],
             [
              0.3333333333333333,
              "#9c179e"
             ],
             [
              0.4444444444444444,
              "#bd3786"
             ],
             [
              0.5555555555555556,
              "#d8576b"
             ],
             [
              0.6666666666666666,
              "#ed7953"
             ],
             [
              0.7777777777777778,
              "#fb9f3a"
             ],
             [
              0.8888888888888888,
              "#fdca26"
             ],
             [
              1,
              "#f0f921"
             ]
            ],
            "type": "histogram2d"
           }
          ],
          "histogram2dcontour": [
           {
            "colorbar": {
             "outlinewidth": 0,
             "ticks": ""
            },
            "colorscale": [
             [
              0,
              "#0d0887"
             ],
             [
              0.1111111111111111,
              "#46039f"
             ],
             [
              0.2222222222222222,
              "#7201a8"
             ],
             [
              0.3333333333333333,
              "#9c179e"
             ],
             [
              0.4444444444444444,
              "#bd3786"
             ],
             [
              0.5555555555555556,
              "#d8576b"
             ],
             [
              0.6666666666666666,
              "#ed7953"
             ],
             [
              0.7777777777777778,
              "#fb9f3a"
             ],
             [
              0.8888888888888888,
              "#fdca26"
             ],
             [
              1,
              "#f0f921"
             ]
            ],
            "type": "histogram2dcontour"
           }
          ],
          "mesh3d": [
           {
            "colorbar": {
             "outlinewidth": 0,
             "ticks": ""
            },
            "type": "mesh3d"
           }
          ],
          "parcoords": [
           {
            "line": {
             "colorbar": {
              "outlinewidth": 0,
              "ticks": ""
             }
            },
            "type": "parcoords"
           }
          ],
          "pie": [
           {
            "automargin": true,
            "type": "pie"
           }
          ],
          "scatter": [
           {
            "fillpattern": {
             "fillmode": "overlay",
             "size": 10,
             "solidity": 0.2
            },
            "type": "scatter"
           }
          ],
          "scatter3d": [
           {
            "line": {
             "colorbar": {
              "outlinewidth": 0,
              "ticks": ""
             }
            },
            "marker": {
             "colorbar": {
              "outlinewidth": 0,
              "ticks": ""
             }
            },
            "type": "scatter3d"
           }
          ],
          "scattercarpet": [
           {
            "marker": {
             "colorbar": {
              "outlinewidth": 0,
              "ticks": ""
             }
            },
            "type": "scattercarpet"
           }
          ],
          "scattergeo": [
           {
            "marker": {
             "colorbar": {
              "outlinewidth": 0,
              "ticks": ""
             }
            },
            "type": "scattergeo"
           }
          ],
          "scattergl": [
           {
            "marker": {
             "colorbar": {
              "outlinewidth": 0,
              "ticks": ""
             }
            },
            "type": "scattergl"
           }
          ],
          "scattermapbox": [
           {
            "marker": {
             "colorbar": {
              "outlinewidth": 0,
              "ticks": ""
             }
            },
            "type": "scattermapbox"
           }
          ],
          "scatterpolar": [
           {
            "marker": {
             "colorbar": {
              "outlinewidth": 0,
              "ticks": ""
             }
            },
            "type": "scatterpolar"
           }
          ],
          "scatterpolargl": [
           {
            "marker": {
             "colorbar": {
              "outlinewidth": 0,
              "ticks": ""
             }
            },
            "type": "scatterpolargl"
           }
          ],
          "scatterternary": [
           {
            "marker": {
             "colorbar": {
              "outlinewidth": 0,
              "ticks": ""
             }
            },
            "type": "scatterternary"
           }
          ],
          "surface": [
           {
            "colorbar": {
             "outlinewidth": 0,
             "ticks": ""
            },
            "colorscale": [
             [
              0,
              "#0d0887"
             ],
             [
              0.1111111111111111,
              "#46039f"
             ],
             [
              0.2222222222222222,
              "#7201a8"
             ],
             [
              0.3333333333333333,
              "#9c179e"
             ],
             [
              0.4444444444444444,
              "#bd3786"
             ],
             [
              0.5555555555555556,
              "#d8576b"
             ],
             [
              0.6666666666666666,
              "#ed7953"
             ],
             [
              0.7777777777777778,
              "#fb9f3a"
             ],
             [
              0.8888888888888888,
              "#fdca26"
             ],
             [
              1,
              "#f0f921"
             ]
            ],
            "type": "surface"
           }
          ],
          "table": [
           {
            "cells": {
             "fill": {
              "color": "#EBF0F8"
             },
             "line": {
              "color": "white"
             }
            },
            "header": {
             "fill": {
              "color": "#C8D4E3"
             },
             "line": {
              "color": "white"
             }
            },
            "type": "table"
           }
          ]
         },
         "layout": {
          "annotationdefaults": {
           "arrowcolor": "#2a3f5f",
           "arrowhead": 0,
           "arrowwidth": 1
          },
          "autotypenumbers": "strict",
          "coloraxis": {
           "colorbar": {
            "outlinewidth": 0,
            "ticks": ""
           }
          },
          "colorscale": {
           "diverging": [
            [
             0,
             "#8e0152"
            ],
            [
             0.1,
             "#c51b7d"
            ],
            [
             0.2,
             "#de77ae"
            ],
            [
             0.3,
             "#f1b6da"
            ],
            [
             0.4,
             "#fde0ef"
            ],
            [
             0.5,
             "#f7f7f7"
            ],
            [
             0.6,
             "#e6f5d0"
            ],
            [
             0.7,
             "#b8e186"
            ],
            [
             0.8,
             "#7fbc41"
            ],
            [
             0.9,
             "#4d9221"
            ],
            [
             1,
             "#276419"
            ]
           ],
           "sequential": [
            [
             0,
             "#0d0887"
            ],
            [
             0.1111111111111111,
             "#46039f"
            ],
            [
             0.2222222222222222,
             "#7201a8"
            ],
            [
             0.3333333333333333,
             "#9c179e"
            ],
            [
             0.4444444444444444,
             "#bd3786"
            ],
            [
             0.5555555555555556,
             "#d8576b"
            ],
            [
             0.6666666666666666,
             "#ed7953"
            ],
            [
             0.7777777777777778,
             "#fb9f3a"
            ],
            [
             0.8888888888888888,
             "#fdca26"
            ],
            [
             1,
             "#f0f921"
            ]
           ],
           "sequentialminus": [
            [
             0,
             "#0d0887"
            ],
            [
             0.1111111111111111,
             "#46039f"
            ],
            [
             0.2222222222222222,
             "#7201a8"
            ],
            [
             0.3333333333333333,
             "#9c179e"
            ],
            [
             0.4444444444444444,
             "#bd3786"
            ],
            [
             0.5555555555555556,
             "#d8576b"
            ],
            [
             0.6666666666666666,
             "#ed7953"
            ],
            [
             0.7777777777777778,
             "#fb9f3a"
            ],
            [
             0.8888888888888888,
             "#fdca26"
            ],
            [
             1,
             "#f0f921"
            ]
           ]
          },
          "colorway": [
           "#636efa",
           "#EF553B",
           "#00cc96",
           "#ab63fa",
           "#FFA15A",
           "#19d3f3",
           "#FF6692",
           "#B6E880",
           "#FF97FF",
           "#FECB52"
          ],
          "font": {
           "color": "#2a3f5f"
          },
          "geo": {
           "bgcolor": "white",
           "lakecolor": "white",
           "landcolor": "#E5ECF6",
           "showlakes": true,
           "showland": true,
           "subunitcolor": "white"
          },
          "hoverlabel": {
           "align": "left"
          },
          "hovermode": "closest",
          "mapbox": {
           "style": "light"
          },
          "paper_bgcolor": "white",
          "plot_bgcolor": "#E5ECF6",
          "polar": {
           "angularaxis": {
            "gridcolor": "white",
            "linecolor": "white",
            "ticks": ""
           },
           "bgcolor": "#E5ECF6",
           "radialaxis": {
            "gridcolor": "white",
            "linecolor": "white",
            "ticks": ""
           }
          },
          "scene": {
           "xaxis": {
            "backgroundcolor": "#E5ECF6",
            "gridcolor": "white",
            "gridwidth": 2,
            "linecolor": "white",
            "showbackground": true,
            "ticks": "",
            "zerolinecolor": "white"
           },
           "yaxis": {
            "backgroundcolor": "#E5ECF6",
            "gridcolor": "white",
            "gridwidth": 2,
            "linecolor": "white",
            "showbackground": true,
            "ticks": "",
            "zerolinecolor": "white"
           },
           "zaxis": {
            "backgroundcolor": "#E5ECF6",
            "gridcolor": "white",
            "gridwidth": 2,
            "linecolor": "white",
            "showbackground": true,
            "ticks": "",
            "zerolinecolor": "white"
           }
          },
          "shapedefaults": {
           "line": {
            "color": "#2a3f5f"
           }
          },
          "ternary": {
           "aaxis": {
            "gridcolor": "white",
            "linecolor": "white",
            "ticks": ""
           },
           "baxis": {
            "gridcolor": "white",
            "linecolor": "white",
            "ticks": ""
           },
           "bgcolor": "#E5ECF6",
           "caxis": {
            "gridcolor": "white",
            "linecolor": "white",
            "ticks": ""
           }
          },
          "title": {
           "x": 0.05
          },
          "xaxis": {
           "automargin": true,
           "gridcolor": "white",
           "linecolor": "white",
           "ticks": "",
           "title": {
            "standoff": 15
           },
           "zerolinecolor": "white",
           "zerolinewidth": 2
          },
          "yaxis": {
           "automargin": true,
           "gridcolor": "white",
           "linecolor": "white",
           "ticks": "",
           "title": {
            "standoff": 15
           },
           "zerolinecolor": "white",
           "zerolinewidth": 2
          }
         }
        },
        "title": {
         "text": "N, P, K values comparision between crops"
        },
        "xaxis": {
         "tickangle": -45
        }
       }
      }
     },
     "metadata": {},
     "output_type": "display_data"
    }
   ],
   "source": [
    "fig = go.Figure()\n",
    "fig.add_trace(go.Bar(\n",
    "    x=crop_summary.index,\n",
    "    y=crop_summary['Nitrogen'],\n",
    "    name='Nitrogen',\n",
    "    marker_color='indianred'\n",
    "))\n",
    "fig.add_trace(go.Bar(\n",
    "    x=crop_summary.index,\n",
    "    y=crop_summary['Phosphorus'],\n",
    "    name='Phosphorous',\n",
    "    marker_color='lightsalmon'\n",
    "))\n",
    "fig.add_trace(go.Bar(\n",
    "    x=crop_summary.index,\n",
    "    y=crop_summary['Potassium'],\n",
    "    name='Potassium',\n",
    "    marker_color='crimson'\n",
    "))\n",
    "\n",
    "fig.update_layout(title=\"N, P, K values comparision between crops\",\n",
    "                  plot_bgcolor='white',\n",
    "                  barmode='group',\n",
    "                  xaxis_tickangle=-45)\n",
    "\n",
    "fig.show()"
   ]
  },
  {
   "cell_type": "code",
   "execution_count": 31,
   "id": "4a2162f2",
   "metadata": {},
   "outputs": [
    {
     "data": {
      "application/vnd.plotly.v1+json": {
       "config": {
        "plotlyServerURL": "https://plot.ly"
       },
       "data": [
        {
         "alignmentgroup": "True",
         "hovertemplate": "variable=Rainfall<br>Crop=%{x}<br>value=%{y}<extra></extra>",
         "legendgroup": "Rainfall",
         "marker": {
          "color": "#636efa",
          "pattern": {
           "shape": ""
          }
         },
         "name": "Rainfall",
         "offsetgroup": "Rainfall",
         "orientation": "v",
         "showlegend": true,
         "textposition": "auto",
         "type": "bar",
         "x": [
          "Cotton",
          "Ginger",
          "Gram",
          "Grapes",
          "Groundnut",
          "Jowar",
          "Maize",
          "Masoor",
          "Moong",
          "Rice",
          "Soybean",
          "Sugarcane",
          "Tur",
          "Turmeric",
          "Urad",
          "Wheat"
         ],
         "xaxis": "x",
         "y": [
          827.6923076923077,
          948,
          719.2307692307693,
          748,
          694.9152542372881,
          689.0862944162436,
          572,
          650,
          600,
          1125.2427184466019,
          344.44444444444446,
          1032.3762376237623,
          609.5238095238095,
          1276.3636363636363,
          690.9090909090909,
          707.4505238649592
         ],
         "yaxis": "y"
        },
        {
         "alignmentgroup": "True",
         "hovertemplate": "variable=Temperature<br>Crop=%{x}<br>value=%{y}<extra></extra>",
         "legendgroup": "Temperature",
         "marker": {
          "color": "#EF553B",
          "pattern": {
           "shape": ""
          }
         },
         "name": "Temperature",
         "offsetgroup": "Temperature",
         "orientation": "v",
         "showlegend": true,
         "textposition": "auto",
         "type": "bar",
         "x": [
          "Cotton",
          "Ginger",
          "Gram",
          "Grapes",
          "Groundnut",
          "Jowar",
          "Maize",
          "Masoor",
          "Moong",
          "Rice",
          "Soybean",
          "Sugarcane",
          "Tur",
          "Turmeric",
          "Urad",
          "Wheat"
         ],
         "xaxis": "x",
         "y": [
          28.076923076923077,
          27.2,
          23.26923076923077,
          24.8,
          27.71186440677966,
          28.31218274111675,
          24.8,
          22.5,
          30,
          30.42071197411003,
          25,
          26.876237623762375,
          28.214285714285715,
          24.90909090909091,
          26.616161616161616,
          20
         ],
         "yaxis": "y"
        }
       ],
       "layout": {
        "barmode": "relative",
        "height": 500,
        "legend": {
         "title": {
          "text": "variable"
         },
         "tracegroupgap": 0
        },
        "margin": {
         "t": 60
        },
        "plot_bgcolor": "white",
        "template": {
         "data": {
          "bar": [
           {
            "error_x": {
             "color": "#2a3f5f"
            },
            "error_y": {
             "color": "#2a3f5f"
            },
            "marker": {
             "line": {
              "color": "#E5ECF6",
              "width": 0.5
             },
             "pattern": {
              "fillmode": "overlay",
              "size": 10,
              "solidity": 0.2
             }
            },
            "type": "bar"
           }
          ],
          "barpolar": [
           {
            "marker": {
             "line": {
              "color": "#E5ECF6",
              "width": 0.5
             },
             "pattern": {
              "fillmode": "overlay",
              "size": 10,
              "solidity": 0.2
             }
            },
            "type": "barpolar"
           }
          ],
          "carpet": [
           {
            "aaxis": {
             "endlinecolor": "#2a3f5f",
             "gridcolor": "white",
             "linecolor": "white",
             "minorgridcolor": "white",
             "startlinecolor": "#2a3f5f"
            },
            "baxis": {
             "endlinecolor": "#2a3f5f",
             "gridcolor": "white",
             "linecolor": "white",
             "minorgridcolor": "white",
             "startlinecolor": "#2a3f5f"
            },
            "type": "carpet"
           }
          ],
          "choropleth": [
           {
            "colorbar": {
             "outlinewidth": 0,
             "ticks": ""
            },
            "type": "choropleth"
           }
          ],
          "contour": [
           {
            "colorbar": {
             "outlinewidth": 0,
             "ticks": ""
            },
            "colorscale": [
             [
              0,
              "#0d0887"
             ],
             [
              0.1111111111111111,
              "#46039f"
             ],
             [
              0.2222222222222222,
              "#7201a8"
             ],
             [
              0.3333333333333333,
              "#9c179e"
             ],
             [
              0.4444444444444444,
              "#bd3786"
             ],
             [
              0.5555555555555556,
              "#d8576b"
             ],
             [
              0.6666666666666666,
              "#ed7953"
             ],
             [
              0.7777777777777778,
              "#fb9f3a"
             ],
             [
              0.8888888888888888,
              "#fdca26"
             ],
             [
              1,
              "#f0f921"
             ]
            ],
            "type": "contour"
           }
          ],
          "contourcarpet": [
           {
            "colorbar": {
             "outlinewidth": 0,
             "ticks": ""
            },
            "type": "contourcarpet"
           }
          ],
          "heatmap": [
           {
            "colorbar": {
             "outlinewidth": 0,
             "ticks": ""
            },
            "colorscale": [
             [
              0,
              "#0d0887"
             ],
             [
              0.1111111111111111,
              "#46039f"
             ],
             [
              0.2222222222222222,
              "#7201a8"
             ],
             [
              0.3333333333333333,
              "#9c179e"
             ],
             [
              0.4444444444444444,
              "#bd3786"
             ],
             [
              0.5555555555555556,
              "#d8576b"
             ],
             [
              0.6666666666666666,
              "#ed7953"
             ],
             [
              0.7777777777777778,
              "#fb9f3a"
             ],
             [
              0.8888888888888888,
              "#fdca26"
             ],
             [
              1,
              "#f0f921"
             ]
            ],
            "type": "heatmap"
           }
          ],
          "heatmapgl": [
           {
            "colorbar": {
             "outlinewidth": 0,
             "ticks": ""
            },
            "colorscale": [
             [
              0,
              "#0d0887"
             ],
             [
              0.1111111111111111,
              "#46039f"
             ],
             [
              0.2222222222222222,
              "#7201a8"
             ],
             [
              0.3333333333333333,
              "#9c179e"
             ],
             [
              0.4444444444444444,
              "#bd3786"
             ],
             [
              0.5555555555555556,
              "#d8576b"
             ],
             [
              0.6666666666666666,
              "#ed7953"
             ],
             [
              0.7777777777777778,
              "#fb9f3a"
             ],
             [
              0.8888888888888888,
              "#fdca26"
             ],
             [
              1,
              "#f0f921"
             ]
            ],
            "type": "heatmapgl"
           }
          ],
          "histogram": [
           {
            "marker": {
             "pattern": {
              "fillmode": "overlay",
              "size": 10,
              "solidity": 0.2
             }
            },
            "type": "histogram"
           }
          ],
          "histogram2d": [
           {
            "colorbar": {
             "outlinewidth": 0,
             "ticks": ""
            },
            "colorscale": [
             [
              0,
              "#0d0887"
             ],
             [
              0.1111111111111111,
              "#46039f"
             ],
             [
              0.2222222222222222,
              "#7201a8"
             ],
             [
              0.3333333333333333,
              "#9c179e"
             ],
             [
              0.4444444444444444,
              "#bd3786"
             ],
             [
              0.5555555555555556,
              "#d8576b"
             ],
             [
              0.6666666666666666,
              "#ed7953"
             ],
             [
              0.7777777777777778,
              "#fb9f3a"
             ],
             [
              0.8888888888888888,
              "#fdca26"
             ],
             [
              1,
              "#f0f921"
             ]
            ],
            "type": "histogram2d"
           }
          ],
          "histogram2dcontour": [
           {
            "colorbar": {
             "outlinewidth": 0,
             "ticks": ""
            },
            "colorscale": [
             [
              0,
              "#0d0887"
             ],
             [
              0.1111111111111111,
              "#46039f"
             ],
             [
              0.2222222222222222,
              "#7201a8"
             ],
             [
              0.3333333333333333,
              "#9c179e"
             ],
             [
              0.4444444444444444,
              "#bd3786"
             ],
             [
              0.5555555555555556,
              "#d8576b"
             ],
             [
              0.6666666666666666,
              "#ed7953"
             ],
             [
              0.7777777777777778,
              "#fb9f3a"
             ],
             [
              0.8888888888888888,
              "#fdca26"
             ],
             [
              1,
              "#f0f921"
             ]
            ],
            "type": "histogram2dcontour"
           }
          ],
          "mesh3d": [
           {
            "colorbar": {
             "outlinewidth": 0,
             "ticks": ""
            },
            "type": "mesh3d"
           }
          ],
          "parcoords": [
           {
            "line": {
             "colorbar": {
              "outlinewidth": 0,
              "ticks": ""
             }
            },
            "type": "parcoords"
           }
          ],
          "pie": [
           {
            "automargin": true,
            "type": "pie"
           }
          ],
          "scatter": [
           {
            "fillpattern": {
             "fillmode": "overlay",
             "size": 10,
             "solidity": 0.2
            },
            "type": "scatter"
           }
          ],
          "scatter3d": [
           {
            "line": {
             "colorbar": {
              "outlinewidth": 0,
              "ticks": ""
             }
            },
            "marker": {
             "colorbar": {
              "outlinewidth": 0,
              "ticks": ""
             }
            },
            "type": "scatter3d"
           }
          ],
          "scattercarpet": [
           {
            "marker": {
             "colorbar": {
              "outlinewidth": 0,
              "ticks": ""
             }
            },
            "type": "scattercarpet"
           }
          ],
          "scattergeo": [
           {
            "marker": {
             "colorbar": {
              "outlinewidth": 0,
              "ticks": ""
             }
            },
            "type": "scattergeo"
           }
          ],
          "scattergl": [
           {
            "marker": {
             "colorbar": {
              "outlinewidth": 0,
              "ticks": ""
             }
            },
            "type": "scattergl"
           }
          ],
          "scattermapbox": [
           {
            "marker": {
             "colorbar": {
              "outlinewidth": 0,
              "ticks": ""
             }
            },
            "type": "scattermapbox"
           }
          ],
          "scatterpolar": [
           {
            "marker": {
             "colorbar": {
              "outlinewidth": 0,
              "ticks": ""
             }
            },
            "type": "scatterpolar"
           }
          ],
          "scatterpolargl": [
           {
            "marker": {
             "colorbar": {
              "outlinewidth": 0,
              "ticks": ""
             }
            },
            "type": "scatterpolargl"
           }
          ],
          "scatterternary": [
           {
            "marker": {
             "colorbar": {
              "outlinewidth": 0,
              "ticks": ""
             }
            },
            "type": "scatterternary"
           }
          ],
          "surface": [
           {
            "colorbar": {
             "outlinewidth": 0,
             "ticks": ""
            },
            "colorscale": [
             [
              0,
              "#0d0887"
             ],
             [
              0.1111111111111111,
              "#46039f"
             ],
             [
              0.2222222222222222,
              "#7201a8"
             ],
             [
              0.3333333333333333,
              "#9c179e"
             ],
             [
              0.4444444444444444,
              "#bd3786"
             ],
             [
              0.5555555555555556,
              "#d8576b"
             ],
             [
              0.6666666666666666,
              "#ed7953"
             ],
             [
              0.7777777777777778,
              "#fb9f3a"
             ],
             [
              0.8888888888888888,
              "#fdca26"
             ],
             [
              1,
              "#f0f921"
             ]
            ],
            "type": "surface"
           }
          ],
          "table": [
           {
            "cells": {
             "fill": {
              "color": "#EBF0F8"
             },
             "line": {
              "color": "white"
             }
            },
            "header": {
             "fill": {
              "color": "#C8D4E3"
             },
             "line": {
              "color": "white"
             }
            },
            "type": "table"
           }
          ]
         },
         "layout": {
          "annotationdefaults": {
           "arrowcolor": "#2a3f5f",
           "arrowhead": 0,
           "arrowwidth": 1
          },
          "autotypenumbers": "strict",
          "coloraxis": {
           "colorbar": {
            "outlinewidth": 0,
            "ticks": ""
           }
          },
          "colorscale": {
           "diverging": [
            [
             0,
             "#8e0152"
            ],
            [
             0.1,
             "#c51b7d"
            ],
            [
             0.2,
             "#de77ae"
            ],
            [
             0.3,
             "#f1b6da"
            ],
            [
             0.4,
             "#fde0ef"
            ],
            [
             0.5,
             "#f7f7f7"
            ],
            [
             0.6,
             "#e6f5d0"
            ],
            [
             0.7,
             "#b8e186"
            ],
            [
             0.8,
             "#7fbc41"
            ],
            [
             0.9,
             "#4d9221"
            ],
            [
             1,
             "#276419"
            ]
           ],
           "sequential": [
            [
             0,
             "#0d0887"
            ],
            [
             0.1111111111111111,
             "#46039f"
            ],
            [
             0.2222222222222222,
             "#7201a8"
            ],
            [
             0.3333333333333333,
             "#9c179e"
            ],
            [
             0.4444444444444444,
             "#bd3786"
            ],
            [
             0.5555555555555556,
             "#d8576b"
            ],
            [
             0.6666666666666666,
             "#ed7953"
            ],
            [
             0.7777777777777778,
             "#fb9f3a"
            ],
            [
             0.8888888888888888,
             "#fdca26"
            ],
            [
             1,
             "#f0f921"
            ]
           ],
           "sequentialminus": [
            [
             0,
             "#0d0887"
            ],
            [
             0.1111111111111111,
             "#46039f"
            ],
            [
             0.2222222222222222,
             "#7201a8"
            ],
            [
             0.3333333333333333,
             "#9c179e"
            ],
            [
             0.4444444444444444,
             "#bd3786"
            ],
            [
             0.5555555555555556,
             "#d8576b"
            ],
            [
             0.6666666666666666,
             "#ed7953"
            ],
            [
             0.7777777777777778,
             "#fb9f3a"
            ],
            [
             0.8888888888888888,
             "#fdca26"
            ],
            [
             1,
             "#f0f921"
            ]
           ]
          },
          "colorway": [
           "#636efa",
           "#EF553B",
           "#00cc96",
           "#ab63fa",
           "#FFA15A",
           "#19d3f3",
           "#FF6692",
           "#B6E880",
           "#FF97FF",
           "#FECB52"
          ],
          "font": {
           "color": "#2a3f5f"
          },
          "geo": {
           "bgcolor": "white",
           "lakecolor": "white",
           "landcolor": "#E5ECF6",
           "showlakes": true,
           "showland": true,
           "subunitcolor": "white"
          },
          "hoverlabel": {
           "align": "left"
          },
          "hovermode": "closest",
          "mapbox": {
           "style": "light"
          },
          "paper_bgcolor": "white",
          "plot_bgcolor": "#E5ECF6",
          "polar": {
           "angularaxis": {
            "gridcolor": "white",
            "linecolor": "white",
            "ticks": ""
           },
           "bgcolor": "#E5ECF6",
           "radialaxis": {
            "gridcolor": "white",
            "linecolor": "white",
            "ticks": ""
           }
          },
          "scene": {
           "xaxis": {
            "backgroundcolor": "#E5ECF6",
            "gridcolor": "white",
            "gridwidth": 2,
            "linecolor": "white",
            "showbackground": true,
            "ticks": "",
            "zerolinecolor": "white"
           },
           "yaxis": {
            "backgroundcolor": "#E5ECF6",
            "gridcolor": "white",
            "gridwidth": 2,
            "linecolor": "white",
            "showbackground": true,
            "ticks": "",
            "zerolinecolor": "white"
           },
           "zaxis": {
            "backgroundcolor": "#E5ECF6",
            "gridcolor": "white",
            "gridwidth": 2,
            "linecolor": "white",
            "showbackground": true,
            "ticks": "",
            "zerolinecolor": "white"
           }
          },
          "shapedefaults": {
           "line": {
            "color": "#2a3f5f"
           }
          },
          "ternary": {
           "aaxis": {
            "gridcolor": "white",
            "linecolor": "white",
            "ticks": ""
           },
           "baxis": {
            "gridcolor": "white",
            "linecolor": "white",
            "ticks": ""
           },
           "bgcolor": "#E5ECF6",
           "caxis": {
            "gridcolor": "white",
            "linecolor": "white",
            "ticks": ""
           }
          },
          "title": {
           "x": 0.05
          },
          "xaxis": {
           "automargin": true,
           "gridcolor": "white",
           "linecolor": "white",
           "ticks": "",
           "title": {
            "standoff": 15
           },
           "zerolinecolor": "white",
           "zerolinewidth": 2
          },
          "yaxis": {
           "automargin": true,
           "gridcolor": "white",
           "linecolor": "white",
           "ticks": "",
           "title": {
            "standoff": 15
           },
           "zerolinecolor": "white",
           "zerolinewidth": 2
          }
         }
        },
        "title": {
         "text": "Comparision between rainfall, temperature"
        },
        "xaxis": {
         "anchor": "y",
         "domain": [
          0,
          1
         ],
         "showgrid": false,
         "title": {
          "text": "Crop"
         }
        },
        "yaxis": {
         "anchor": "x",
         "domain": [
          0,
          1
         ],
         "showgrid": false,
         "title": {
          "text": "value"
         }
        }
       }
      }
     },
     "metadata": {},
     "output_type": "display_data"
    }
   ],
   "source": [
    "fig = px.bar(crop_summary, x=crop_summary.index, y=[\"Rainfall\", \"Temperature\"])\n",
    "fig.update_layout(title_text=\"Comparision between rainfall, temperature\",\n",
    "                  plot_bgcolor='white',\n",
    "                 height=500)\n",
    "\n",
    "fig.update_xaxes(showgrid=False)\n",
    "fig.update_yaxes(showgrid=False)\n",
    "fig.show()"
   ]
  },
  {
   "cell_type": "code",
   "execution_count": 32,
   "id": "4adccf73",
   "metadata": {},
   "outputs": [
    {
     "data": {
      "application/vnd.plotly.v1+json": {
       "config": {
        "plotlyServerURL": "https://plot.ly"
       },
       "data": [
        {
         "hovertemplate": "Crop=Sugarcane<br>Rainfall=%{x}<br>Temperature=%{y}<extra></extra>",
         "legendgroup": "Sugarcane",
         "marker": {
          "color": "#636efa",
          "symbol": "circle"
         },
         "mode": "markers",
         "name": "Sugarcane",
         "showlegend": true,
         "type": "scattergl",
         "x": [
          1000,
          1000,
          1000,
          1000,
          1000,
          1000,
          1100,
          1100,
          1100,
          1100,
          1100,
          1100,
          1200,
          1200,
          1200,
          1200,
          1200,
          1200,
          1300,
          1300,
          1300,
          1300,
          1300,
          1300,
          1400,
          1400,
          1400,
          1400,
          1400,
          1400,
          1500,
          1500,
          1500,
          1500,
          1500,
          1500,
          1000,
          1000,
          1000,
          1000,
          1000,
          1000,
          1100,
          1100,
          1100,
          1100,
          1100,
          1100,
          1200,
          1200,
          1200,
          1200,
          1200,
          1200,
          1300,
          1300,
          1300,
          1300,
          1300,
          1300,
          1400,
          1400,
          1400,
          1400,
          1400,
          1400,
          1500,
          1500,
          1500,
          1500,
          1500,
          1500,
          1000,
          1000,
          1000,
          1000,
          1000,
          1000,
          1000,
          1100,
          1100,
          1100,
          1100,
          1100,
          1100,
          1100,
          1200,
          1200,
          1200,
          1200,
          1200,
          1200,
          1200,
          1000,
          1000,
          1000,
          1000,
          1000,
          1000,
          1000,
          1100,
          1100,
          1100,
          1100,
          1100,
          1100,
          1100,
          1200,
          1200,
          1200,
          1200,
          1200,
          1200,
          1200,
          1000,
          1000,
          1000,
          1000,
          1000,
          1000,
          1000,
          1100,
          1100,
          1100,
          1100,
          1100,
          1100,
          1100,
          1200,
          1200,
          1200,
          1200,
          1200,
          1200,
          1200,
          1000,
          1000,
          1000,
          1000,
          1000,
          1000,
          1000,
          1100,
          1100,
          1100,
          1100,
          1100,
          1100,
          1100,
          1200,
          1200,
          1200,
          1200,
          1200,
          1200,
          1200,
          1000,
          1000,
          1000,
          1000,
          1000,
          1000,
          1000,
          1100,
          1100,
          1100,
          1100,
          1100,
          1100,
          1100,
          1200,
          1200,
          1200,
          1200,
          1200,
          1200,
          1200,
          1000,
          1000,
          1000,
          1000,
          1000,
          1000,
          1000,
          1100,
          1100,
          1100,
          1100,
          1100,
          1100,
          1100,
          1200,
          1200,
          1200,
          1200,
          1200,
          1200,
          1200,
          1000,
          1000,
          1000,
          1000,
          1000,
          1000,
          1000,
          1100,
          1100,
          1100,
          1100,
          1100,
          1100,
          1100,
          1200,
          1200,
          1200,
          1200,
          1200,
          1200,
          1200,
          1000,
          1000,
          1000,
          1000,
          1000,
          1000,
          1000,
          1100,
          1100,
          1100,
          1100,
          1100,
          1100,
          1100,
          1200,
          1200,
          1200,
          1200,
          1200,
          1200,
          1200,
          1000,
          1000,
          1000,
          1000,
          1000,
          1000,
          1000,
          900,
          900,
          900,
          900,
          900,
          900,
          900,
          1000,
          1000,
          1000,
          1000,
          1000,
          1000,
          1000,
          900,
          900,
          900,
          900,
          900,
          900,
          900,
          1000,
          1000,
          1000,
          1000,
          1000,
          1000,
          1000,
          900,
          900,
          900,
          900,
          900,
          900,
          900,
          1000,
          1000,
          1000,
          1000,
          1000,
          1000,
          1000,
          900,
          900,
          900,
          900,
          900,
          900,
          900,
          1000,
          1000,
          1000,
          1000,
          1000,
          1000,
          1000,
          900,
          900,
          900,
          900,
          900,
          900,
          900,
          1000,
          1000,
          1000,
          1000,
          1000,
          1000,
          1000,
          900,
          900,
          900,
          900,
          900,
          900,
          900,
          1000,
          1000,
          1000,
          1000,
          1000,
          1000,
          1000,
          900,
          900,
          900,
          900,
          900,
          900,
          900,
          1000,
          1000,
          1000,
          1000,
          1000,
          1000,
          1000,
          900,
          900,
          900,
          900,
          900,
          900,
          900,
          1000,
          1000,
          1000,
          1000,
          1000,
          1000,
          1000,
          900,
          900,
          900,
          900,
          900,
          900,
          900,
          1000,
          1000,
          1000,
          1000,
          1000,
          1000,
          1000,
          900,
          900,
          900,
          900,
          900,
          900,
          900,
          1000,
          1000,
          1000,
          1000,
          1000,
          1000,
          1000,
          900,
          900,
          900,
          900,
          900,
          900,
          900,
          1000,
          1000,
          1000,
          1000,
          1000,
          1000,
          1000,
          900,
          900,
          900,
          900,
          900,
          900,
          900,
          1000,
          1000,
          1000,
          1000,
          1000,
          1000,
          1000,
          900,
          900,
          900,
          900,
          900,
          900,
          900,
          1000,
          1000,
          1000,
          1000,
          1000,
          1000,
          1000,
          900,
          900,
          900,
          900,
          900,
          900,
          900,
          1000,
          1000,
          1000,
          1000,
          1000,
          1000,
          1000,
          900,
          900,
          900,
          900,
          900,
          900,
          900,
          1000,
          1000,
          1000,
          1000,
          1000,
          1000,
          1000,
          900,
          900,
          900,
          900,
          900,
          900,
          900,
          1000,
          1000,
          1000,
          1000,
          1000,
          1000,
          1000,
          900,
          900,
          900,
          900,
          900,
          900,
          900,
          1000,
          1000,
          1000,
          1000,
          1000,
          1000,
          1000,
          900,
          900,
          900,
          900,
          900,
          900,
          900,
          1000,
          1000,
          1000,
          1000,
          1000,
          1000,
          1000,
          900,
          900,
          900,
          900,
          900,
          900,
          900,
          1000,
          1000,
          1000,
          1000,
          1000,
          1000,
          1000,
          900,
          900,
          900,
          900,
          900,
          900,
          900,
          1000,
          1000,
          1000,
          1000,
          1000,
          1000,
          1000,
          900,
          900,
          900,
          900,
          900,
          900,
          900,
          1000,
          1000,
          1000,
          1000,
          1000,
          1000,
          1000,
          900,
          900,
          900,
          900,
          900,
          900,
          900,
          1000,
          1000,
          1000,
          1000,
          1000,
          1000,
          1000,
          900,
          900,
          900,
          900,
          900,
          900,
          900,
          1000,
          1000,
          1000,
          1000,
          1000,
          1000,
          1000,
          900,
          900,
          900,
          900,
          900,
          900,
          900,
          1000,
          1000,
          1000,
          1000,
          1000,
          1000,
          1000,
          900,
          900,
          900,
          900,
          900,
          900,
          900,
          700,
          700,
          700,
          700,
          700,
          700,
          700,
          800,
          800,
          800,
          800,
          800,
          800,
          800,
          700,
          700,
          700,
          700,
          700,
          700,
          700,
          800,
          800,
          800,
          800,
          800,
          800,
          800,
          700,
          700,
          700,
          700,
          700,
          700,
          700,
          800,
          800,
          800,
          800,
          800,
          800,
          800,
          700,
          700,
          700,
          700,
          700,
          700,
          700,
          800,
          800,
          800,
          800,
          800,
          800,
          800,
          700,
          700,
          700,
          700,
          700,
          700,
          700,
          800,
          800,
          800,
          800,
          800,
          800,
          800,
          700,
          700,
          700,
          700,
          700,
          700,
          700,
          800,
          800,
          800,
          800,
          800,
          800,
          800,
          700,
          700,
          700,
          700,
          700,
          700,
          700,
          800,
          800,
          800,
          800,
          800,
          800,
          800,
          700,
          700,
          700,
          700,
          700,
          700,
          700,
          800,
          800,
          800,
          800,
          800,
          800,
          800,
          700,
          700,
          700,
          700,
          700,
          700,
          700,
          800,
          800,
          800,
          800,
          800,
          800,
          800,
          700,
          700,
          700,
          700,
          700,
          700,
          700,
          800,
          800,
          800,
          800,
          800,
          800,
          800,
          700,
          700,
          700,
          700,
          700,
          700,
          700,
          800,
          800,
          800,
          800,
          800,
          800,
          800,
          700,
          700,
          700,
          700,
          700,
          700,
          700,
          800,
          800,
          800,
          800,
          800,
          800,
          800,
          700,
          700,
          700,
          700,
          700,
          700,
          700,
          1000,
          1000,
          1000,
          1000,
          1000,
          1000,
          1000,
          1100,
          1100,
          1100,
          1100,
          1100,
          1100,
          1100,
          1200,
          1200,
          1200,
          1200,
          1200,
          1200,
          1200,
          1300,
          1300,
          1300,
          1300,
          1300,
          1300,
          1300,
          1400,
          1400,
          1400,
          1400,
          1400,
          1400,
          1400,
          1500,
          1500,
          1500,
          1500,
          1500,
          1500,
          1500,
          1000,
          1000,
          1000,
          1000,
          1000,
          1000,
          1000,
          1100,
          1100,
          1100,
          1100,
          1100,
          1100,
          1100,
          1200,
          1200,
          1200,
          1200,
          1200,
          1200,
          1200,
          1300,
          1300,
          1300,
          1300,
          1300,
          1300,
          1300,
          1400,
          1400,
          1400,
          1400,
          1400,
          1400,
          1400,
          1500,
          1500,
          1500,
          1500,
          1500,
          1500,
          1500,
          1000,
          1000,
          1000,
          1000,
          1000,
          1000,
          1000,
          1100,
          1100,
          1100,
          1100,
          1100,
          1100,
          1100,
          1200,
          1200,
          1200,
          1200,
          1200,
          1200,
          1200,
          1300,
          1300,
          1300,
          1300,
          1300,
          1300,
          1300,
          1400,
          1400,
          1400,
          1400,
          1400,
          1400,
          1400,
          1500,
          1500,
          1500,
          1500,
          1500,
          1500,
          1500,
          1000,
          1000,
          1000,
          1000,
          1000,
          1000,
          1000,
          1100,
          1100,
          1100,
          1100,
          1100,
          1100,
          1100,
          1200,
          1200,
          1200,
          1200,
          1200,
          1200,
          1200,
          1300,
          1300,
          1300,
          1300,
          1300,
          1300,
          1300,
          1400,
          1400,
          1400,
          1400,
          1400,
          1400,
          1400,
          1500,
          1500,
          1500,
          1500,
          1500,
          1500,
          1500,
          1000,
          1000,
          1000,
          1000,
          1000,
          1000,
          1000,
          1100,
          1100,
          1100,
          1100,
          1100,
          1100,
          1100,
          1200,
          1200,
          1200,
          1200,
          1200,
          1200,
          1200,
          1300,
          1300,
          1300,
          1300,
          1300,
          1300,
          1300,
          1400,
          1400,
          1400,
          1400,
          1400,
          1400,
          1400,
          1500,
          1500,
          1500,
          1500,
          1500,
          1500,
          1500,
          1000,
          1000,
          1000,
          1000,
          1000,
          1000,
          1000,
          1100,
          1100,
          1100,
          1100,
          1100,
          1100,
          1100,
          1200,
          1200,
          1200,
          1200,
          1200,
          1200,
          1200,
          1300,
          1300,
          1300,
          1300,
          1300,
          1300,
          1300,
          1400,
          1400,
          1400,
          1400,
          1400,
          1400,
          1400
         ],
         "xaxis": "x",
         "y": [
          20,
          20,
          20,
          20,
          20,
          20,
          25,
          25,
          25,
          25,
          25,
          25,
          30,
          30,
          30,
          30,
          30,
          30,
          35,
          35,
          35,
          35,
          35,
          35,
          20,
          20,
          20,
          20,
          20,
          20,
          25,
          25,
          25,
          25,
          25,
          25,
          30,
          30,
          30,
          30,
          30,
          30,
          35,
          35,
          35,
          35,
          35,
          35,
          20,
          20,
          20,
          20,
          20,
          20,
          25,
          25,
          25,
          25,
          25,
          25,
          30,
          30,
          30,
          30,
          30,
          30,
          35,
          35,
          35,
          35,
          35,
          35,
          20,
          20,
          20,
          20,
          20,
          20,
          20,
          25,
          25,
          25,
          25,
          25,
          25,
          25,
          30,
          30,
          30,
          30,
          30,
          30,
          30,
          35,
          35,
          35,
          35,
          35,
          35,
          35,
          20,
          20,
          20,
          20,
          20,
          20,
          20,
          25,
          25,
          25,
          25,
          25,
          25,
          25,
          30,
          30,
          30,
          30,
          30,
          30,
          30,
          35,
          35,
          35,
          35,
          35,
          35,
          35,
          20,
          20,
          20,
          20,
          20,
          20,
          20,
          25,
          25,
          25,
          25,
          25,
          25,
          25,
          30,
          30,
          30,
          30,
          30,
          30,
          30,
          35,
          35,
          35,
          35,
          35,
          35,
          35,
          20,
          20,
          20,
          20,
          20,
          20,
          20,
          25,
          25,
          25,
          25,
          25,
          25,
          25,
          30,
          30,
          30,
          30,
          30,
          30,
          30,
          35,
          35,
          35,
          35,
          35,
          35,
          35,
          20,
          20,
          20,
          20,
          20,
          20,
          20,
          25,
          25,
          25,
          25,
          25,
          25,
          25,
          30,
          30,
          30,
          30,
          30,
          30,
          30,
          35,
          35,
          35,
          35,
          35,
          35,
          35,
          20,
          20,
          20,
          20,
          20,
          20,
          20,
          25,
          25,
          25,
          25,
          25,
          25,
          25,
          30,
          30,
          30,
          30,
          30,
          30,
          30,
          35,
          35,
          35,
          35,
          35,
          35,
          35,
          20,
          20,
          20,
          20,
          20,
          20,
          20,
          20,
          20,
          20,
          20,
          20,
          20,
          20,
          25,
          25,
          25,
          25,
          25,
          25,
          25,
          30,
          30,
          30,
          30,
          30,
          30,
          30,
          35,
          35,
          35,
          35,
          35,
          35,
          35,
          20,
          20,
          20,
          20,
          20,
          20,
          20,
          25,
          25,
          25,
          25,
          25,
          25,
          25,
          30,
          30,
          30,
          30,
          30,
          30,
          30,
          35,
          35,
          35,
          35,
          35,
          35,
          35,
          20,
          20,
          20,
          20,
          20,
          20,
          20,
          25,
          25,
          25,
          25,
          25,
          25,
          25,
          30,
          30,
          30,
          30,
          30,
          30,
          30,
          35,
          35,
          35,
          35,
          35,
          35,
          35,
          20,
          20,
          20,
          20,
          20,
          20,
          20,
          25,
          25,
          25,
          25,
          25,
          25,
          25,
          30,
          30,
          30,
          30,
          30,
          30,
          30,
          35,
          35,
          35,
          35,
          35,
          35,
          35,
          20,
          20,
          20,
          20,
          20,
          20,
          20,
          25,
          25,
          25,
          25,
          25,
          25,
          25,
          30,
          30,
          30,
          30,
          30,
          30,
          30,
          35,
          35,
          35,
          35,
          35,
          35,
          35,
          20,
          20,
          20,
          20,
          20,
          20,
          20,
          25,
          25,
          25,
          25,
          25,
          25,
          25,
          30,
          30,
          30,
          30,
          30,
          30,
          30,
          35,
          35,
          35,
          35,
          35,
          35,
          35,
          20,
          20,
          20,
          20,
          20,
          20,
          20,
          25,
          25,
          25,
          25,
          25,
          25,
          25,
          30,
          30,
          30,
          30,
          30,
          30,
          30,
          35,
          35,
          35,
          35,
          35,
          35,
          35,
          20,
          20,
          20,
          20,
          20,
          20,
          20,
          25,
          25,
          25,
          25,
          25,
          25,
          25,
          30,
          30,
          30,
          30,
          30,
          30,
          30,
          35,
          35,
          35,
          35,
          35,
          35,
          35,
          20,
          20,
          20,
          20,
          20,
          20,
          20,
          25,
          25,
          25,
          25,
          25,
          25,
          25,
          30,
          30,
          30,
          30,
          30,
          30,
          30,
          35,
          35,
          35,
          35,
          35,
          35,
          35,
          20,
          20,
          20,
          20,
          20,
          20,
          20,
          25,
          25,
          25,
          25,
          25,
          25,
          25,
          30,
          30,
          30,
          30,
          30,
          30,
          30,
          35,
          35,
          35,
          35,
          35,
          35,
          35,
          20,
          20,
          20,
          20,
          20,
          20,
          20,
          25,
          25,
          25,
          25,
          25,
          25,
          25,
          30,
          30,
          30,
          30,
          30,
          30,
          30,
          35,
          35,
          35,
          35,
          35,
          35,
          35,
          20,
          20,
          20,
          20,
          20,
          20,
          20,
          25,
          25,
          25,
          25,
          25,
          25,
          25,
          30,
          30,
          30,
          30,
          30,
          30,
          30,
          35,
          35,
          35,
          35,
          35,
          35,
          35,
          20,
          20,
          20,
          20,
          20,
          20,
          20,
          20,
          20,
          20,
          20,
          20,
          20,
          20,
          25,
          25,
          25,
          25,
          25,
          25,
          25,
          30,
          30,
          30,
          30,
          30,
          30,
          30,
          20,
          20,
          20,
          20,
          20,
          20,
          20,
          25,
          25,
          25,
          25,
          25,
          25,
          25,
          30,
          30,
          30,
          30,
          30,
          30,
          30,
          20,
          20,
          20,
          20,
          20,
          20,
          20,
          25,
          25,
          25,
          25,
          25,
          25,
          25,
          30,
          30,
          30,
          30,
          30,
          30,
          30,
          20,
          20,
          20,
          20,
          20,
          20,
          20,
          25,
          25,
          25,
          25,
          25,
          25,
          25,
          30,
          30,
          30,
          30,
          30,
          30,
          30,
          20,
          20,
          20,
          20,
          20,
          20,
          20,
          25,
          25,
          25,
          25,
          25,
          25,
          25,
          30,
          30,
          30,
          30,
          30,
          30,
          30,
          20,
          20,
          20,
          20,
          20,
          20,
          20,
          25,
          25,
          25,
          25,
          25,
          25,
          25,
          30,
          30,
          30,
          30,
          30,
          30,
          30,
          20,
          20,
          20,
          20,
          20,
          20,
          20,
          25,
          25,
          25,
          25,
          25,
          25,
          25,
          30,
          30,
          30,
          30,
          30,
          30,
          30,
          20,
          20,
          20,
          20,
          20,
          20,
          20,
          25,
          25,
          25,
          25,
          25,
          25,
          25,
          30,
          30,
          30,
          30,
          30,
          30,
          30,
          20,
          20,
          20,
          20,
          20,
          20,
          20,
          20,
          20,
          20,
          20,
          20,
          20,
          20,
          25,
          25,
          25,
          25,
          25,
          25,
          25,
          30,
          30,
          30,
          30,
          30,
          30,
          30,
          35,
          35,
          35,
          35,
          35,
          35,
          35,
          20,
          20,
          20,
          20,
          20,
          20,
          20,
          25,
          25,
          25,
          25,
          25,
          25,
          25,
          30,
          30,
          30,
          30,
          30,
          30,
          30,
          35,
          35,
          35,
          35,
          35,
          35,
          35,
          20,
          20,
          20,
          20,
          20,
          20,
          20,
          25,
          25,
          25,
          25,
          25,
          25,
          25,
          30,
          30,
          30,
          30,
          30,
          30,
          30,
          35,
          35,
          35,
          35,
          35,
          35,
          35,
          20,
          20,
          20,
          20,
          20,
          20,
          20,
          25,
          25,
          25,
          25,
          25,
          25,
          25,
          30,
          30,
          30,
          30,
          30,
          30,
          30,
          35,
          35,
          35,
          35,
          35,
          35,
          35,
          20,
          20,
          20,
          20,
          20,
          20,
          20,
          25,
          25,
          25,
          25,
          25,
          25,
          25,
          30,
          30,
          30,
          30,
          30,
          30,
          30,
          35,
          35,
          35,
          35,
          35,
          35,
          35,
          20,
          20,
          20,
          20,
          20,
          20,
          20,
          25,
          25,
          25,
          25,
          25,
          25,
          25,
          30,
          30,
          30,
          30,
          30,
          30,
          30,
          35,
          35,
          35,
          35,
          35,
          35,
          35,
          20,
          20,
          20,
          20,
          20,
          20,
          20,
          25,
          25,
          25,
          25,
          25,
          25,
          25,
          30,
          30,
          30,
          30,
          30,
          30,
          30,
          35,
          35,
          35,
          35,
          35,
          35,
          35,
          20,
          20,
          20,
          20,
          20,
          20,
          20,
          25,
          25,
          25,
          25,
          25,
          25,
          25,
          30,
          30,
          30,
          30,
          30,
          30,
          30,
          35,
          35,
          35,
          35,
          35,
          35,
          35,
          20,
          20,
          20,
          20,
          20,
          20,
          20,
          25,
          25,
          25,
          25,
          25,
          25,
          25,
          30,
          30,
          30,
          30,
          30,
          30,
          30
         ],
         "yaxis": "y"
        },
        {
         "hovertemplate": "Crop=Jowar<br>Rainfall=%{x}<br>Temperature=%{y}<extra></extra>",
         "legendgroup": "Jowar",
         "marker": {
          "color": "#EF553B",
          "symbol": "diamond"
         },
         "mode": "markers",
         "name": "Jowar",
         "showlegend": true,
         "type": "scattergl",
         "x": [
          600,
          600,
          600,
          600,
          600,
          700,
          700,
          700,
          700,
          700,
          800,
          800,
          800,
          800,
          800,
          600,
          600,
          600,
          600,
          600,
          700,
          700,
          700,
          700,
          700,
          800,
          800,
          800,
          800,
          800,
          600,
          600,
          600,
          600,
          600,
          700,
          700,
          700,
          700,
          700,
          800,
          800,
          800,
          800,
          800,
          600,
          600,
          600,
          600,
          600,
          700,
          700,
          700,
          700,
          700,
          800,
          800,
          800,
          800,
          800,
          600,
          600,
          600,
          700,
          700,
          700,
          800,
          800,
          800,
          600,
          600,
          600,
          600,
          600,
          600,
          700,
          700,
          700,
          600,
          600,
          600,
          700,
          700,
          700,
          600,
          600,
          600,
          700,
          700,
          700,
          600,
          600,
          600,
          700,
          700,
          700,
          600,
          600,
          600,
          400,
          400,
          400,
          400,
          400,
          500,
          500,
          500,
          500,
          500,
          600,
          600,
          600,
          600,
          600,
          400,
          400,
          400,
          400,
          400,
          500,
          500,
          500,
          500,
          500,
          600,
          600,
          600,
          600,
          600,
          400,
          400,
          400,
          400,
          400,
          500,
          500,
          500,
          500,
          500,
          600,
          600,
          600,
          600,
          600,
          400,
          400,
          400,
          400,
          400,
          500,
          500,
          500,
          500,
          500,
          600,
          600,
          600,
          600,
          600,
          400,
          400,
          400,
          400,
          400,
          500,
          500,
          500,
          500,
          500,
          600,
          600,
          600,
          600,
          600,
          400,
          400,
          400,
          400,
          400,
          500,
          500,
          500,
          500,
          500,
          600,
          600,
          600,
          600,
          600,
          400,
          400,
          400,
          400,
          400,
          500,
          500,
          500,
          500,
          500,
          600,
          600,
          600,
          600,
          600,
          400,
          400,
          400,
          400,
          400,
          500,
          500,
          500,
          500,
          500,
          600,
          600,
          600,
          600,
          600,
          400,
          400,
          400,
          400,
          400,
          800,
          800,
          800,
          800,
          800,
          900,
          900,
          900,
          900,
          900,
          800,
          800,
          800,
          800,
          800,
          900,
          900,
          900,
          900,
          900,
          800,
          800,
          800,
          800,
          800,
          900,
          900,
          900,
          900,
          900,
          800,
          800,
          800,
          800,
          800,
          900,
          900,
          900,
          900,
          900,
          800,
          800,
          800,
          800,
          800,
          900,
          900,
          900,
          900,
          900,
          800,
          800,
          800,
          800,
          800,
          900,
          900,
          900,
          900,
          900,
          800,
          800,
          800,
          800,
          800,
          900,
          900,
          900,
          900,
          900,
          800,
          800,
          800,
          800,
          800,
          900,
          900,
          900,
          900,
          900,
          800,
          800,
          800,
          800,
          800,
          900,
          900,
          900,
          900,
          900,
          800,
          800,
          800,
          800,
          800,
          900,
          900,
          900,
          900,
          900,
          800,
          800,
          800,
          800,
          800,
          900,
          900,
          900,
          900,
          900,
          800,
          800,
          800,
          800,
          800,
          900,
          900,
          900,
          900,
          900,
          800,
          800,
          800,
          800,
          800,
          700,
          700,
          700,
          700,
          700,
          800,
          800,
          800,
          800,
          800,
          900,
          900,
          900,
          900,
          900,
          700,
          700,
          700,
          700,
          700,
          800,
          800,
          800,
          800,
          800,
          900,
          900,
          900,
          900,
          900,
          700,
          700,
          700,
          700,
          700,
          800,
          800,
          800,
          800,
          800,
          900,
          900,
          900,
          900,
          900
         ],
         "xaxis": "x",
         "y": [
          25,
          25,
          25,
          25,
          25,
          30,
          30,
          30,
          30,
          30,
          25,
          25,
          25,
          25,
          25,
          30,
          30,
          30,
          30,
          30,
          25,
          25,
          25,
          25,
          25,
          30,
          30,
          30,
          30,
          30,
          25,
          25,
          25,
          25,
          25,
          30,
          30,
          30,
          30,
          30,
          25,
          25,
          25,
          25,
          25,
          30,
          30,
          30,
          30,
          30,
          25,
          25,
          25,
          25,
          25,
          30,
          30,
          30,
          30,
          30,
          25,
          25,
          25,
          30,
          30,
          30,
          25,
          25,
          25,
          30,
          30,
          30,
          20,
          20,
          20,
          25,
          25,
          25,
          30,
          30,
          30,
          20,
          20,
          20,
          25,
          25,
          25,
          30,
          30,
          30,
          20,
          20,
          20,
          25,
          25,
          25,
          30,
          30,
          30,
          25,
          25,
          25,
          25,
          25,
          30,
          30,
          30,
          30,
          30,
          35,
          35,
          35,
          35,
          35,
          25,
          25,
          25,
          25,
          25,
          30,
          30,
          30,
          30,
          30,
          35,
          35,
          35,
          35,
          35,
          25,
          25,
          25,
          25,
          25,
          30,
          30,
          30,
          30,
          30,
          35,
          35,
          35,
          35,
          35,
          25,
          25,
          25,
          25,
          25,
          30,
          30,
          30,
          30,
          30,
          35,
          35,
          35,
          35,
          35,
          25,
          25,
          25,
          25,
          25,
          30,
          30,
          30,
          30,
          30,
          35,
          35,
          35,
          35,
          35,
          25,
          25,
          25,
          25,
          25,
          30,
          30,
          30,
          30,
          30,
          35,
          35,
          35,
          35,
          35,
          25,
          25,
          25,
          25,
          25,
          30,
          30,
          30,
          30,
          30,
          35,
          35,
          35,
          35,
          35,
          25,
          25,
          25,
          25,
          25,
          30,
          30,
          30,
          30,
          30,
          35,
          35,
          35,
          35,
          35,
          25,
          25,
          25,
          25,
          25,
          25,
          25,
          25,
          25,
          25,
          30,
          30,
          30,
          30,
          30,
          25,
          25,
          25,
          25,
          25,
          30,
          30,
          30,
          30,
          30,
          25,
          25,
          25,
          25,
          25,
          30,
          30,
          30,
          30,
          30,
          25,
          25,
          25,
          25,
          25,
          30,
          30,
          30,
          30,
          30,
          25,
          25,
          25,
          25,
          25,
          30,
          30,
          30,
          30,
          30,
          25,
          25,
          25,
          25,
          25,
          30,
          30,
          30,
          30,
          30,
          25,
          25,
          25,
          25,
          25,
          30,
          30,
          30,
          30,
          30,
          25,
          25,
          25,
          25,
          25,
          30,
          30,
          30,
          30,
          30,
          25,
          25,
          25,
          25,
          25,
          30,
          30,
          30,
          30,
          30,
          25,
          25,
          25,
          25,
          25,
          30,
          30,
          30,
          30,
          30,
          25,
          25,
          25,
          25,
          25,
          30,
          30,
          30,
          30,
          30,
          25,
          25,
          25,
          25,
          25,
          30,
          30,
          30,
          30,
          30,
          25,
          25,
          25,
          25,
          25,
          25,
          25,
          25,
          25,
          25,
          30,
          30,
          30,
          30,
          30,
          35,
          35,
          35,
          35,
          35,
          25,
          25,
          25,
          25,
          25,
          30,
          30,
          30,
          30,
          30,
          35,
          35,
          35,
          35,
          35,
          25,
          25,
          25,
          25,
          25,
          30,
          30,
          30,
          30,
          30,
          35,
          35,
          35,
          35,
          35
         ],
         "yaxis": "y"
        },
        {
         "hovertemplate": "Crop=Cotton<br>Rainfall=%{x}<br>Temperature=%{y}<extra></extra>",
         "legendgroup": "Cotton",
         "marker": {
          "color": "#00cc96",
          "symbol": "square"
         },
         "mode": "markers",
         "name": "Cotton",
         "showlegend": true,
         "type": "scattergl",
         "x": [
          800,
          800,
          800,
          800,
          800,
          800,
          800,
          800,
          800,
          800,
          800,
          900,
          900,
          900,
          900,
          900,
          900,
          900,
          900,
          900,
          900,
          900,
          1000,
          1000,
          1000,
          1000,
          1000,
          1000,
          1000,
          1000,
          1000,
          1000,
          1000,
          800,
          800,
          800,
          800,
          800,
          800,
          800,
          800,
          800,
          800,
          800,
          900,
          900,
          900,
          900,
          900,
          900,
          900,
          900,
          900,
          900,
          900,
          1000,
          1000,
          1000,
          1000,
          1000,
          1000,
          1000,
          1000,
          1000,
          1000,
          1000,
          800,
          800,
          800,
          800,
          800,
          800,
          800,
          800,
          800,
          800,
          800,
          900,
          900,
          900,
          900,
          900,
          900,
          900,
          900,
          900,
          900,
          900,
          1000,
          1000,
          1000,
          1000,
          1000,
          1000,
          1000,
          1000,
          1000,
          1000,
          1000,
          800,
          800,
          800,
          800,
          800,
          800,
          800,
          800,
          800,
          800,
          800,
          900,
          900,
          900,
          900,
          900,
          900,
          900,
          900,
          900,
          900,
          900,
          1000,
          1000,
          1000,
          1000,
          1000,
          1000,
          1000,
          1000,
          1000,
          1000,
          1000,
          800,
          800,
          800,
          800,
          800,
          800,
          800,
          800,
          800,
          800,
          800,
          900,
          900,
          900,
          900,
          900,
          900,
          900,
          900,
          900,
          900,
          900,
          1000,
          1000,
          1000,
          1000,
          1000,
          1000,
          1000,
          1000,
          1000,
          1000,
          1000,
          800,
          800,
          800,
          800,
          800,
          800,
          800,
          800,
          800,
          800,
          800,
          900,
          900,
          900,
          900,
          900,
          900,
          900,
          900,
          900,
          900,
          900,
          1000,
          1000,
          1000,
          1000,
          1000,
          1000,
          1000,
          1000,
          1000,
          1000,
          1000,
          800,
          800,
          800,
          800,
          800,
          800,
          800,
          800,
          800,
          800,
          800,
          900,
          900,
          900,
          900,
          900,
          900,
          900,
          900,
          900,
          900,
          900,
          1000,
          1000,
          1000,
          1000,
          1000,
          1000,
          1000,
          1000,
          1000,
          1000,
          1000,
          800,
          800,
          800,
          800,
          800,
          800,
          800,
          800,
          800,
          800,
          800,
          900,
          900,
          900,
          900,
          900,
          900,
          900,
          900,
          900,
          900,
          900,
          1000,
          1000,
          1000,
          1000,
          1000,
          1000,
          1000,
          1000,
          1000,
          1000,
          1000,
          800,
          800,
          800,
          800,
          800,
          800,
          800,
          800,
          800,
          800,
          800,
          900,
          900,
          900,
          900,
          900,
          900,
          900,
          900,
          900,
          900,
          900,
          1000,
          1000,
          1000,
          1000,
          1000,
          1000,
          1000,
          1000,
          1000,
          1000,
          1000,
          800,
          800,
          800,
          800,
          800,
          800,
          800,
          800,
          800,
          800,
          800,
          900,
          900,
          900,
          900,
          900,
          900,
          900,
          900,
          900,
          900,
          900,
          1000,
          1000,
          1000,
          1000,
          1000,
          1000,
          1000,
          1000,
          1000,
          1000,
          1000,
          800,
          800,
          800,
          800,
          800,
          900,
          900,
          900,
          900,
          900,
          1000,
          1000,
          1000,
          1000,
          1000,
          800,
          800,
          800,
          800,
          800,
          900,
          900,
          900,
          900,
          900,
          1000,
          1000,
          1000,
          1000,
          1000,
          800,
          800,
          800,
          800,
          800,
          900,
          900,
          900,
          900,
          900,
          1000,
          1000,
          1000,
          1000,
          1000,
          800,
          800,
          800,
          800,
          800,
          900,
          900,
          900,
          900,
          900,
          1000,
          1000,
          1000,
          1000,
          1000,
          800,
          800,
          800,
          800,
          800,
          900,
          900,
          900,
          900,
          900,
          1000,
          1000,
          1000,
          1000,
          1000,
          800,
          800,
          800,
          800,
          800,
          900,
          900,
          900,
          900,
          900,
          1000,
          1000,
          1000,
          1000,
          1000,
          800,
          800,
          800,
          800,
          800,
          900,
          900,
          900,
          900,
          900,
          1000,
          1000,
          1000,
          1000,
          1000,
          800,
          800,
          800,
          800,
          800,
          900,
          900,
          900,
          900,
          900,
          1000,
          1000,
          1000,
          1000,
          1000,
          800,
          800,
          800,
          800,
          800,
          900,
          900,
          900,
          900,
          900,
          1000,
          1000,
          1000,
          1000,
          1000,
          800,
          800,
          800,
          800,
          800,
          900,
          900,
          900,
          900,
          900,
          1000,
          1000,
          1000,
          1000,
          1000,
          500,
          500,
          500,
          500,
          500,
          600,
          600,
          600,
          600,
          600,
          500,
          500,
          500,
          500,
          500,
          600,
          600,
          600,
          600,
          600,
          500,
          500,
          500,
          500,
          500,
          600,
          600,
          600,
          600,
          600,
          500,
          500,
          500,
          500,
          500,
          600,
          600,
          600,
          600,
          600,
          500,
          500,
          500,
          500,
          500,
          600,
          600,
          600,
          600,
          600,
          500,
          500,
          500,
          500,
          500,
          600,
          600,
          600,
          600,
          600,
          500,
          500,
          500,
          500,
          500,
          600,
          600,
          600,
          600,
          600,
          500,
          500,
          500,
          500,
          500,
          600,
          600,
          600,
          600,
          600,
          500,
          500,
          500,
          500,
          500,
          600,
          600,
          600,
          600,
          600,
          500,
          500,
          500,
          500,
          500,
          600,
          600,
          600,
          600,
          600,
          500,
          500,
          500,
          500,
          500,
          600,
          600,
          600,
          600,
          600,
          500,
          500,
          500,
          500,
          500,
          600,
          600,
          600,
          600,
          600,
          500,
          500,
          500,
          500,
          500,
          700,
          700,
          700,
          700,
          700,
          800,
          800,
          800,
          800,
          800,
          900,
          900,
          900,
          900,
          900,
          1000,
          1000,
          1000,
          1000,
          1000,
          700,
          700,
          700,
          700,
          700,
          800,
          800,
          800,
          800,
          800,
          900,
          900,
          900,
          900,
          900,
          1000,
          1000,
          1000,
          1000,
          1000,
          700,
          700,
          700,
          700,
          700
         ],
         "xaxis": "x",
         "y": [
          25,
          25,
          25,
          25,
          25,
          25,
          25,
          25,
          25,
          25,
          25,
          30,
          30,
          30,
          30,
          30,
          30,
          30,
          30,
          30,
          30,
          30,
          35,
          35,
          35,
          35,
          35,
          35,
          35,
          35,
          35,
          35,
          35,
          25,
          25,
          25,
          25,
          25,
          25,
          25,
          25,
          25,
          25,
          25,
          30,
          30,
          30,
          30,
          30,
          30,
          30,
          30,
          30,
          30,
          30,
          35,
          35,
          35,
          35,
          35,
          35,
          35,
          35,
          35,
          35,
          35,
          25,
          25,
          25,
          25,
          25,
          25,
          25,
          25,
          25,
          25,
          25,
          30,
          30,
          30,
          30,
          30,
          30,
          30,
          30,
          30,
          30,
          30,
          35,
          35,
          35,
          35,
          35,
          35,
          35,
          35,
          35,
          35,
          35,
          25,
          25,
          25,
          25,
          25,
          25,
          25,
          25,
          25,
          25,
          25,
          30,
          30,
          30,
          30,
          30,
          30,
          30,
          30,
          30,
          30,
          30,
          35,
          35,
          35,
          35,
          35,
          35,
          35,
          35,
          35,
          35,
          35,
          25,
          25,
          25,
          25,
          25,
          25,
          25,
          25,
          25,
          25,
          25,
          30,
          30,
          30,
          30,
          30,
          30,
          30,
          30,
          30,
          30,
          30,
          35,
          35,
          35,
          35,
          35,
          35,
          35,
          35,
          35,
          35,
          35,
          25,
          25,
          25,
          25,
          25,
          25,
          25,
          25,
          25,
          25,
          25,
          30,
          30,
          30,
          30,
          30,
          30,
          30,
          30,
          30,
          30,
          30,
          35,
          35,
          35,
          35,
          35,
          35,
          35,
          35,
          35,
          35,
          35,
          25,
          25,
          25,
          25,
          25,
          25,
          25,
          25,
          25,
          25,
          25,
          30,
          30,
          30,
          30,
          30,
          30,
          30,
          30,
          30,
          30,
          30,
          35,
          35,
          35,
          35,
          35,
          35,
          35,
          35,
          35,
          35,
          35,
          25,
          25,
          25,
          25,
          25,
          25,
          25,
          25,
          25,
          25,
          25,
          30,
          30,
          30,
          30,
          30,
          30,
          30,
          30,
          30,
          30,
          30,
          35,
          35,
          35,
          35,
          35,
          35,
          35,
          35,
          35,
          35,
          35,
          25,
          25,
          25,
          25,
          25,
          25,
          25,
          25,
          25,
          25,
          25,
          30,
          30,
          30,
          30,
          30,
          30,
          30,
          30,
          30,
          30,
          30,
          35,
          35,
          35,
          35,
          35,
          35,
          35,
          35,
          35,
          35,
          35,
          25,
          25,
          25,
          25,
          25,
          25,
          25,
          25,
          25,
          25,
          25,
          30,
          30,
          30,
          30,
          30,
          30,
          30,
          30,
          30,
          30,
          30,
          35,
          35,
          35,
          35,
          35,
          35,
          35,
          35,
          35,
          35,
          35,
          25,
          25,
          25,
          25,
          25,
          30,
          30,
          30,
          30,
          30,
          35,
          35,
          35,
          35,
          35,
          25,
          25,
          25,
          25,
          25,
          30,
          30,
          30,
          30,
          30,
          35,
          35,
          35,
          35,
          35,
          25,
          25,
          25,
          25,
          25,
          30,
          30,
          30,
          30,
          30,
          35,
          35,
          35,
          35,
          35,
          25,
          25,
          25,
          25,
          25,
          30,
          30,
          30,
          30,
          30,
          35,
          35,
          35,
          35,
          35,
          25,
          25,
          25,
          25,
          25,
          30,
          30,
          30,
          30,
          30,
          35,
          35,
          35,
          35,
          35,
          25,
          25,
          25,
          25,
          25,
          30,
          30,
          30,
          30,
          30,
          35,
          35,
          35,
          35,
          35,
          25,
          25,
          25,
          25,
          25,
          30,
          30,
          30,
          30,
          30,
          35,
          35,
          35,
          35,
          35,
          25,
          25,
          25,
          25,
          25,
          30,
          30,
          30,
          30,
          30,
          35,
          35,
          35,
          35,
          35,
          25,
          25,
          25,
          25,
          25,
          30,
          30,
          30,
          30,
          30,
          35,
          35,
          35,
          35,
          35,
          25,
          25,
          25,
          25,
          25,
          30,
          30,
          30,
          30,
          30,
          35,
          35,
          35,
          35,
          35,
          10,
          10,
          10,
          10,
          10,
          15,
          15,
          15,
          15,
          15,
          20,
          20,
          20,
          20,
          20,
          25,
          25,
          25,
          25,
          25,
          30,
          30,
          30,
          30,
          30,
          10,
          10,
          10,
          10,
          10,
          15,
          15,
          15,
          15,
          15,
          20,
          20,
          20,
          20,
          20,
          25,
          25,
          25,
          25,
          25,
          30,
          30,
          30,
          30,
          30,
          10,
          10,
          10,
          10,
          10,
          15,
          15,
          15,
          15,
          15,
          20,
          20,
          20,
          20,
          20,
          25,
          25,
          25,
          25,
          25,
          30,
          30,
          30,
          30,
          30,
          10,
          10,
          10,
          10,
          10,
          15,
          15,
          15,
          15,
          15,
          20,
          20,
          20,
          20,
          20,
          25,
          25,
          25,
          25,
          25,
          30,
          30,
          30,
          30,
          30,
          10,
          10,
          10,
          10,
          10,
          15,
          15,
          15,
          15,
          15,
          20,
          20,
          20,
          20,
          20,
          25,
          25,
          25,
          25,
          25,
          30,
          30,
          30,
          30,
          30,
          25,
          25,
          25,
          25,
          25,
          30,
          30,
          30,
          30,
          30,
          35,
          35,
          35,
          35,
          35,
          25,
          25,
          25,
          25,
          25,
          30,
          30,
          30,
          30,
          30,
          35,
          35,
          35,
          35,
          35,
          25,
          25,
          25,
          25,
          25,
          30,
          30,
          30,
          30,
          30,
          35,
          35,
          35,
          35,
          35
         ],
         "yaxis": "y"
        },
        {
         "hovertemplate": "Crop=Rice<br>Rainfall=%{x}<br>Temperature=%{y}<extra></extra>",
         "legendgroup": "Rice",
         "marker": {
          "color": "#ab63fa",
          "symbol": "x"
         },
         "mode": "markers",
         "name": "Rice",
         "showlegend": true,
         "type": "scattergl",
         "x": [
          700,
          700,
          700,
          800,
          800,
          800,
          900,
          900,
          900,
          1000,
          1000,
          1000,
          700,
          700,
          700,
          800,
          800,
          800,
          900,
          900,
          900,
          1000,
          1000,
          1000,
          700,
          700,
          700,
          800,
          800,
          800,
          900,
          900,
          900,
          1000,
          1000,
          1000,
          700,
          700,
          700,
          1000,
          1000,
          1000,
          1000,
          1000,
          1000,
          1000,
          1000,
          1000,
          1100,
          1100,
          1100,
          1100,
          1100,
          1100,
          1100,
          1100,
          1100,
          1200,
          1200,
          1200,
          1200,
          1200,
          1200,
          1200,
          1200,
          1200,
          1300,
          1300,
          1300,
          1300,
          1300,
          1300,
          1300,
          1300,
          1300,
          1400,
          1400,
          1400,
          1400,
          1400,
          1400,
          1400,
          1400,
          1400,
          1500,
          1500,
          1500,
          1500,
          1500,
          1500,
          1500,
          1500,
          1500,
          1000,
          1000,
          1000,
          1000,
          1000,
          1000,
          1000,
          1000,
          1000,
          1100,
          1100,
          1100,
          1100,
          1100,
          1100,
          1100,
          1100,
          1100,
          1200,
          1200,
          1200,
          1200,
          1200,
          1200,
          1200,
          1200,
          1200,
          1300,
          1300,
          1300,
          1300,
          1300,
          1300,
          1300,
          1300,
          1300,
          1400,
          1400,
          1400,
          1400,
          1400,
          1400,
          1400,
          1400,
          1400,
          1500,
          1500,
          1500,
          1500,
          1500,
          1500,
          1500,
          1500,
          1500,
          1000,
          1000,
          1000,
          1000,
          1000,
          1000,
          1000,
          1000,
          1000,
          1100,
          1100,
          1100,
          1100,
          1100,
          1100,
          1100,
          1100,
          1100,
          1200,
          1200,
          1200,
          1200,
          1200,
          1200,
          1200,
          1200,
          1200,
          1300,
          1300,
          1300,
          1300,
          1300,
          1300,
          1300,
          1300,
          1300,
          1400,
          1400,
          1400,
          1400,
          1400,
          1400,
          1400,
          1400,
          1400,
          1500,
          1500,
          1500,
          1500,
          1500,
          1500,
          1500,
          1500,
          1500,
          1000,
          1000,
          1000,
          1000,
          1000,
          1000,
          1000,
          1000,
          1000,
          1100,
          1100,
          1100,
          1100,
          1100,
          1100,
          1100,
          1100,
          1100,
          1200,
          1200,
          1200,
          1200,
          1200,
          1200,
          1200,
          1200,
          1200,
          1300,
          1300,
          1300,
          1300,
          1300,
          1300,
          1300,
          1300,
          1300,
          1400,
          1400,
          1400,
          1400,
          1400,
          1400,
          1400,
          1400,
          1400,
          1500,
          1500,
          1500,
          1500,
          1500,
          1500,
          1500,
          1500,
          1500,
          1000,
          1000,
          1000,
          1000,
          1000,
          1000,
          1000,
          1000,
          1000,
          700,
          700,
          700,
          700,
          700,
          800,
          800,
          800,
          800,
          800,
          900,
          900,
          900,
          900,
          900,
          700,
          700,
          700,
          700,
          700,
          800,
          800,
          800,
          800,
          800,
          900,
          900,
          900,
          900,
          900,
          700,
          700,
          700,
          700,
          700,
          800,
          800,
          800,
          800,
          800,
          900,
          900,
          900,
          900,
          900
         ],
         "xaxis": "x",
         "y": [
          25,
          25,
          25,
          30,
          30,
          30,
          25,
          25,
          25,
          30,
          30,
          30,
          25,
          25,
          25,
          30,
          30,
          30,
          25,
          25,
          25,
          30,
          30,
          30,
          25,
          25,
          25,
          30,
          30,
          30,
          25,
          25,
          25,
          30,
          30,
          30,
          25,
          25,
          25,
          25,
          25,
          25,
          25,
          25,
          25,
          25,
          25,
          25,
          30,
          30,
          30,
          30,
          30,
          30,
          30,
          30,
          30,
          35,
          35,
          35,
          35,
          35,
          35,
          35,
          35,
          35,
          25,
          25,
          25,
          25,
          25,
          25,
          25,
          25,
          25,
          30,
          30,
          30,
          30,
          30,
          30,
          30,
          30,
          30,
          35,
          35,
          35,
          35,
          35,
          35,
          35,
          35,
          35,
          25,
          25,
          25,
          25,
          25,
          25,
          25,
          25,
          25,
          30,
          30,
          30,
          30,
          30,
          30,
          30,
          30,
          30,
          35,
          35,
          35,
          35,
          35,
          35,
          35,
          35,
          35,
          25,
          25,
          25,
          25,
          25,
          25,
          25,
          25,
          25,
          30,
          30,
          30,
          30,
          30,
          30,
          30,
          30,
          30,
          35,
          35,
          35,
          35,
          35,
          35,
          35,
          35,
          35,
          25,
          25,
          25,
          25,
          25,
          25,
          25,
          25,
          25,
          30,
          30,
          30,
          30,
          30,
          30,
          30,
          30,
          30,
          35,
          35,
          35,
          35,
          35,
          35,
          35,
          35,
          35,
          25,
          25,
          25,
          25,
          25,
          25,
          25,
          25,
          25,
          30,
          30,
          30,
          30,
          30,
          30,
          30,
          30,
          30,
          35,
          35,
          35,
          35,
          35,
          35,
          35,
          35,
          35,
          25,
          25,
          25,
          25,
          25,
          25,
          25,
          25,
          25,
          30,
          30,
          30,
          30,
          30,
          30,
          30,
          30,
          30,
          35,
          35,
          35,
          35,
          35,
          35,
          35,
          35,
          35,
          25,
          25,
          25,
          25,
          25,
          25,
          25,
          25,
          25,
          30,
          30,
          30,
          30,
          30,
          30,
          30,
          30,
          30,
          35,
          35,
          35,
          35,
          35,
          35,
          35,
          35,
          35,
          20,
          20,
          20,
          20,
          20,
          20,
          20,
          20,
          20,
          35,
          35,
          35,
          35,
          35,
          40,
          40,
          40,
          40,
          40,
          35,
          35,
          35,
          35,
          35,
          40,
          40,
          40,
          40,
          40,
          35,
          35,
          35,
          35,
          35,
          40,
          40,
          40,
          40,
          40,
          35,
          35,
          35,
          35,
          35,
          40,
          40,
          40,
          40,
          40,
          35,
          35,
          35,
          35,
          35
         ],
         "yaxis": "y"
        },
        {
         "hovertemplate": "Crop=Wheat<br>Rainfall=%{x}<br>Temperature=%{y}<extra></extra>",
         "legendgroup": "Wheat",
         "marker": {
          "color": "#FFA15A",
          "symbol": "cross"
         },
         "mode": "markers",
         "name": "Wheat",
         "showlegend": true,
         "type": "scattergl",
         "x": [
          500,
          500,
          500,
          500,
          500,
          600,
          600,
          600,
          600,
          600,
          700,
          700,
          700,
          700,
          700,
          800,
          800,
          800,
          800,
          800,
          900,
          900,
          900,
          900,
          900,
          1000,
          1000,
          1000,
          1000,
          1000,
          500,
          500,
          500,
          500,
          500,
          600,
          600,
          600,
          600,
          600,
          700,
          700,
          700,
          700,
          700,
          800,
          800,
          800,
          800,
          800,
          900,
          900,
          900,
          900,
          900,
          1000,
          1000,
          1000,
          1000,
          1000,
          500,
          500,
          500,
          500,
          500,
          600,
          600,
          600,
          600,
          600,
          700,
          700,
          700,
          700,
          700,
          800,
          800,
          800,
          800,
          800,
          900,
          900,
          900,
          900,
          900,
          1000,
          1000,
          1000,
          1000,
          1000,
          500,
          500,
          500,
          500,
          500,
          600,
          600,
          600,
          600,
          600,
          700,
          700,
          700,
          700,
          700,
          800,
          800,
          800,
          800,
          800,
          900,
          900,
          900,
          900,
          900,
          1000,
          1000,
          1000,
          1000,
          1000,
          500,
          500,
          500,
          500,
          500,
          500,
          500,
          500,
          500,
          500,
          600,
          600,
          600,
          600,
          600,
          700,
          700,
          700,
          700,
          700,
          800,
          800,
          800,
          800,
          800,
          900,
          900,
          900,
          900,
          900,
          1000,
          1000,
          1000,
          1000,
          1000,
          500,
          500,
          500,
          500,
          500,
          600,
          600,
          600,
          600,
          600,
          700,
          700,
          700,
          700,
          700,
          800,
          800,
          800,
          800,
          800,
          900,
          900,
          900,
          900,
          900,
          1000,
          1000,
          1000,
          1000,
          1000,
          500,
          500,
          500,
          500,
          500,
          600,
          600,
          600,
          600,
          600,
          700,
          700,
          700,
          700,
          700,
          800,
          800,
          800,
          800,
          800,
          900,
          900,
          900,
          900,
          900,
          1000,
          1000,
          1000,
          1000,
          1000,
          500,
          500,
          500,
          500,
          500,
          600,
          600,
          600,
          600,
          600,
          700,
          700,
          700,
          700,
          700,
          800,
          800,
          800,
          800,
          800,
          900,
          900,
          900,
          900,
          900,
          1000,
          1000,
          1000,
          1000,
          1000,
          500,
          500,
          500,
          500,
          500,
          500,
          500,
          500,
          500,
          500,
          500,
          500,
          500,
          500,
          600,
          600,
          600,
          600,
          600,
          600,
          600,
          600,
          600,
          700,
          700,
          700,
          700,
          700,
          700,
          700,
          700,
          700,
          800,
          800,
          800,
          800,
          800,
          800,
          800,
          800,
          800,
          900,
          900,
          900,
          900,
          900,
          900,
          900,
          900,
          900,
          1000,
          1000,
          1000,
          1000,
          1000,
          1000,
          1000,
          1000,
          1000,
          500,
          500,
          500,
          500,
          500,
          500,
          500,
          500,
          500,
          600,
          600,
          600,
          600,
          600,
          600,
          600,
          600,
          600,
          700,
          700,
          700,
          700,
          700,
          700,
          700,
          700,
          700,
          800,
          800,
          800,
          800,
          800,
          800,
          800,
          800,
          800,
          900,
          900,
          900,
          900,
          900,
          900,
          900,
          900,
          900,
          1000,
          1000,
          1000,
          1000,
          1000,
          1000,
          1000,
          1000,
          1000,
          500,
          500,
          500,
          500,
          500,
          500,
          500,
          500,
          500,
          600,
          600,
          600,
          600,
          600,
          600,
          600,
          600,
          600,
          700,
          700,
          700,
          700,
          700,
          700,
          700,
          700,
          700,
          800,
          800,
          800,
          800,
          800,
          800,
          800,
          800,
          800,
          900,
          900,
          900,
          900,
          900,
          900,
          900,
          900,
          900,
          1000,
          1000,
          1000,
          1000,
          1000,
          1000,
          1000,
          1000,
          1000,
          500,
          500,
          500,
          500,
          500,
          500,
          500,
          500,
          500,
          600,
          600,
          600,
          600,
          600,
          600,
          600,
          600,
          600,
          700,
          700,
          700,
          700,
          700,
          700,
          700,
          700,
          700,
          500,
          500,
          500,
          500,
          500,
          600,
          600,
          600,
          600,
          600,
          500,
          500,
          500,
          500,
          500,
          600,
          600,
          600,
          600,
          600,
          500,
          500,
          500,
          500,
          500,
          600,
          600,
          600,
          600,
          600,
          500,
          500,
          500,
          500,
          500,
          600,
          600,
          600,
          600,
          600,
          500,
          500,
          500,
          500,
          500,
          600,
          600,
          600,
          600,
          600,
          500,
          500,
          500,
          500,
          500,
          600,
          600,
          600,
          600,
          600,
          500,
          500,
          500,
          500,
          500,
          600,
          600,
          600,
          600,
          600,
          500,
          500,
          500,
          500,
          500,
          600,
          600,
          600,
          600,
          600,
          500,
          500,
          500,
          500,
          500,
          600,
          600,
          600,
          600,
          600,
          500,
          500,
          500,
          500,
          500,
          600,
          600,
          600,
          600,
          600,
          500,
          500,
          500,
          500,
          500,
          600,
          600,
          600,
          600,
          600,
          500,
          500,
          500,
          500,
          500,
          600,
          600,
          600,
          600,
          600,
          500,
          500,
          500,
          500,
          500,
          500,
          500,
          500,
          500,
          500,
          600,
          600,
          600,
          600,
          600,
          700,
          700,
          700,
          700,
          700,
          500,
          500,
          500,
          500,
          500,
          600,
          600,
          600,
          600,
          600,
          700,
          700,
          700,
          700,
          700,
          500,
          500,
          500,
          500,
          500,
          600,
          600,
          600,
          600,
          600,
          700,
          700,
          700,
          700,
          700,
          500,
          500,
          500,
          500,
          500,
          600,
          600,
          600,
          600,
          600,
          700,
          700,
          700,
          700,
          700,
          500,
          500,
          500,
          500,
          500,
          600,
          600,
          600,
          600,
          600,
          700,
          700,
          700,
          700,
          700,
          500,
          500,
          500,
          500,
          500,
          600,
          600,
          600,
          600,
          600,
          700,
          700,
          700,
          700,
          700,
          500,
          500,
          500,
          500,
          500,
          600,
          600,
          600,
          600,
          600,
          700,
          700,
          700,
          700,
          700,
          500,
          500,
          500,
          500,
          500,
          600,
          600,
          600,
          600,
          600,
          700,
          700,
          700,
          700,
          700,
          500,
          500,
          500,
          500,
          500,
          800,
          800,
          800,
          800,
          800,
          900,
          900,
          900,
          900,
          900,
          800,
          800,
          800,
          800,
          800,
          900,
          900,
          900,
          900,
          900,
          800,
          800,
          800,
          800,
          800,
          900,
          900,
          900,
          900,
          900,
          800,
          800,
          800,
          800,
          800,
          900,
          900,
          900,
          900,
          900,
          800,
          800,
          800,
          800,
          800,
          900,
          900,
          900,
          900,
          900,
          800,
          800,
          800,
          800,
          800,
          900,
          900,
          900,
          900,
          900,
          800,
          800,
          800,
          800,
          800,
          900,
          900,
          900,
          900,
          900,
          800,
          800,
          800,
          800,
          800,
          900,
          900,
          900,
          900,
          900,
          800,
          800,
          800,
          800,
          800,
          900,
          900,
          900,
          900,
          900,
          800,
          800,
          800,
          800,
          800,
          900,
          900,
          900,
          900,
          900,
          800,
          800,
          800,
          800,
          800,
          900,
          900,
          900,
          900,
          900,
          800,
          800,
          800,
          800,
          800,
          900,
          900,
          900,
          900,
          900,
          800,
          800,
          800,
          800,
          800,
          700,
          700,
          700,
          700,
          700,
          800,
          800,
          800,
          800,
          800,
          900,
          900,
          900,
          900,
          900,
          700,
          700,
          700,
          700,
          700,
          800,
          800,
          800,
          800,
          800,
          900,
          900,
          900,
          900,
          900,
          700,
          700,
          700,
          700,
          700,
          800,
          800,
          800,
          800,
          800,
          900,
          900,
          900,
          900,
          900
         ],
         "xaxis": "x",
         "y": [
          15,
          15,
          15,
          15,
          15,
          20,
          20,
          20,
          20,
          20,
          25,
          25,
          25,
          25,
          25,
          15,
          15,
          15,
          15,
          15,
          20,
          20,
          20,
          20,
          20,
          25,
          25,
          25,
          25,
          25,
          15,
          15,
          15,
          15,
          15,
          20,
          20,
          20,
          20,
          20,
          25,
          25,
          25,
          25,
          25,
          15,
          15,
          15,
          15,
          15,
          20,
          20,
          20,
          20,
          20,
          25,
          25,
          25,
          25,
          25,
          15,
          15,
          15,
          15,
          15,
          20,
          20,
          20,
          20,
          20,
          25,
          25,
          25,
          25,
          25,
          15,
          15,
          15,
          15,
          15,
          20,
          20,
          20,
          20,
          20,
          25,
          25,
          25,
          25,
          25,
          15,
          15,
          15,
          15,
          15,
          20,
          20,
          20,
          20,
          20,
          25,
          25,
          25,
          25,
          25,
          15,
          15,
          15,
          15,
          15,
          20,
          20,
          20,
          20,
          20,
          25,
          25,
          25,
          25,
          25,
          15,
          15,
          15,
          15,
          15,
          15,
          15,
          15,
          15,
          15,
          20,
          20,
          20,
          20,
          20,
          25,
          25,
          25,
          25,
          25,
          15,
          15,
          15,
          15,
          15,
          20,
          20,
          20,
          20,
          20,
          25,
          25,
          25,
          25,
          25,
          15,
          15,
          15,
          15,
          15,
          20,
          20,
          20,
          20,
          20,
          25,
          25,
          25,
          25,
          25,
          15,
          15,
          15,
          15,
          15,
          20,
          20,
          20,
          20,
          20,
          25,
          25,
          25,
          25,
          25,
          15,
          15,
          15,
          15,
          15,
          20,
          20,
          20,
          20,
          20,
          25,
          25,
          25,
          25,
          25,
          15,
          15,
          15,
          15,
          15,
          20,
          20,
          20,
          20,
          20,
          25,
          25,
          25,
          25,
          25,
          15,
          15,
          15,
          15,
          15,
          20,
          20,
          20,
          20,
          20,
          25,
          25,
          25,
          25,
          25,
          15,
          15,
          15,
          15,
          15,
          20,
          20,
          20,
          20,
          20,
          25,
          25,
          25,
          25,
          25,
          15,
          15,
          15,
          15,
          15,
          15,
          15,
          15,
          15,
          15,
          15,
          15,
          15,
          15,
          20,
          20,
          20,
          20,
          20,
          20,
          20,
          20,
          20,
          25,
          25,
          25,
          25,
          25,
          25,
          25,
          25,
          25,
          15,
          15,
          15,
          15,
          15,
          15,
          15,
          15,
          15,
          20,
          20,
          20,
          20,
          20,
          20,
          20,
          20,
          20,
          25,
          25,
          25,
          25,
          25,
          25,
          25,
          25,
          25,
          15,
          15,
          15,
          15,
          15,
          15,
          15,
          15,
          15,
          20,
          20,
          20,
          20,
          20,
          20,
          20,
          20,
          20,
          25,
          25,
          25,
          25,
          25,
          25,
          25,
          25,
          25,
          15,
          15,
          15,
          15,
          15,
          15,
          15,
          15,
          15,
          20,
          20,
          20,
          20,
          20,
          20,
          20,
          20,
          20,
          25,
          25,
          25,
          25,
          25,
          25,
          25,
          25,
          25,
          15,
          15,
          15,
          15,
          15,
          15,
          15,
          15,
          15,
          20,
          20,
          20,
          20,
          20,
          20,
          20,
          20,
          20,
          25,
          25,
          25,
          25,
          25,
          25,
          25,
          25,
          25,
          15,
          15,
          15,
          15,
          15,
          15,
          15,
          15,
          15,
          20,
          20,
          20,
          20,
          20,
          20,
          20,
          20,
          20,
          25,
          25,
          25,
          25,
          25,
          25,
          25,
          25,
          25,
          15,
          15,
          15,
          15,
          15,
          15,
          15,
          15,
          15,
          20,
          20,
          20,
          20,
          20,
          20,
          20,
          20,
          20,
          25,
          25,
          25,
          25,
          25,
          25,
          25,
          25,
          25,
          15,
          15,
          15,
          15,
          15,
          20,
          20,
          20,
          20,
          20,
          25,
          25,
          25,
          25,
          25,
          30,
          30,
          30,
          30,
          30,
          15,
          15,
          15,
          15,
          15,
          20,
          20,
          20,
          20,
          20,
          25,
          25,
          25,
          25,
          25,
          30,
          30,
          30,
          30,
          30,
          15,
          15,
          15,
          15,
          15,
          20,
          20,
          20,
          20,
          20,
          25,
          25,
          25,
          25,
          25,
          30,
          30,
          30,
          30,
          30,
          15,
          15,
          15,
          15,
          15,
          20,
          20,
          20,
          20,
          20,
          25,
          25,
          25,
          25,
          25,
          30,
          30,
          30,
          30,
          30,
          15,
          15,
          15,
          15,
          15,
          20,
          20,
          20,
          20,
          20,
          25,
          25,
          25,
          25,
          25,
          30,
          30,
          30,
          30,
          30,
          15,
          15,
          15,
          15,
          15,
          20,
          20,
          20,
          20,
          20,
          25,
          25,
          25,
          25,
          25,
          30,
          30,
          30,
          30,
          30,
          15,
          15,
          15,
          15,
          15,
          15,
          15,
          15,
          15,
          15,
          20,
          20,
          20,
          20,
          20,
          25,
          25,
          25,
          25,
          25,
          15,
          15,
          15,
          15,
          15,
          20,
          20,
          20,
          20,
          20,
          25,
          25,
          25,
          25,
          25,
          15,
          15,
          15,
          15,
          15,
          20,
          20,
          20,
          20,
          20,
          25,
          25,
          25,
          25,
          25,
          15,
          15,
          15,
          15,
          15,
          20,
          20,
          20,
          20,
          20,
          25,
          25,
          25,
          25,
          25,
          15,
          15,
          15,
          15,
          15,
          20,
          20,
          20,
          20,
          20,
          25,
          25,
          25,
          25,
          25,
          15,
          15,
          15,
          15,
          15,
          20,
          20,
          20,
          20,
          20,
          25,
          25,
          25,
          25,
          25,
          15,
          15,
          15,
          15,
          15,
          20,
          20,
          20,
          20,
          20,
          25,
          25,
          25,
          25,
          25,
          15,
          15,
          15,
          15,
          15,
          20,
          20,
          20,
          20,
          20,
          25,
          25,
          25,
          25,
          25,
          15,
          15,
          15,
          15,
          15,
          15,
          15,
          15,
          15,
          15,
          20,
          20,
          20,
          20,
          20,
          25,
          25,
          25,
          25,
          25,
          15,
          15,
          15,
          15,
          15,
          20,
          20,
          20,
          20,
          20,
          25,
          25,
          25,
          25,
          25,
          15,
          15,
          15,
          15,
          15,
          20,
          20,
          20,
          20,
          20,
          25,
          25,
          25,
          25,
          25,
          15,
          15,
          15,
          15,
          15,
          15,
          15,
          15,
          15,
          15,
          20,
          20,
          20,
          20,
          20,
          25,
          25,
          25,
          25,
          25,
          15,
          15,
          15,
          15,
          15,
          20,
          20,
          20,
          20,
          20,
          25,
          25,
          25,
          25,
          25,
          15,
          15,
          15,
          15,
          15,
          20,
          20,
          20,
          20,
          20,
          25,
          25,
          25,
          25,
          25,
          15,
          15,
          15,
          15,
          15,
          15,
          15,
          15,
          15,
          15,
          20,
          20,
          20,
          20,
          20,
          25,
          25,
          25,
          25,
          25,
          15,
          15,
          15,
          15,
          15,
          20,
          20,
          20,
          20,
          20,
          15,
          15,
          15,
          15,
          15,
          20,
          20,
          20,
          20,
          20,
          15,
          15,
          15,
          15,
          15,
          20,
          20,
          20,
          20,
          20,
          15,
          15,
          15,
          15,
          15,
          20,
          20,
          20,
          20,
          20,
          15,
          15,
          15,
          15,
          15,
          20,
          20,
          20,
          20,
          20,
          15,
          15,
          15,
          15,
          15
         ],
         "yaxis": "y"
        },
        {
         "hovertemplate": "Crop=Groundnut<br>Rainfall=%{x}<br>Temperature=%{y}<extra></extra>",
         "legendgroup": "Groundnut",
         "marker": {
          "color": "#19d3f3",
          "symbol": "circle"
         },
         "mode": "markers",
         "name": "Groundnut",
         "showlegend": true,
         "type": "scattergl",
         "x": [
          500,
          500,
          500,
          600,
          600,
          600,
          500,
          500,
          500,
          600,
          600,
          600,
          500,
          500,
          500,
          600,
          600,
          600,
          500,
          500,
          500,
          600,
          600,
          600,
          500,
          500,
          500,
          600,
          600,
          600,
          500,
          500,
          500,
          600,
          600,
          600,
          500,
          500,
          500,
          600,
          600,
          600,
          500,
          500,
          500,
          600,
          600,
          600,
          600,
          600,
          600,
          700,
          700,
          700,
          800,
          800,
          800,
          600,
          600,
          600,
          700,
          700,
          700,
          800,
          800,
          800,
          600,
          600,
          600,
          700,
          700,
          700,
          800,
          800,
          800,
          600,
          600,
          600,
          700,
          700,
          700,
          800,
          800,
          800,
          600,
          600,
          600,
          700,
          700,
          700,
          800,
          800,
          800,
          600,
          600,
          600,
          700,
          700,
          700,
          800,
          800,
          800,
          600,
          600,
          600,
          700,
          700,
          700,
          800,
          800,
          800,
          600,
          600,
          600,
          700,
          700,
          700,
          800,
          800,
          800,
          600,
          600,
          600,
          800,
          800,
          800,
          900,
          900,
          900,
          800,
          800,
          800,
          900,
          900,
          900,
          800,
          800,
          800,
          900,
          900,
          900,
          800,
          800,
          800,
          900,
          900,
          900,
          800,
          800,
          800,
          700,
          700,
          700,
          800,
          800,
          800,
          900,
          900,
          900,
          700,
          700,
          700,
          800,
          800,
          800,
          900,
          900,
          900,
          700,
          700,
          700,
          800,
          800,
          800,
          900,
          900,
          900
         ],
         "xaxis": "x",
         "y": [
          25,
          25,
          25,
          30,
          30,
          30,
          25,
          25,
          25,
          30,
          30,
          30,
          25,
          25,
          25,
          30,
          30,
          30,
          25,
          25,
          25,
          30,
          30,
          30,
          25,
          25,
          25,
          30,
          30,
          30,
          25,
          25,
          25,
          30,
          30,
          30,
          25,
          25,
          25,
          30,
          30,
          30,
          25,
          25,
          25,
          30,
          30,
          30,
          25,
          25,
          25,
          30,
          30,
          30,
          25,
          25,
          25,
          30,
          30,
          30,
          25,
          25,
          25,
          30,
          30,
          30,
          25,
          25,
          25,
          30,
          30,
          30,
          25,
          25,
          25,
          30,
          30,
          30,
          25,
          25,
          25,
          30,
          30,
          30,
          25,
          25,
          25,
          30,
          30,
          30,
          25,
          25,
          25,
          30,
          30,
          30,
          25,
          25,
          25,
          30,
          30,
          30,
          25,
          25,
          25,
          30,
          30,
          30,
          25,
          25,
          25,
          30,
          30,
          30,
          25,
          25,
          25,
          30,
          30,
          30,
          20,
          20,
          20,
          25,
          25,
          25,
          30,
          30,
          30,
          25,
          25,
          25,
          30,
          30,
          30,
          25,
          25,
          25,
          30,
          30,
          30,
          25,
          25,
          25,
          30,
          30,
          30,
          25,
          25,
          25,
          25,
          25,
          25,
          30,
          30,
          30,
          35,
          35,
          35,
          25,
          25,
          25,
          30,
          30,
          30,
          35,
          35,
          35,
          25,
          25,
          25,
          30,
          30,
          30,
          35,
          35,
          35
         ],
         "yaxis": "y"
        },
        {
         "hovertemplate": "Crop=Maize<br>Rainfall=%{x}<br>Temperature=%{y}<extra></extra>",
         "legendgroup": "Maize",
         "marker": {
          "color": "#FF6692",
          "symbol": "diamond"
         },
         "mode": "markers",
         "name": "Maize",
         "showlegend": true,
         "type": "scattergl",
         "x": [
          500,
          500,
          500,
          500,
          500,
          500,
          500,
          600,
          600,
          600,
          600,
          600,
          600,
          600,
          700,
          700,
          700,
          700,
          700,
          700,
          700,
          500,
          500,
          500,
          500,
          500,
          500,
          500,
          600,
          600,
          600,
          600,
          600,
          600,
          600,
          700,
          700,
          700,
          700,
          700,
          700,
          700,
          500,
          500,
          500,
          500,
          500,
          500,
          500,
          600,
          600,
          600,
          600,
          600,
          600,
          600,
          700,
          700,
          700,
          700,
          700,
          700,
          700,
          500,
          500,
          500,
          500,
          500,
          500,
          500,
          600,
          600,
          600,
          600,
          600,
          600,
          600,
          700,
          700,
          700,
          700,
          700,
          700,
          700,
          500,
          500,
          500,
          500,
          500,
          500,
          500,
          600,
          600,
          600,
          600,
          600,
          600,
          600,
          700,
          700,
          700,
          700,
          700,
          700,
          700,
          500,
          500,
          500,
          500,
          500,
          500,
          500,
          600,
          600,
          600,
          600,
          600,
          600,
          600,
          700,
          700,
          700,
          700,
          700,
          700,
          700,
          500,
          500,
          500,
          500,
          500,
          500,
          500,
          600,
          600,
          600,
          600,
          600,
          600,
          600,
          700,
          700,
          700,
          700,
          700,
          700,
          700,
          500,
          500,
          500,
          500,
          500,
          500,
          500,
          600,
          600,
          600,
          600,
          600,
          600,
          600,
          700,
          700,
          700,
          700,
          700,
          700,
          700,
          500,
          500,
          500,
          500,
          500,
          500,
          500,
          500,
          500,
          500,
          500,
          500,
          500,
          500,
          600,
          600,
          600,
          600,
          600,
          600,
          600,
          500,
          500,
          500,
          500,
          500,
          500,
          500,
          600,
          600,
          600,
          600,
          600,
          600,
          600,
          500,
          500,
          500,
          500,
          500,
          500,
          500,
          600,
          600,
          600,
          600,
          600,
          600,
          600,
          500,
          500,
          500,
          500,
          500,
          500,
          500,
          600,
          600,
          600,
          600,
          600,
          600,
          600,
          500,
          500,
          500,
          500,
          500,
          500,
          500,
          600,
          600,
          600,
          600,
          600,
          600,
          600,
          500,
          500,
          500,
          500,
          500,
          500,
          500,
          600,
          600,
          600,
          600,
          600,
          600,
          600,
          500,
          500,
          500,
          500,
          500,
          500,
          500,
          600,
          600,
          600,
          600,
          600,
          600,
          600,
          500,
          500,
          500,
          500,
          500,
          500,
          500,
          600,
          600,
          600,
          600,
          600,
          600,
          600,
          500,
          500,
          500,
          500,
          500,
          500,
          500,
          600,
          600,
          600,
          600,
          600,
          600,
          600,
          500,
          500,
          500,
          500,
          500,
          500,
          500,
          600,
          600,
          600,
          600,
          600,
          600,
          600,
          500,
          500,
          500,
          500,
          500,
          500,
          500,
          600,
          600,
          600,
          600,
          600,
          600,
          600,
          500,
          500,
          500,
          500,
          500,
          500,
          500,
          600,
          600,
          600,
          600,
          600,
          600,
          600,
          500,
          500,
          500,
          500,
          500,
          500,
          500
         ],
         "xaxis": "x",
         "y": [
          20,
          20,
          20,
          20,
          20,
          20,
          20,
          25,
          25,
          25,
          25,
          25,
          25,
          25,
          30,
          30,
          30,
          30,
          30,
          30,
          30,
          20,
          20,
          20,
          20,
          20,
          20,
          20,
          25,
          25,
          25,
          25,
          25,
          25,
          25,
          30,
          30,
          30,
          30,
          30,
          30,
          30,
          20,
          20,
          20,
          20,
          20,
          20,
          20,
          25,
          25,
          25,
          25,
          25,
          25,
          25,
          30,
          30,
          30,
          30,
          30,
          30,
          30,
          20,
          20,
          20,
          20,
          20,
          20,
          20,
          25,
          25,
          25,
          25,
          25,
          25,
          25,
          30,
          30,
          30,
          30,
          30,
          30,
          30,
          20,
          20,
          20,
          20,
          20,
          20,
          20,
          25,
          25,
          25,
          25,
          25,
          25,
          25,
          30,
          30,
          30,
          30,
          30,
          30,
          30,
          20,
          20,
          20,
          20,
          20,
          20,
          20,
          25,
          25,
          25,
          25,
          25,
          25,
          25,
          30,
          30,
          30,
          30,
          30,
          30,
          30,
          20,
          20,
          20,
          20,
          20,
          20,
          20,
          25,
          25,
          25,
          25,
          25,
          25,
          25,
          30,
          30,
          30,
          30,
          30,
          30,
          30,
          20,
          20,
          20,
          20,
          20,
          20,
          20,
          25,
          25,
          25,
          25,
          25,
          25,
          25,
          30,
          30,
          30,
          30,
          30,
          30,
          30,
          20,
          20,
          20,
          20,
          20,
          20,
          20,
          20,
          20,
          20,
          20,
          20,
          20,
          20,
          25,
          25,
          25,
          25,
          25,
          25,
          25,
          30,
          30,
          30,
          30,
          30,
          30,
          30,
          20,
          20,
          20,
          20,
          20,
          20,
          20,
          25,
          25,
          25,
          25,
          25,
          25,
          25,
          30,
          30,
          30,
          30,
          30,
          30,
          30,
          20,
          20,
          20,
          20,
          20,
          20,
          20,
          25,
          25,
          25,
          25,
          25,
          25,
          25,
          30,
          30,
          30,
          30,
          30,
          30,
          30,
          20,
          20,
          20,
          20,
          20,
          20,
          20,
          25,
          25,
          25,
          25,
          25,
          25,
          25,
          30,
          30,
          30,
          30,
          30,
          30,
          30,
          20,
          20,
          20,
          20,
          20,
          20,
          20,
          25,
          25,
          25,
          25,
          25,
          25,
          25,
          30,
          30,
          30,
          30,
          30,
          30,
          30,
          20,
          20,
          20,
          20,
          20,
          20,
          20,
          25,
          25,
          25,
          25,
          25,
          25,
          25,
          30,
          30,
          30,
          30,
          30,
          30,
          30,
          20,
          20,
          20,
          20,
          20,
          20,
          20,
          25,
          25,
          25,
          25,
          25,
          25,
          25,
          30,
          30,
          30,
          30,
          30,
          30,
          30,
          20,
          20,
          20,
          20,
          20,
          20,
          20,
          25,
          25,
          25,
          25,
          25,
          25,
          25,
          30,
          30,
          30,
          30,
          30,
          30,
          30,
          20,
          20,
          20,
          20,
          20,
          20,
          20
         ],
         "yaxis": "y"
        },
        {
         "hovertemplate": "Crop=Tur<br>Rainfall=%{x}<br>Temperature=%{y}<extra></extra>",
         "legendgroup": "Tur",
         "marker": {
          "color": "#B6E880",
          "symbol": "square"
         },
         "mode": "markers",
         "name": "Tur",
         "showlegend": true,
         "type": "scattergl",
         "x": [
          300,
          300,
          300,
          400,
          400,
          400,
          300,
          300,
          300,
          400,
          400,
          400,
          300,
          300,
          300,
          400,
          400,
          400,
          300,
          300,
          300,
          400,
          400,
          400,
          300,
          300,
          300,
          500,
          500,
          500,
          600,
          600,
          600,
          500,
          500,
          500,
          600,
          600,
          600,
          500,
          500,
          500,
          600,
          600,
          600,
          600,
          600,
          600,
          700,
          700,
          700,
          600,
          600,
          600,
          700,
          700,
          700,
          600,
          600,
          600,
          700,
          700,
          700,
          600,
          600,
          600,
          700,
          700,
          700,
          800,
          800,
          800,
          600,
          600,
          600,
          700,
          700,
          700,
          800,
          800,
          800,
          600,
          600,
          600,
          700,
          700,
          700,
          800,
          800,
          800,
          600,
          600,
          600,
          700,
          700,
          700,
          800,
          800,
          800,
          600,
          600,
          600,
          700,
          700,
          700,
          800,
          800,
          800,
          700,
          700,
          700,
          800,
          800,
          800,
          900,
          900,
          900,
          700,
          700,
          700,
          800,
          800,
          800,
          900,
          900,
          900
         ],
         "xaxis": "x",
         "y": [
          20,
          20,
          20,
          25,
          25,
          25,
          30,
          30,
          30,
          20,
          20,
          20,
          25,
          25,
          25,
          30,
          30,
          30,
          20,
          20,
          20,
          25,
          25,
          25,
          30,
          30,
          30,
          25,
          25,
          25,
          30,
          30,
          30,
          35,
          35,
          35,
          25,
          25,
          25,
          30,
          30,
          30,
          35,
          35,
          35,
          25,
          25,
          25,
          30,
          30,
          30,
          35,
          35,
          35,
          25,
          25,
          25,
          30,
          30,
          30,
          35,
          35,
          35,
          25,
          25,
          25,
          30,
          30,
          30,
          35,
          35,
          35,
          25,
          25,
          25,
          30,
          30,
          30,
          35,
          35,
          35,
          25,
          25,
          25,
          30,
          30,
          30,
          35,
          35,
          35,
          25,
          25,
          25,
          30,
          30,
          30,
          35,
          35,
          35,
          25,
          25,
          25,
          30,
          30,
          30,
          35,
          35,
          35,
          20,
          20,
          20,
          25,
          25,
          25,
          30,
          30,
          30,
          20,
          20,
          20,
          25,
          25,
          25,
          30,
          30,
          30
         ],
         "yaxis": "y"
        },
        {
         "hovertemplate": "Crop=Urad<br>Rainfall=%{x}<br>Temperature=%{y}<extra></extra>",
         "legendgroup": "Urad",
         "marker": {
          "color": "#FF97FF",
          "symbol": "x"
         },
         "mode": "markers",
         "name": "Urad",
         "showlegend": true,
         "type": "scattergl",
         "x": [
          800,
          800,
          800,
          900,
          900,
          900,
          1000,
          1000,
          1000,
          800,
          800,
          800,
          900,
          900,
          900,
          1000,
          1000,
          1000,
          800,
          800,
          800,
          900,
          900,
          900,
          1000,
          1000,
          1000,
          400,
          400,
          400,
          400,
          400,
          500,
          500,
          500,
          500,
          500,
          600,
          600,
          600,
          600,
          600,
          400,
          400,
          400,
          400,
          400,
          500,
          500,
          500,
          500,
          500,
          600,
          600,
          600,
          600,
          600,
          400,
          400,
          400,
          400,
          400,
          500,
          500,
          500,
          500,
          500,
          600,
          600,
          600,
          600,
          600,
          700,
          700,
          700,
          800,
          800,
          800,
          900,
          900,
          900,
          700,
          700,
          700,
          800,
          800,
          800,
          900,
          900,
          900,
          700,
          700,
          700,
          800,
          800,
          800,
          900,
          900,
          900
         ],
         "xaxis": "x",
         "y": [
          20,
          20,
          20,
          25,
          25,
          25,
          20,
          20,
          20,
          25,
          25,
          25,
          20,
          20,
          20,
          25,
          25,
          25,
          20,
          20,
          20,
          25,
          25,
          25,
          20,
          20,
          20,
          25,
          25,
          25,
          25,
          25,
          30,
          30,
          30,
          30,
          30,
          25,
          25,
          25,
          25,
          25,
          30,
          30,
          30,
          30,
          30,
          25,
          25,
          25,
          25,
          25,
          30,
          30,
          30,
          30,
          30,
          25,
          25,
          25,
          25,
          25,
          30,
          30,
          30,
          30,
          30,
          25,
          25,
          25,
          25,
          25,
          25,
          25,
          25,
          30,
          30,
          30,
          35,
          35,
          35,
          25,
          25,
          25,
          30,
          30,
          30,
          35,
          35,
          35,
          25,
          25,
          25,
          30,
          30,
          30,
          35,
          35,
          35
         ],
         "yaxis": "y"
        },
        {
         "hovertemplate": "Crop=Moong<br>Rainfall=%{x}<br>Temperature=%{y}<extra></extra>",
         "legendgroup": "Moong",
         "marker": {
          "color": "#FECB52",
          "symbol": "cross"
         },
         "mode": "markers",
         "name": "Moong",
         "showlegend": true,
         "type": "scattergl",
         "x": [
          600,
          600,
          600,
          700,
          700,
          700,
          800,
          800,
          800,
          600,
          600,
          600,
          700,
          700,
          700,
          800,
          800,
          800,
          600,
          600,
          600,
          700,
          700,
          700,
          800,
          800,
          800,
          500,
          500,
          500,
          500,
          500,
          600,
          600,
          600,
          600,
          600,
          700,
          700,
          700,
          700,
          700,
          500,
          500,
          500,
          500,
          500,
          600,
          600,
          600,
          600,
          600,
          700,
          700,
          700,
          700,
          700,
          500,
          500,
          500,
          500,
          500,
          600,
          600,
          600,
          600,
          600,
          700,
          700,
          700,
          700,
          700,
          400,
          400,
          400,
          500,
          500,
          500,
          600,
          600,
          600,
          400,
          400,
          400,
          500,
          500,
          500,
          600,
          600,
          600,
          400,
          400,
          400,
          500,
          500,
          500,
          600,
          600,
          600
         ],
         "xaxis": "x",
         "y": [
          25,
          25,
          25,
          30,
          30,
          30,
          35,
          35,
          35,
          25,
          25,
          25,
          30,
          30,
          30,
          35,
          35,
          35,
          25,
          25,
          25,
          30,
          30,
          30,
          35,
          35,
          35,
          25,
          25,
          25,
          25,
          25,
          30,
          30,
          30,
          30,
          30,
          35,
          35,
          35,
          35,
          35,
          25,
          25,
          25,
          25,
          25,
          30,
          30,
          30,
          30,
          30,
          35,
          35,
          35,
          35,
          35,
          25,
          25,
          25,
          25,
          25,
          30,
          30,
          30,
          30,
          30,
          35,
          35,
          35,
          35,
          35,
          25,
          25,
          25,
          30,
          30,
          30,
          35,
          35,
          35,
          25,
          25,
          25,
          30,
          30,
          30,
          35,
          35,
          35,
          25,
          25,
          25,
          30,
          30,
          30,
          35,
          35,
          35
         ],
         "yaxis": "y"
        },
        {
         "hovertemplate": "Crop=Gram<br>Rainfall=%{x}<br>Temperature=%{y}<extra></extra>",
         "legendgroup": "Gram",
         "marker": {
          "color": "#636efa",
          "symbol": "circle"
         },
         "mode": "markers",
         "name": "Gram",
         "showlegend": true,
         "type": "scattergl",
         "x": [
          600,
          600,
          600,
          700,
          700,
          700,
          600,
          600,
          600,
          700,
          700,
          700,
          700,
          700,
          700,
          800,
          800,
          800,
          700,
          700,
          700,
          800,
          800,
          800,
          700,
          700,
          700,
          800,
          800,
          800,
          700,
          700,
          700,
          800,
          800,
          800,
          700,
          700,
          700,
          500,
          500,
          500,
          600,
          600,
          600,
          500,
          500,
          500,
          600,
          600,
          600,
          700,
          700,
          700,
          800,
          800,
          800,
          900,
          900,
          900,
          700,
          700,
          700,
          800,
          800,
          800,
          900,
          900,
          900,
          700,
          700,
          700,
          800,
          800,
          800,
          900,
          900,
          900
         ],
         "xaxis": "x",
         "y": [
          20,
          20,
          20,
          25,
          25,
          25,
          20,
          20,
          20,
          25,
          25,
          25,
          25,
          25,
          25,
          30,
          30,
          30,
          35,
          35,
          35,
          25,
          25,
          25,
          30,
          30,
          30,
          35,
          35,
          35,
          25,
          25,
          25,
          30,
          30,
          30,
          35,
          35,
          35,
          20,
          20,
          20,
          25,
          25,
          25,
          20,
          20,
          20,
          25,
          25,
          25,
          15,
          15,
          15,
          20,
          20,
          20,
          15,
          15,
          15,
          20,
          20,
          20,
          15,
          15,
          15,
          20,
          20,
          20,
          15,
          15,
          15,
          20,
          20,
          20,
          15,
          15,
          15
         ],
         "yaxis": "y"
        },
        {
         "hovertemplate": "Crop=Masoor<br>Rainfall=%{x}<br>Temperature=%{y}<extra></extra>",
         "legendgroup": "Masoor",
         "marker": {
          "color": "#EF553B",
          "symbol": "diamond"
         },
         "mode": "markers",
         "name": "Masoor",
         "showlegend": true,
         "type": "scattergl",
         "x": [
          600,
          600,
          600,
          700,
          700,
          700,
          600,
          600,
          600,
          700,
          700,
          700
         ],
         "xaxis": "x",
         "y": [
          20,
          20,
          20,
          25,
          25,
          25,
          20,
          20,
          20,
          25,
          25,
          25
         ],
         "yaxis": "y"
        },
        {
         "hovertemplate": "Crop=Ginger<br>Rainfall=%{x}<br>Temperature=%{y}<extra></extra>",
         "legendgroup": "Ginger",
         "marker": {
          "color": "#00cc96",
          "symbol": "square"
         },
         "mode": "markers",
         "name": "Ginger",
         "showlegend": true,
         "type": "scattergl",
         "x": [
          900,
          900,
          900,
          900,
          900,
          1000,
          1000,
          1000,
          1000,
          1000,
          900,
          900,
          900,
          900,
          900,
          1000,
          1000,
          1000,
          1000,
          1000,
          900,
          900,
          900,
          900,
          900,
          1000,
          1000,
          1000,
          1000,
          1000,
          900,
          900,
          900,
          900,
          900,
          1000,
          1000,
          1000,
          1000,
          1000,
          900,
          900,
          900,
          900,
          900,
          1000,
          1000,
          1000,
          1000,
          1000,
          900,
          900,
          900,
          900,
          900,
          1000,
          1000,
          1000,
          1000,
          1000,
          900,
          900,
          900,
          900,
          900,
          1000,
          1000,
          1000,
          1000,
          1000,
          900,
          900,
          900,
          900,
          900,
          1000,
          1000,
          1000,
          1000,
          1000,
          900,
          900,
          900,
          900,
          900,
          1000,
          1000,
          1000,
          1000,
          1000,
          900,
          900,
          900,
          900,
          900,
          1000,
          1000,
          1000,
          1000,
          1000,
          900,
          900,
          900,
          900,
          900,
          1000,
          1000,
          1000,
          1000,
          1000,
          900,
          900,
          900,
          900,
          900,
          1000,
          1000,
          1000,
          1000,
          1000,
          900,
          900,
          900,
          900,
          900
         ],
         "xaxis": "x",
         "y": [
          20,
          20,
          20,
          20,
          20,
          25,
          25,
          25,
          25,
          25,
          30,
          30,
          30,
          30,
          30,
          35,
          35,
          35,
          35,
          35,
          20,
          20,
          20,
          20,
          20,
          25,
          25,
          25,
          25,
          25,
          30,
          30,
          30,
          30,
          30,
          35,
          35,
          35,
          35,
          35,
          20,
          20,
          20,
          20,
          20,
          25,
          25,
          25,
          25,
          25,
          30,
          30,
          30,
          30,
          30,
          35,
          35,
          35,
          35,
          35,
          20,
          20,
          20,
          20,
          20,
          25,
          25,
          25,
          25,
          25,
          30,
          30,
          30,
          30,
          30,
          35,
          35,
          35,
          35,
          35,
          20,
          20,
          20,
          20,
          20,
          25,
          25,
          25,
          25,
          25,
          30,
          30,
          30,
          30,
          30,
          35,
          35,
          35,
          35,
          35,
          20,
          20,
          20,
          20,
          20,
          25,
          25,
          25,
          25,
          25,
          30,
          30,
          30,
          30,
          30,
          35,
          35,
          35,
          35,
          35,
          20,
          20,
          20,
          20,
          20
         ],
         "yaxis": "y"
        },
        {
         "hovertemplate": "Crop=Turmeric<br>Rainfall=%{x}<br>Temperature=%{y}<extra></extra>",
         "legendgroup": "Turmeric",
         "marker": {
          "color": "#ab63fa",
          "symbol": "x"
         },
         "mode": "markers",
         "name": "Turmeric",
         "showlegend": true,
         "type": "scattergl",
         "x": [
          900,
          900,
          900,
          1000,
          1000,
          1000,
          900,
          900,
          900,
          1000,
          1000,
          1000,
          900,
          900,
          900,
          1000,
          1000,
          1000,
          900,
          900,
          900,
          1000,
          1000,
          1000,
          900,
          900,
          900,
          1500,
          1500,
          1500,
          1600,
          1600,
          1600,
          1700,
          1700,
          1700,
          1500,
          1500,
          1500,
          1600,
          1600,
          1600,
          1700,
          1700,
          1700,
          1500,
          1500,
          1500,
          1500,
          1600,
          1600,
          1600,
          1700,
          1700,
          1700
         ],
         "xaxis": "x",
         "y": [
          20,
          20,
          20,
          25,
          25,
          25,
          30,
          30,
          30,
          20,
          20,
          20,
          25,
          25,
          25,
          30,
          30,
          30,
          20,
          20,
          20,
          25,
          25,
          25,
          30,
          30,
          30,
          20,
          20,
          20,
          25,
          25,
          25,
          30,
          30,
          30,
          20,
          20,
          20,
          25,
          25,
          25,
          30,
          30,
          30,
          20,
          20,
          20,
          20,
          25,
          25,
          25,
          30,
          30,
          30
         ],
         "yaxis": "y"
        },
        {
         "hovertemplate": "Crop=Grapes<br>Rainfall=%{x}<br>Temperature=%{y}<extra></extra>",
         "legendgroup": "Grapes",
         "marker": {
          "color": "#FFA15A",
          "symbol": "cross"
         },
         "mode": "markers",
         "name": "Grapes",
         "showlegend": true,
         "type": "scattergl",
         "x": [
          700,
          700,
          700,
          700,
          700,
          800,
          800,
          800,
          800,
          800,
          700,
          700,
          700,
          700,
          700,
          800,
          800,
          800,
          800,
          800,
          700,
          700,
          700,
          700,
          700,
          800,
          800,
          800,
          800,
          800,
          700,
          700,
          700,
          700,
          700,
          800,
          800,
          800,
          800,
          800,
          700,
          700,
          700,
          700,
          700,
          800,
          800,
          800,
          800,
          800,
          700,
          700,
          700,
          700,
          700,
          800,
          800,
          800,
          800,
          800,
          700,
          700,
          700,
          700,
          700,
          800,
          800,
          800,
          800,
          800,
          700,
          700,
          700,
          700,
          700,
          800,
          800,
          800,
          800,
          800,
          700,
          700,
          700,
          700,
          700,
          800,
          800,
          800,
          800,
          800,
          700,
          700,
          700,
          700,
          700,
          800,
          800,
          800,
          800,
          800,
          700,
          700,
          700,
          700,
          700,
          800,
          800,
          800,
          800,
          800,
          700,
          700,
          700,
          700,
          700,
          800,
          800,
          800,
          800,
          800,
          700,
          700,
          700,
          700,
          700
         ],
         "xaxis": "x",
         "y": [
          20,
          20,
          20,
          20,
          20,
          25,
          25,
          25,
          25,
          25,
          30,
          30,
          30,
          30,
          30,
          20,
          20,
          20,
          20,
          20,
          25,
          25,
          25,
          25,
          25,
          30,
          30,
          30,
          30,
          30,
          20,
          20,
          20,
          20,
          20,
          25,
          25,
          25,
          25,
          25,
          30,
          30,
          30,
          30,
          30,
          20,
          20,
          20,
          20,
          20,
          25,
          25,
          25,
          25,
          25,
          30,
          30,
          30,
          30,
          30,
          20,
          20,
          20,
          20,
          20,
          25,
          25,
          25,
          25,
          25,
          30,
          30,
          30,
          30,
          30,
          20,
          20,
          20,
          20,
          20,
          25,
          25,
          25,
          25,
          25,
          30,
          30,
          30,
          30,
          30,
          20,
          20,
          20,
          20,
          20,
          25,
          25,
          25,
          25,
          25,
          30,
          30,
          30,
          30,
          30,
          20,
          20,
          20,
          20,
          20,
          25,
          25,
          25,
          25,
          25,
          30,
          30,
          30,
          30,
          30,
          20,
          20,
          20,
          20,
          20
         ],
         "yaxis": "y"
        }
       ],
       "layout": {
        "legend": {
         "title": {
          "text": "Crop"
         },
         "tracegroupgap": 0
        },
        "margin": {
         "t": 60
        },
        "plot_bgcolor": "white",
        "template": {
         "data": {
          "bar": [
           {
            "error_x": {
             "color": "#2a3f5f"
            },
            "error_y": {
             "color": "#2a3f5f"
            },
            "marker": {
             "line": {
              "color": "#E5ECF6",
              "width": 0.5
             },
             "pattern": {
              "fillmode": "overlay",
              "size": 10,
              "solidity": 0.2
             }
            },
            "type": "bar"
           }
          ],
          "barpolar": [
           {
            "marker": {
             "line": {
              "color": "#E5ECF6",
              "width": 0.5
             },
             "pattern": {
              "fillmode": "overlay",
              "size": 10,
              "solidity": 0.2
             }
            },
            "type": "barpolar"
           }
          ],
          "carpet": [
           {
            "aaxis": {
             "endlinecolor": "#2a3f5f",
             "gridcolor": "white",
             "linecolor": "white",
             "minorgridcolor": "white",
             "startlinecolor": "#2a3f5f"
            },
            "baxis": {
             "endlinecolor": "#2a3f5f",
             "gridcolor": "white",
             "linecolor": "white",
             "minorgridcolor": "white",
             "startlinecolor": "#2a3f5f"
            },
            "type": "carpet"
           }
          ],
          "choropleth": [
           {
            "colorbar": {
             "outlinewidth": 0,
             "ticks": ""
            },
            "type": "choropleth"
           }
          ],
          "contour": [
           {
            "colorbar": {
             "outlinewidth": 0,
             "ticks": ""
            },
            "colorscale": [
             [
              0,
              "#0d0887"
             ],
             [
              0.1111111111111111,
              "#46039f"
             ],
             [
              0.2222222222222222,
              "#7201a8"
             ],
             [
              0.3333333333333333,
              "#9c179e"
             ],
             [
              0.4444444444444444,
              "#bd3786"
             ],
             [
              0.5555555555555556,
              "#d8576b"
             ],
             [
              0.6666666666666666,
              "#ed7953"
             ],
             [
              0.7777777777777778,
              "#fb9f3a"
             ],
             [
              0.8888888888888888,
              "#fdca26"
             ],
             [
              1,
              "#f0f921"
             ]
            ],
            "type": "contour"
           }
          ],
          "contourcarpet": [
           {
            "colorbar": {
             "outlinewidth": 0,
             "ticks": ""
            },
            "type": "contourcarpet"
           }
          ],
          "heatmap": [
           {
            "colorbar": {
             "outlinewidth": 0,
             "ticks": ""
            },
            "colorscale": [
             [
              0,
              "#0d0887"
             ],
             [
              0.1111111111111111,
              "#46039f"
             ],
             [
              0.2222222222222222,
              "#7201a8"
             ],
             [
              0.3333333333333333,
              "#9c179e"
             ],
             [
              0.4444444444444444,
              "#bd3786"
             ],
             [
              0.5555555555555556,
              "#d8576b"
             ],
             [
              0.6666666666666666,
              "#ed7953"
             ],
             [
              0.7777777777777778,
              "#fb9f3a"
             ],
             [
              0.8888888888888888,
              "#fdca26"
             ],
             [
              1,
              "#f0f921"
             ]
            ],
            "type": "heatmap"
           }
          ],
          "heatmapgl": [
           {
            "colorbar": {
             "outlinewidth": 0,
             "ticks": ""
            },
            "colorscale": [
             [
              0,
              "#0d0887"
             ],
             [
              0.1111111111111111,
              "#46039f"
             ],
             [
              0.2222222222222222,
              "#7201a8"
             ],
             [
              0.3333333333333333,
              "#9c179e"
             ],
             [
              0.4444444444444444,
              "#bd3786"
             ],
             [
              0.5555555555555556,
              "#d8576b"
             ],
             [
              0.6666666666666666,
              "#ed7953"
             ],
             [
              0.7777777777777778,
              "#fb9f3a"
             ],
             [
              0.8888888888888888,
              "#fdca26"
             ],
             [
              1,
              "#f0f921"
             ]
            ],
            "type": "heatmapgl"
           }
          ],
          "histogram": [
           {
            "marker": {
             "pattern": {
              "fillmode": "overlay",
              "size": 10,
              "solidity": 0.2
             }
            },
            "type": "histogram"
           }
          ],
          "histogram2d": [
           {
            "colorbar": {
             "outlinewidth": 0,
             "ticks": ""
            },
            "colorscale": [
             [
              0,
              "#0d0887"
             ],
             [
              0.1111111111111111,
              "#46039f"
             ],
             [
              0.2222222222222222,
              "#7201a8"
             ],
             [
              0.3333333333333333,
              "#9c179e"
             ],
             [
              0.4444444444444444,
              "#bd3786"
             ],
             [
              0.5555555555555556,
              "#d8576b"
             ],
             [
              0.6666666666666666,
              "#ed7953"
             ],
             [
              0.7777777777777778,
              "#fb9f3a"
             ],
             [
              0.8888888888888888,
              "#fdca26"
             ],
             [
              1,
              "#f0f921"
             ]
            ],
            "type": "histogram2d"
           }
          ],
          "histogram2dcontour": [
           {
            "colorbar": {
             "outlinewidth": 0,
             "ticks": ""
            },
            "colorscale": [
             [
              0,
              "#0d0887"
             ],
             [
              0.1111111111111111,
              "#46039f"
             ],
             [
              0.2222222222222222,
              "#7201a8"
             ],
             [
              0.3333333333333333,
              "#9c179e"
             ],
             [
              0.4444444444444444,
              "#bd3786"
             ],
             [
              0.5555555555555556,
              "#d8576b"
             ],
             [
              0.6666666666666666,
              "#ed7953"
             ],
             [
              0.7777777777777778,
              "#fb9f3a"
             ],
             [
              0.8888888888888888,
              "#fdca26"
             ],
             [
              1,
              "#f0f921"
             ]
            ],
            "type": "histogram2dcontour"
           }
          ],
          "mesh3d": [
           {
            "colorbar": {
             "outlinewidth": 0,
             "ticks": ""
            },
            "type": "mesh3d"
           }
          ],
          "parcoords": [
           {
            "line": {
             "colorbar": {
              "outlinewidth": 0,
              "ticks": ""
             }
            },
            "type": "parcoords"
           }
          ],
          "pie": [
           {
            "automargin": true,
            "type": "pie"
           }
          ],
          "scatter": [
           {
            "fillpattern": {
             "fillmode": "overlay",
             "size": 10,
             "solidity": 0.2
            },
            "type": "scatter"
           }
          ],
          "scatter3d": [
           {
            "line": {
             "colorbar": {
              "outlinewidth": 0,
              "ticks": ""
             }
            },
            "marker": {
             "colorbar": {
              "outlinewidth": 0,
              "ticks": ""
             }
            },
            "type": "scatter3d"
           }
          ],
          "scattercarpet": [
           {
            "marker": {
             "colorbar": {
              "outlinewidth": 0,
              "ticks": ""
             }
            },
            "type": "scattercarpet"
           }
          ],
          "scattergeo": [
           {
            "marker": {
             "colorbar": {
              "outlinewidth": 0,
              "ticks": ""
             }
            },
            "type": "scattergeo"
           }
          ],
          "scattergl": [
           {
            "marker": {
             "colorbar": {
              "outlinewidth": 0,
              "ticks": ""
             }
            },
            "type": "scattergl"
           }
          ],
          "scattermapbox": [
           {
            "marker": {
             "colorbar": {
              "outlinewidth": 0,
              "ticks": ""
             }
            },
            "type": "scattermapbox"
           }
          ],
          "scatterpolar": [
           {
            "marker": {
             "colorbar": {
              "outlinewidth": 0,
              "ticks": ""
             }
            },
            "type": "scatterpolar"
           }
          ],
          "scatterpolargl": [
           {
            "marker": {
             "colorbar": {
              "outlinewidth": 0,
              "ticks": ""
             }
            },
            "type": "scatterpolargl"
           }
          ],
          "scatterternary": [
           {
            "marker": {
             "colorbar": {
              "outlinewidth": 0,
              "ticks": ""
             }
            },
            "type": "scatterternary"
           }
          ],
          "surface": [
           {
            "colorbar": {
             "outlinewidth": 0,
             "ticks": ""
            },
            "colorscale": [
             [
              0,
              "#0d0887"
             ],
             [
              0.1111111111111111,
              "#46039f"
             ],
             [
              0.2222222222222222,
              "#7201a8"
             ],
             [
              0.3333333333333333,
              "#9c179e"
             ],
             [
              0.4444444444444444,
              "#bd3786"
             ],
             [
              0.5555555555555556,
              "#d8576b"
             ],
             [
              0.6666666666666666,
              "#ed7953"
             ],
             [
              0.7777777777777778,
              "#fb9f3a"
             ],
             [
              0.8888888888888888,
              "#fdca26"
             ],
             [
              1,
              "#f0f921"
             ]
            ],
            "type": "surface"
           }
          ],
          "table": [
           {
            "cells": {
             "fill": {
              "color": "#EBF0F8"
             },
             "line": {
              "color": "white"
             }
            },
            "header": {
             "fill": {
              "color": "#C8D4E3"
             },
             "line": {
              "color": "white"
             }
            },
            "type": "table"
           }
          ]
         },
         "layout": {
          "annotationdefaults": {
           "arrowcolor": "#2a3f5f",
           "arrowhead": 0,
           "arrowwidth": 1
          },
          "autotypenumbers": "strict",
          "coloraxis": {
           "colorbar": {
            "outlinewidth": 0,
            "ticks": ""
           }
          },
          "colorscale": {
           "diverging": [
            [
             0,
             "#8e0152"
            ],
            [
             0.1,
             "#c51b7d"
            ],
            [
             0.2,
             "#de77ae"
            ],
            [
             0.3,
             "#f1b6da"
            ],
            [
             0.4,
             "#fde0ef"
            ],
            [
             0.5,
             "#f7f7f7"
            ],
            [
             0.6,
             "#e6f5d0"
            ],
            [
             0.7,
             "#b8e186"
            ],
            [
             0.8,
             "#7fbc41"
            ],
            [
             0.9,
             "#4d9221"
            ],
            [
             1,
             "#276419"
            ]
           ],
           "sequential": [
            [
             0,
             "#0d0887"
            ],
            [
             0.1111111111111111,
             "#46039f"
            ],
            [
             0.2222222222222222,
             "#7201a8"
            ],
            [
             0.3333333333333333,
             "#9c179e"
            ],
            [
             0.4444444444444444,
             "#bd3786"
            ],
            [
             0.5555555555555556,
             "#d8576b"
            ],
            [
             0.6666666666666666,
             "#ed7953"
            ],
            [
             0.7777777777777778,
             "#fb9f3a"
            ],
            [
             0.8888888888888888,
             "#fdca26"
            ],
            [
             1,
             "#f0f921"
            ]
           ],
           "sequentialminus": [
            [
             0,
             "#0d0887"
            ],
            [
             0.1111111111111111,
             "#46039f"
            ],
            [
             0.2222222222222222,
             "#7201a8"
            ],
            [
             0.3333333333333333,
             "#9c179e"
            ],
            [
             0.4444444444444444,
             "#bd3786"
            ],
            [
             0.5555555555555556,
             "#d8576b"
            ],
            [
             0.6666666666666666,
             "#ed7953"
            ],
            [
             0.7777777777777778,
             "#fb9f3a"
            ],
            [
             0.8888888888888888,
             "#fdca26"
            ],
            [
             1,
             "#f0f921"
            ]
           ]
          },
          "colorway": [
           "#636efa",
           "#EF553B",
           "#00cc96",
           "#ab63fa",
           "#FFA15A",
           "#19d3f3",
           "#FF6692",
           "#B6E880",
           "#FF97FF",
           "#FECB52"
          ],
          "font": {
           "color": "#2a3f5f"
          },
          "geo": {
           "bgcolor": "white",
           "lakecolor": "white",
           "landcolor": "#E5ECF6",
           "showlakes": true,
           "showland": true,
           "subunitcolor": "white"
          },
          "hoverlabel": {
           "align": "left"
          },
          "hovermode": "closest",
          "mapbox": {
           "style": "light"
          },
          "paper_bgcolor": "white",
          "plot_bgcolor": "#E5ECF6",
          "polar": {
           "angularaxis": {
            "gridcolor": "white",
            "linecolor": "white",
            "ticks": ""
           },
           "bgcolor": "#E5ECF6",
           "radialaxis": {
            "gridcolor": "white",
            "linecolor": "white",
            "ticks": ""
           }
          },
          "scene": {
           "xaxis": {
            "backgroundcolor": "#E5ECF6",
            "gridcolor": "white",
            "gridwidth": 2,
            "linecolor": "white",
            "showbackground": true,
            "ticks": "",
            "zerolinecolor": "white"
           },
           "yaxis": {
            "backgroundcolor": "#E5ECF6",
            "gridcolor": "white",
            "gridwidth": 2,
            "linecolor": "white",
            "showbackground": true,
            "ticks": "",
            "zerolinecolor": "white"
           },
           "zaxis": {
            "backgroundcolor": "#E5ECF6",
            "gridcolor": "white",
            "gridwidth": 2,
            "linecolor": "white",
            "showbackground": true,
            "ticks": "",
            "zerolinecolor": "white"
           }
          },
          "shapedefaults": {
           "line": {
            "color": "#2a3f5f"
           }
          },
          "ternary": {
           "aaxis": {
            "gridcolor": "white",
            "linecolor": "white",
            "ticks": ""
           },
           "baxis": {
            "gridcolor": "white",
            "linecolor": "white",
            "ticks": ""
           },
           "bgcolor": "#E5ECF6",
           "caxis": {
            "gridcolor": "white",
            "linecolor": "white",
            "ticks": ""
           }
          },
          "title": {
           "x": 0.05
          },
          "xaxis": {
           "automargin": true,
           "gridcolor": "white",
           "linecolor": "white",
           "ticks": "",
           "title": {
            "standoff": 15
           },
           "zerolinecolor": "white",
           "zerolinewidth": 2
          },
          "yaxis": {
           "automargin": true,
           "gridcolor": "white",
           "linecolor": "white",
           "ticks": "",
           "title": {
            "standoff": 15
           },
           "zerolinecolor": "white",
           "zerolinewidth": 2
          }
         }
        },
        "title": {
         "text": "Scatter Plot"
        },
        "xaxis": {
         "anchor": "y",
         "domain": [
          0,
          1
         ],
         "showgrid": false,
         "title": {
          "text": "Rainfall"
         }
        },
        "yaxis": {
         "anchor": "x",
         "domain": [
          0,
          1
         ],
         "showgrid": false,
         "title": {
          "text": "Temperature"
         }
        }
       }
      }
     },
     "metadata": {},
     "output_type": "display_data"
    }
   ],
   "source": [
    "crop_scatter = df[(df['Crop']=='Cotton') | \n",
    "                      (df['Crop']=='Ginger') | \n",
    "                      (df['Crop']=='Gram') |\n",
    "                     (df['Crop']=='Grapes') |\n",
    "                     (df['Crop']=='Groundnut')|\n",
    "                     (df['Crop']=='Jowar')|\n",
    "                     (df['Crop']=='Maize')|\n",
    "                     (df['Crop']=='Masoor')|\n",
    "                     (df['Crop']=='Rice')|\n",
    "                     (df['Crop']=='Soyabean')|\n",
    "                     (df['Crop']=='Sugarcane')|\n",
    "                     (df['Crop']=='Tur')|\n",
    "                     (df['Crop']=='Turmeric')|\n",
    "                     (df['Crop']=='Urad')|\n",
    "                     (df['Crop']=='Wheat')|\n",
    "                     (df['Crop']=='Moong')]\n",
    "\n",
    "fig = px.scatter(crop_scatter, x=\"Rainfall\", y=\"Temperature\", color=\"Crop\", symbol=\"Crop\")\n",
    "fig.update_layout(title=\"Scatter Plot\", plot_bgcolor='white')\n",
    "fig.update_xaxes(showgrid=False)\n",
    "fig.update_yaxes(showgrid=False)\n",
    "\n",
    "fig.show()"
   ]
  },
  {
   "cell_type": "code",
   "execution_count": 33,
   "id": "9a14506c",
   "metadata": {
    "execution": {
     "iopub.execute_input": "2023-06-20T11:09:17.599497Z",
     "iopub.status.busy": "2023-06-20T11:09:17.599108Z",
     "iopub.status.idle": "2023-06-20T11:09:18.162492Z",
     "shell.execute_reply": "2023-06-20T11:09:18.16119Z",
     "shell.execute_reply.started": "2023-06-20T11:09:17.599466Z"
    }
   },
   "outputs": [],
   "source": [
    "# Making a heatmap of the dataset correlation : including only numerical data\n",
    "linewidth = 2\n",
    "linecolor = \"black\"\n",
    "\n",
    "sns.heatmap(data=df.select_dtypes(include='number').corr(),\n",
    "            annot=True, \n",
    "            linewidth = linewidth, \n",
    "            linecolor = linecolor)"
   ]
  },
  {
   "cell_type": "code",
   "execution_count": null,
   "id": "d7437275",
   "metadata": {
    "execution": {
     "iopub.execute_input": "2023-06-20T11:09:18.164583Z",
     "iopub.status.busy": "2023-06-20T11:09:18.164115Z",
     "iopub.status.idle": "2023-06-20T11:09:18.176354Z",
     "shell.execute_reply": "2023-06-20T11:09:18.175123Z",
     "shell.execute_reply.started": "2023-06-20T11:09:18.164544Z"
    }
   },
   "outputs": [],
   "source": [
    "from sklearn.model_selection import train_test_split\n",
    "features = df[['Nitrogen', 'Phosphorus', 'Potassium', 'pH', 'Rainfall', 'Temperature']]\n",
    "target = df['Crop']\n",
    "\n",
    "xtrain, xtest, ytrain, ytest = train_test_split(features,\n",
    "                                                target,\n",
    "                                                test_size = 0.2,\n",
    "                                                random_state = None)"
   ]
  },
  {
   "cell_type": "code",
   "execution_count": null,
   "id": "f03c6f52",
   "metadata": {
    "execution": {
     "iopub.execute_input": "2023-06-20T11:09:18.178881Z",
     "iopub.status.busy": "2023-06-20T11:09:18.178098Z",
     "iopub.status.idle": "2023-06-20T11:09:18.187154Z",
     "shell.execute_reply": "2023-06-20T11:09:18.185838Z",
     "shell.execute_reply.started": "2023-06-20T11:09:18.178832Z"
    }
   },
   "outputs": [],
   "source": [
    "# Defining a dictionary such that key = modelname and value = accuracy of the model\n",
    "best_model = {}"
   ]
  },
  {
   "cell_type": "markdown",
   "id": "32b46a67",
   "metadata": {},
   "source": [
    "<h3>Cross Validation Accuracy</h3>"
   ]
  },
  {
   "cell_type": "code",
   "execution_count": null,
   "id": "1e2abc6f",
   "metadata": {
    "execution": {
     "iopub.execute_input": "2023-06-20T11:09:18.191827Z",
     "iopub.status.busy": "2023-06-20T11:09:18.191466Z",
     "iopub.status.idle": "2023-06-20T11:09:18.198894Z",
     "shell.execute_reply": "2023-06-20T11:09:18.197294Z",
     "shell.execute_reply.started": "2023-06-20T11:09:18.1918Z"
    }
   },
   "outputs": [],
   "source": [
    "from sklearn.model_selection import cross_val_score\n",
    "\n",
    "def cross_val_accuracy(model):\n",
    "    # This function calculates the mean cross validation accuracy\n",
    "    score = cross_val_score(model, features, target,cv=5)\n",
    "    #get the mean of each fold \n",
    "    return score.mean() * 100"
   ]
  },
  {
   "cell_type": "markdown",
   "id": "8395a959",
   "metadata": {},
   "source": [
    "<h3>Saving the models 📦</h3>"
   ]
  },
  {
   "cell_type": "code",
   "execution_count": null,
   "id": "b52db7cd",
   "metadata": {
    "execution": {
     "iopub.execute_input": "2023-06-20T11:09:18.201172Z",
     "iopub.status.busy": "2023-06-20T11:09:18.200812Z",
     "iopub.status.idle": "2023-06-20T11:09:18.214051Z",
     "shell.execute_reply": "2023-06-20T11:09:18.21296Z",
     "shell.execute_reply.started": "2023-06-20T11:09:18.201137Z"
    }
   },
   "outputs": [],
   "source": [
    "import pickle\n",
    "\n",
    "def save_model(model, modelname):\n",
    "    #This function expects a model and a modelname(with .pkl extension)\n",
    "    # Setting model path\n",
    "    pkl_filename = 'D:\\PBL\\\\models\\\\'+modelname\n",
    "    # Open the file to save as pkl file\n",
    "    model_pkl = open(pkl_filename, 'wb')\n",
    "    #dump model\n",
    "    pickle.dump(model, model_pkl)\n",
    "    # Close the pickle instances\n",
    "    model_pkl.close()"
   ]
  },
  {
   "cell_type": "markdown",
   "id": "efcb4f11",
   "metadata": {},
   "source": [
    "<h3>Random Forest</h3>"
   ]
  },
  {
   "cell_type": "code",
   "execution_count": null,
   "id": "5e9778de",
   "metadata": {
    "execution": {
     "iopub.execute_input": "2023-06-20T11:09:20.434949Z",
     "iopub.status.busy": "2023-06-20T11:09:20.434634Z",
     "iopub.status.idle": "2023-06-20T11:09:20.564902Z",
     "shell.execute_reply": "2023-06-20T11:09:20.563712Z",
     "shell.execute_reply.started": "2023-06-20T11:09:20.434923Z"
    }
   },
   "outputs": [
    {
     "name": "stdout",
     "output_type": "stream",
     "text": [
      "Accuracy: 0.973421926910299\n",
      "\n",
      "{'Random Forest': 97.34219269102991}\n"
     ]
    }
   ],
   "source": [
    "from sklearn.ensemble import RandomForestClassifier\n",
    "\n",
    "RandomForest = RandomForestClassifier(n_estimators=20, random_state=None)\n",
    "\n",
    "# Fitting the training set to create a model\n",
    "RandomForest.fit(xtrain,ytrain)\n",
    "# Using test(x) to find y\n",
    "ypred = RandomForest.predict(xtest)\n",
    "\n",
    "accuracy = metrics.accuracy_score(ypred, ytest)\n",
    "print(f\"Accuracy: {accuracy}\",end='\\n\\n')\n",
    "\n",
    "# Adding the model to our dictionary\n",
    "best_model[\"Random Forest\"] = accuracy*100\n",
    "print(best_model)"
   ]
  },
  {
   "cell_type": "code",
   "execution_count": null,
   "id": "51b2ba82",
   "metadata": {
    "execution": {
     "iopub.execute_input": "2023-06-20T11:09:21.118819Z",
     "iopub.status.busy": "2023-06-20T11:09:21.118445Z",
     "iopub.status.idle": "2023-06-20T11:09:21.126922Z",
     "shell.execute_reply": "2023-06-20T11:09:21.125671Z",
     "shell.execute_reply.started": "2023-06-20T11:09:21.118789Z"
    }
   },
   "outputs": [],
   "source": [
    "save_model(RandomForest,'RandomForest.pkl')"
   ]
  },
  {
   "cell_type": "markdown",
   "id": "e8bde691",
   "metadata": {},
   "source": [
    "<h3>Support Vector Machine</h3>"
   ]
  },
  {
   "cell_type": "code",
   "execution_count": null,
   "id": "f18a17d8",
   "metadata": {
    "execution": {
     "iopub.execute_input": "2023-06-20T11:09:21.260649Z",
     "iopub.status.busy": "2023-06-20T11:09:21.260067Z",
     "iopub.status.idle": "2023-06-20T11:09:21.311389Z",
     "shell.execute_reply": "2023-06-20T11:09:21.310111Z",
     "shell.execute_reply.started": "2023-06-20T11:09:21.260616Z"
    }
   },
   "outputs": [
    {
     "name": "stdout",
     "output_type": "stream",
     "text": [
      "Accuracy: 0.9147286821705426\n",
      "\n",
      "{'Random Forest': 97.34219269102991, 'SVM': 91.47286821705426}\n"
     ]
    }
   ],
   "source": [
    "from sklearn.svm import SVC\n",
    "from sklearn.preprocessing import MinMaxScaler\n",
    "\n",
    "# fit scaler on training data\n",
    "norm = MinMaxScaler().fit(xtrain)\n",
    "x_train_norm = norm.transform(xtrain)\n",
    "# transform testing dataabs\n",
    "x_test_norm = norm.transform(xtest)\n",
    "SVM = SVC(kernel='poly', degree=3, C=1)\n",
    "SVM.fit(x_train_norm,ytrain)\n",
    "ypred = SVM.predict(x_test_norm)\n",
    "\n",
    "accuracy = metrics.accuracy_score(ytest, ypred)\n",
    "print(f\"Accuracy: {accuracy}\",end='\\n\\n')\n",
    "\n",
    "# Adding the model to our dictionary\n",
    "best_model[\"SVM\"] = accuracy*100\n",
    "print(best_model)"
   ]
  },
  {
   "cell_type": "code",
   "execution_count": null,
   "id": "2e9fd36d",
   "metadata": {
    "execution": {
     "iopub.execute_input": "2023-06-20T11:09:21.544145Z",
     "iopub.status.busy": "2023-06-20T11:09:21.543803Z",
     "iopub.status.idle": "2023-06-20T11:09:21.549973Z",
     "shell.execute_reply": "2023-06-20T11:09:21.548908Z",
     "shell.execute_reply.started": "2023-06-20T11:09:21.544117Z"
    }
   },
   "outputs": [],
   "source": [
    "save_model(SVM,'SVM.pkl')"
   ]
  },
  {
   "cell_type": "markdown",
   "id": "dbe76503",
   "metadata": {},
   "source": [
    "<h3> Comparing all models 📊 </h3>"
   ]
  },
  {
   "cell_type": "code",
   "execution_count": null,
   "id": "cd6427c8",
   "metadata": {
    "execution": {
     "iopub.execute_input": "2023-06-20T11:14:51.005741Z",
     "iopub.status.busy": "2023-06-20T11:14:51.005292Z",
     "iopub.status.idle": "2023-06-20T11:14:51.314914Z",
     "shell.execute_reply": "2023-06-20T11:14:51.313573Z",
     "shell.execute_reply.started": "2023-06-20T11:14:51.005709Z"
    }
   },
   "outputs": [
    {
     "data": {
      "image/png": "[encoded data removed]",
      "text/plain": [
       "<Figure size 640x480 with 1 Axes>"
      ]
     },
     "metadata": {},
     "output_type": "display_data"
    }
   ],
   "source": [
    "# Extract model names and accuracies from the best_model dictionary\n",
    "accuracies = list(best_model.values())\n",
    "model_names = list(best_model.keys())\n",
    "\n",
    "# Create a bar plot using seaborn\n",
    "sns.barplot(x=accuracies, y=model_names)\n",
    "plt.xlabel('Model')\n",
    "plt.ylabel('Accuracy')\n",
    "plt.title('Model Accuracies')\n",
    "plt.show()\n"
   ]
  },
  {
   "cell_type": "code",
   "execution_count": null,
   "id": "f8c7a267",
   "metadata": {
    "execution": {
     "iopub.execute_input": "2023-06-20T11:14:57.471305Z",
     "iopub.status.busy": "2023-06-20T11:14:57.470874Z",
     "iopub.status.idle": "2023-06-20T11:14:57.480007Z",
     "shell.execute_reply": "2023-06-20T11:14:57.47847Z",
     "shell.execute_reply.started": "2023-06-20T11:14:57.471275Z"
    }
   },
   "outputs": [
    {
     "name": "stdout",
     "output_type": "stream",
     "text": [
      "Random Forest: 97.34219269102991\n",
      "SVM: 91.47286821705426\n"
     ]
    }
   ],
   "source": [
    "# Sort the dictionary items by values in descending order\n",
    "sorted_items = sorted(best_model.items(), key=lambda x: x[1], reverse=True)\n",
    "\n",
    "# Print the keys and values in descending order\n",
    "for key, value in sorted_items:\n",
    "    print(f\"{key}: {value}\")"
   ]
  },
  {
   "cell_type": "code",
   "execution_count": null,
   "id": "57e02dab",
   "metadata": {
    "execution": {
     "iopub.execute_input": "2023-06-20T11:15:02.866022Z",
     "iopub.status.busy": "2023-06-20T11:15:02.865577Z",
     "iopub.status.idle": "2023-06-20T11:15:02.873886Z",
     "shell.execute_reply": "2023-06-20T11:15:02.872033Z",
     "shell.execute_reply.started": "2023-06-20T11:15:02.865988Z"
    }
   },
   "outputs": [
    {
     "name": "stdout",
     "output_type": "stream",
     "text": [
      "Key: Random Forest, Value: 97.34219269102991\n"
     ]
    }
   ],
   "source": [
    "max_key = max(best_model, key=best_model.get)\n",
    "max_value = best_model[max_key]\n",
    "\n",
    "print(f\"Key: {max_key}, Value: {max_value}\")"
   ]
  },
  {
   "cell_type": "code",
   "execution_count": null,
   "id": "167e4bda",
   "metadata": {},
   "outputs": [],
   "source": [
    "import pickle\n",
    "pickle.dump(RandomForest, open('modelCrop.pkl','wb'))"
   ]
  },
  {
   "cell_type": "markdown",
   "id": "88a8e324",
   "metadata": {},
   "source": [
    "<h3> Using the model 🦾 </h3>"
   ]
  },
  {
   "cell_type": "code",
   "execution_count": null,
   "id": "854a08a8",
   "metadata": {
    "execution": {
     "iopub.execute_input": "2023-06-20T11:10:10.584579Z",
     "iopub.status.busy": "2023-06-20T11:10:10.583999Z",
     "iopub.status.idle": "2023-06-20T11:10:10.604964Z",
     "shell.execute_reply": "2023-06-20T11:10:10.603213Z",
     "shell.execute_reply.started": "2023-06-20T11:10:10.58454Z"
    }
   },
   "outputs": [],
   "source": [
    "def recommendation(N, P, K, pH, Rainfall, Temperature, feature_names, model, dataset):\n",
    "    \n",
    "    data = pd.DataFrame([[N, P, K, pH, Rainfall, Temperature]], columns=feature_names)\n",
    "    # Use the model to make predictions\n",
    "    fertilizer_prediction = model.predict(data)\n",
    "    print(\"Predicted Fertilizer Index:\", fertilizer_prediction)\n",
    "\n",
    "    predicted_fertilizer = fertilizer_prediction[0]\n",
    "\n",
    "    filtered_data = dataset[dataset['Fertilizer'] == predicted_fertilizer]\n",
    "    if not filtered_data.empty:\n",
    "        predicted_crop = filtered_data['Crop'].values[0]\n",
    "        recommended_fertilizer = filtered_data['Fertilizer'].values[0]\n",
    "    else:\n",
    "        predicted_crop = \"Unknown Crop\"\n",
    "        recommended_fertilizer = \"Unknown Fertilizer\"\n",
    "    \n",
    "    return predicted_fertilizer, predicted_crop, recommended_fertilizer"
   ]
  },
  {
   "cell_type": "code",
   "execution_count": null,
   "id": "b35e2ccf",
   "metadata": {},
   "outputs": [],
   "source": []
  }
 ],
 "metadata": {
  "kernelspec": {
   "display_name": "Python 3 (ipykernel)",
   "language": "python",
   "name": "python3"
  },
  "language_info": {
   "codemirror_mode": {
    "name": "ipython",
    "version": 3
   },
   "file_extension": ".py",
   "mimetype": "text/x-python",
   "name": "python",
   "nbconvert_exporter": "python",
   "pygments_lexer": "ipython3",
   "version": "3.10.9"
  }
 },
 "nbformat": 4,
 "nbformat_minor": 5
}
